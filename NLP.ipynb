{
 "cells": [
  {
   "cell_type": "code",
   "execution_count": 1,
   "metadata": {},
   "outputs": [],
   "source": [
    "import numpy as np\n",
    "import pandas as pd\n",
    "import spacy\n",
    "import matplotlib.pyplot as plt \n",
    "import seaborn as sns\n",
    "import nltk"
   ]
  },
  {
   "cell_type": "code",
   "execution_count": 2,
   "metadata": {},
   "outputs": [],
   "source": [
    "textfiles = \"C:\\\\workspace\\\\studyvideo\\\\Natural Language Processing with Python\\\\1. Introduction\\\\5.1 UPDATED_NLP_COURSE.zip\\\\UPDATED_NLP_COURSE\\\\TextFiles\""
   ]
  },
  {
   "cell_type": "code",
   "execution_count": 3,
   "metadata": {},
   "outputs": [],
   "source": [
    "import os\n",
    "movie_rw = os.path.join(textfiles,'moviereviews.tsv')\n",
    "mr_data=pd.read_csv(movie_rw,sep=\"\\t\")"
   ]
  },
  {
   "cell_type": "code",
   "execution_count": 4,
   "metadata": {},
   "outputs": [
    {
     "data": {
      "text/html": [
       "<div>\n",
       "<style scoped>\n",
       "    .dataframe tbody tr th:only-of-type {\n",
       "        vertical-align: middle;\n",
       "    }\n",
       "\n",
       "    .dataframe tbody tr th {\n",
       "        vertical-align: top;\n",
       "    }\n",
       "\n",
       "    .dataframe thead th {\n",
       "        text-align: right;\n",
       "    }\n",
       "</style>\n",
       "<table border=\"1\" class=\"dataframe\">\n",
       "  <thead>\n",
       "    <tr style=\"text-align: right;\">\n",
       "      <th></th>\n",
       "      <th>label</th>\n",
       "      <th>review</th>\n",
       "    </tr>\n",
       "  </thead>\n",
       "  <tbody>\n",
       "    <tr>\n",
       "      <th>0</th>\n",
       "      <td>neg</td>\n",
       "      <td>how do films like mouse hunt get into theatres...</td>\n",
       "    </tr>\n",
       "    <tr>\n",
       "      <th>1</th>\n",
       "      <td>neg</td>\n",
       "      <td>some talented actresses are blessed with a dem...</td>\n",
       "    </tr>\n",
       "    <tr>\n",
       "      <th>2</th>\n",
       "      <td>pos</td>\n",
       "      <td>this has been an extraordinary year for austra...</td>\n",
       "    </tr>\n",
       "    <tr>\n",
       "      <th>3</th>\n",
       "      <td>pos</td>\n",
       "      <td>according to hollywood movies made in last few...</td>\n",
       "    </tr>\n",
       "    <tr>\n",
       "      <th>4</th>\n",
       "      <td>neg</td>\n",
       "      <td>my first press screening of 1998 and already i...</td>\n",
       "    </tr>\n",
       "  </tbody>\n",
       "</table>\n",
       "</div>"
      ],
      "text/plain": [
       "  label                                             review\n",
       "0   neg  how do films like mouse hunt get into theatres...\n",
       "1   neg  some talented actresses are blessed with a dem...\n",
       "2   pos  this has been an extraordinary year for austra...\n",
       "3   pos  according to hollywood movies made in last few...\n",
       "4   neg  my first press screening of 1998 and already i..."
      ]
     },
     "execution_count": 4,
     "metadata": {},
     "output_type": "execute_result"
    }
   ],
   "source": [
    "mr_data.head()"
   ]
  },
  {
   "cell_type": "code",
   "execution_count": 5,
   "metadata": {},
   "outputs": [
    {
     "data": {
      "text/plain": [
       "2000"
      ]
     },
     "execution_count": 5,
     "metadata": {},
     "output_type": "execute_result"
    }
   ],
   "source": [
    "len(mr_data)"
   ]
  },
  {
   "cell_type": "code",
   "execution_count": 7,
   "metadata": {},
   "outputs": [
    {
     "data": {
      "text/markdown": [
       "> how do films like mouse hunt get into theatres ? \r\n",
       "isn't there a law or something ? \r\n",
       "this diabolical load of claptrap from steven speilberg's dreamworks studio is hollywood family fare at its deadly worst . \r\n",
       "mouse hunt takes the bare threads of a plot and tries to prop it up with overacting and flat-out stupid slapstick that makes comedies like jingle all the way look decent by comparison . \r\n",
       "writer adam rifkin and director gore verbinski are the names chiefly responsible for this swill . \r\n",
       "the plot , for what its worth , concerns two brothers ( nathan lane and an appalling lee evens ) who inherit a poorly run string factory and a seemingly worthless house from their eccentric father . \r\n",
       "deciding to check out the long-abandoned house , they soon learn that it's worth a fortune and set about selling it in auction to the highest bidder . \r\n",
       "but battling them at every turn is a very smart mouse , happy with his run-down little abode and wanting it to stay that way . \r\n",
       "the story alternates between unfunny scenes of the brothers bickering over what to do with their inheritance and endless action sequences as the two take on their increasingly determined furry foe . \r\n",
       "whatever promise the film starts with soon deteriorates into boring dialogue , terrible overacting , and increasingly uninspired slapstick that becomes all sound and fury , signifying nothing . \r\n",
       "the script becomes so unspeakably bad that the best line poor lee evens can utter after another run in with the rodent is : \" i hate that mouse \" . \r\n",
       "oh cringe ! \r\n",
       "this is home alone all over again , and ten times worse . \r\n",
       "one touching scene early on is worth mentioning . \r\n",
       "we follow the mouse through a maze of walls and pipes until he arrives at his makeshift abode somewhere in a wall . \r\n",
       "he jumps into a tiny bed , pulls up a makeshift sheet and snuggles up to sleep , seemingly happy and just wanting to be left alone . \r\n",
       "it's a magical little moment in an otherwise soulless film . \r\n",
       "a message to speilberg : if you want dreamworks to be associated with some kind of artistic credibility , then either give all concerned in mouse hunt a swift kick up the arse or hire yourself some decent writers and directors . \r\n",
       "this kind of rubbish will just not do at all . \r\n"
      ],
      "text/plain": [
       "<IPython.core.display.Markdown object>"
      ]
     },
     "metadata": {},
     "output_type": "display_data"
    }
   ],
   "source": [
    "from IPython.display import Markdown, display\n",
    "display(Markdown('> '+mr_data['review'][0]))"
   ]
  },
  {
   "cell_type": "code",
   "execution_count": 9,
   "metadata": {},
   "outputs": [
    {
     "data": {
      "text/plain": [
       "label      0\n",
       "review    35\n",
       "dtype: int64"
      ]
     },
     "execution_count": 9,
     "metadata": {},
     "output_type": "execute_result"
    }
   ],
   "source": [
    "mr_data.isnull().sum()"
   ]
  },
  {
   "cell_type": "code",
   "execution_count": 10,
   "metadata": {},
   "outputs": [],
   "source": [
    "mr_data.dropna(inplace=True)"
   ]
  },
  {
   "cell_type": "code",
   "execution_count": 11,
   "metadata": {},
   "outputs": [
    {
     "data": {
      "text/plain": [
       "label     0\n",
       "review    0\n",
       "dtype: int64"
      ]
     },
     "execution_count": 11,
     "metadata": {},
     "output_type": "execute_result"
    }
   ],
   "source": [
    "mr_data.isnull().sum()"
   ]
  },
  {
   "cell_type": "code",
   "execution_count": 12,
   "metadata": {},
   "outputs": [
    {
     "data": {
      "text/plain": [
       "1965"
      ]
     },
     "execution_count": 12,
     "metadata": {},
     "output_type": "execute_result"
    }
   ],
   "source": [
    "len(mr_data)"
   ]
  },
  {
   "cell_type": "code",
   "execution_count": 17,
   "metadata": {},
   "outputs": [
    {
     "name": "stdout",
     "output_type": "stream",
     "text": [
      "0 --- neg --- how do films like mouse hunt get into theatres ? \r\n"
     ]
    }
   ],
   "source": [
    "for i,j,k in list(mr_data.itertuples()):\n",
    "    print(i,\"---\",j,\"---\",k[:50])\n",
    "    break"
   ]
  },
  {
   "cell_type": "code",
   "execution_count": 19,
   "metadata": {},
   "outputs": [
    {
     "name": "stdout",
     "output_type": "stream",
     "text": [
      "27 blanks:  [57, 71, 147, 151, 283, 307, 313, 323, 343, 351, 427, 501, 633, 675, 815, 851, 977, 1079, 1299, 1455, 1493, 1525, 1531, 1763, 1851, 1905, 1993]\n"
     ]
    }
   ],
   "source": [
    "blanks = []  # start with an empty list\n",
    "\n",
    "for i,lb,rv in mr_data.itertuples():  # iterate over the DataFrame\n",
    "    if type(rv)==str:            # avoid NaN values\n",
    "        if rv.isspace():         # test 'review' for whitespace\n",
    "            blanks.append(i)     # add matching index numbers to the list\n",
    "        \n",
    "print(len(blanks), 'blanks: ', blanks)"
   ]
  },
  {
   "cell_type": "code",
   "execution_count": 20,
   "metadata": {},
   "outputs": [
    {
     "data": {
      "text/plain": [
       "1938"
      ]
     },
     "execution_count": 20,
     "metadata": {},
     "output_type": "execute_result"
    }
   ],
   "source": [
    "mr_data.drop(blanks, inplace=True)\n",
    "\n",
    "len(mr_data)"
   ]
  },
  {
   "cell_type": "code",
   "execution_count": 21,
   "metadata": {},
   "outputs": [
    {
     "data": {
      "text/plain": [
       "neg    969\n",
       "pos    969\n",
       "Name: label, dtype: int64"
      ]
     },
     "execution_count": 21,
     "metadata": {},
     "output_type": "execute_result"
    }
   ],
   "source": [
    "mr_data['label'].value_counts()"
   ]
  },
  {
   "cell_type": "code",
   "execution_count": 22,
   "metadata": {},
   "outputs": [],
   "source": [
    "from sklearn.model_selection import train_test_split\n",
    "from sklearn.metrics import accuracy_score,classification_report,confusion_matrix"
   ]
  },
  {
   "cell_type": "code",
   "execution_count": 23,
   "metadata": {},
   "outputs": [],
   "source": [
    "X=mr_data['review']\n",
    "y=mr_data['label']\n",
    "X_train, X_test, y_train, y_test = train_test_split(X, y, test_size=0.33, random_state=42)"
   ]
  },
  {
   "cell_type": "code",
   "execution_count": 24,
   "metadata": {},
   "outputs": [],
   "source": [
    "from sklearn.feature_extraction.text import TfidfVectorizer,CountVectorizer\n",
    "from sklearn.svm import LinearSVC\n",
    "from sklearn.naive_bayes import MultinomialNB\n",
    "from sklearn.pipeline import Pipeline"
   ]
  },
  {
   "cell_type": "code",
   "execution_count": 25,
   "metadata": {},
   "outputs": [],
   "source": [
    "text_clf_mnb = Pipeline(\n",
    "    [('tfidf', TfidfVectorizer()),\n",
    "     ('clf', MultinomialNB())\n",
    "    ]\n",
    ")\n",
    "\n",
    "text_clf_lsvc = Pipeline(\n",
    "    [('tfidf', TfidfVectorizer()),\n",
    "     ('clf', LinearSVC())\n",
    "    ]\n",
    ")\n"
   ]
  },
  {
   "cell_type": "code",
   "execution_count": 26,
   "metadata": {},
   "outputs": [
    {
     "data": {
      "text/plain": [
       "Pipeline(memory=None,\n",
       "     steps=[('tfidf', TfidfVectorizer(analyzer='word', binary=False, decode_error='strict',\n",
       "        dtype=<class 'numpy.float64'>, encoding='utf-8', input='content',\n",
       "        lowercase=True, max_df=1.0, max_features=None, min_df=1,\n",
       "        ngram_range=(1, 1), norm='l2', preprocessor=None, smooth_idf=True,...rue,\n",
       "        vocabulary=None)), ('clf', MultinomialNB(alpha=1.0, class_prior=None, fit_prior=True))])"
      ]
     },
     "execution_count": 26,
     "metadata": {},
     "output_type": "execute_result"
    }
   ],
   "source": [
    "text_clf_mnb.fit(X_train, y_train)"
   ]
  },
  {
   "cell_type": "code",
   "execution_count": 27,
   "metadata": {},
   "outputs": [],
   "source": [
    "mnb_pred = text_clf_mnb.predict(X_test)"
   ]
  },
  {
   "cell_type": "code",
   "execution_count": 29,
   "metadata": {},
   "outputs": [],
   "source": [
    "def pred_report(y_test,y_pred):\n",
    "    print (\"\"\"\n",
    "    Classification Report :\\n {0}\n",
    "    Confusion Matrix      :\\n {1}\n",
    "    Accuracy              : {2}\n",
    "    \"\"\" .format(classification_report(y_test,y_pred),confusion_matrix(y_test,y_pred),accuracy_score(y_test,y_pred)))"
   ]
  },
  {
   "cell_type": "code",
   "execution_count": 30,
   "metadata": {},
   "outputs": [
    {
     "name": "stdout",
     "output_type": "stream",
     "text": [
      "\n",
      "    Classification Report :\n",
      "               precision    recall  f1-score   support\n",
      "\n",
      "         neg       0.69      0.93      0.79       308\n",
      "         pos       0.91      0.61      0.73       332\n",
      "\n",
      "   micro avg       0.76      0.76      0.76       640\n",
      "   macro avg       0.80      0.77      0.76       640\n",
      "weighted avg       0.80      0.76      0.76       640\n",
      "\n",
      "    Confusion Matrix      :\n",
      " [[287  21]\n",
      " [130 202]]\n",
      "    Accuracy              : 0.7640625\n",
      "    \n"
     ]
    }
   ],
   "source": [
    "pred_report(y_test,mnb_pred)"
   ]
  },
  {
   "cell_type": "code",
   "execution_count": 31,
   "metadata": {},
   "outputs": [
    {
     "data": {
      "text/plain": [
       "Pipeline(memory=None,\n",
       "     steps=[('tfidf', TfidfVectorizer(analyzer='word', binary=False, decode_error='strict',\n",
       "        dtype=<class 'numpy.float64'>, encoding='utf-8', input='content',\n",
       "        lowercase=True, max_df=1.0, max_features=None, min_df=1,\n",
       "        ngram_range=(1, 1), norm='l2', preprocessor=None, smooth_idf=True,...ax_iter=1000,\n",
       "     multi_class='ovr', penalty='l2', random_state=None, tol=0.0001,\n",
       "     verbose=0))])"
      ]
     },
     "execution_count": 31,
     "metadata": {},
     "output_type": "execute_result"
    }
   ],
   "source": [
    "text_clf_lsvc.fit(X_train, y_train)"
   ]
  },
  {
   "cell_type": "code",
   "execution_count": 32,
   "metadata": {},
   "outputs": [],
   "source": [
    "lsvc_pred = text_clf_lsvc.predict(X_test)"
   ]
  },
  {
   "cell_type": "code",
   "execution_count": 33,
   "metadata": {},
   "outputs": [
    {
     "name": "stdout",
     "output_type": "stream",
     "text": [
      "\n",
      "    Classification Report :\n",
      "               precision    recall  f1-score   support\n",
      "\n",
      "         neg       0.84      0.84      0.84       308\n",
      "         pos       0.85      0.85      0.85       332\n",
      "\n",
      "   micro avg       0.85      0.85      0.85       640\n",
      "   macro avg       0.85      0.85      0.85       640\n",
      "weighted avg       0.85      0.85      0.85       640\n",
      "\n",
      "    Confusion Matrix      :\n",
      " [[259  49]\n",
      " [ 49 283]]\n",
      "    Accuracy              : 0.846875\n",
      "    \n"
     ]
    }
   ],
   "source": [
    "pred_report(y_test,lsvc_pred)"
   ]
  },
  {
   "cell_type": "markdown",
   "metadata": {},
   "source": [
    "### Check with stop words"
   ]
  },
  {
   "cell_type": "code",
   "execution_count": 34,
   "metadata": {},
   "outputs": [],
   "source": [
    "stopwords = ['a', 'about', 'an', 'and', 'are', 'as', 'at', 'be', 'been', 'but', 'by', 'can', \\\n",
    "             'even', 'ever', 'for', 'from', 'get', 'had', 'has', 'have', 'he', 'her', 'hers', 'his', \\\n",
    "             'how', 'i', 'if', 'in', 'into', 'is', 'it', 'its', 'just', 'me', 'my', 'of', 'on', 'or', \\\n",
    "             'see', 'seen', 'she', 'so', 'than', 'that', 'the', 'their', 'there', 'they', 'this', \\\n",
    "             'to', 'was', 'we', 'were', 'what', 'when', 'which', 'who', 'will', 'with', 'you']"
   ]
  },
  {
   "cell_type": "code",
   "execution_count": 35,
   "metadata": {},
   "outputs": [],
   "source": [
    "text_clf_lsvc_sw = Pipeline(\n",
    "    [('tfidf', TfidfVectorizer(stop_words=stopwords)),\n",
    "     ('clf', LinearSVC())\n",
    "    ]\n",
    ")\n"
   ]
  },
  {
   "cell_type": "code",
   "execution_count": 36,
   "metadata": {},
   "outputs": [
    {
     "data": {
      "text/plain": [
       "Pipeline(memory=None,\n",
       "     steps=[('tfidf', TfidfVectorizer(analyzer='word', binary=False, decode_error='strict',\n",
       "        dtype=<class 'numpy.float64'>, encoding='utf-8', input='content',\n",
       "        lowercase=True, max_df=1.0, max_features=None, min_df=1,\n",
       "        ngram_range=(1, 1), norm='l2', preprocessor=None, smooth_idf=True,...ax_iter=1000,\n",
       "     multi_class='ovr', penalty='l2', random_state=None, tol=0.0001,\n",
       "     verbose=0))])"
      ]
     },
     "execution_count": 36,
     "metadata": {},
     "output_type": "execute_result"
    }
   ],
   "source": [
    "text_clf_lsvc_sw.fit(X_train, y_train)"
   ]
  },
  {
   "cell_type": "code",
   "execution_count": 37,
   "metadata": {},
   "outputs": [
    {
     "name": "stdout",
     "output_type": "stream",
     "text": [
      "\n",
      "    Classification Report :\n",
      "               precision    recall  f1-score   support\n",
      "\n",
      "         neg       0.84      0.83      0.84       308\n",
      "         pos       0.85      0.86      0.85       332\n",
      "\n",
      "   micro avg       0.84      0.84      0.84       640\n",
      "   macro avg       0.84      0.84      0.84       640\n",
      "weighted avg       0.84      0.84      0.84       640\n",
      "\n",
      "    Confusion Matrix      :\n",
      " [[256  52]\n",
      " [ 48 284]]\n",
      "    Accuracy              : 0.84375\n",
      "    \n"
     ]
    }
   ],
   "source": [
    "lsvc_sw_pred = text_clf_lsvc_sw.predict(X_test)\n",
    "pred_report(y_test,lsvc_sw_pred)"
   ]
  },
  {
   "cell_type": "code",
   "execution_count": 40,
   "metadata": {},
   "outputs": [
    {
     "name": "stdout",
     "output_type": "stream",
     "text": [
      "Naive Bayes               :  ['neg']\n",
      "Linear SVM                :  ['neg']\n",
      "Linear SVM with Stopwords :  ['neg']\n"
     ]
    }
   ],
   "source": [
    "movie_reviews = \"This movie indeed sucks!!! no other words!!!\"\n",
    "print(\"Naive Bayes               : \",text_clf_mnb.predict([movie_reviews]))\n",
    "print(\"Linear SVM                : \",text_clf_lsvc.predict([movie_reviews]))\n",
    "print(\"Linear SVM with Stopwords : \",text_clf_lsvc_sw.predict([movie_reviews]))"
   ]
  },
  {
   "cell_type": "code",
   "execution_count": 41,
   "metadata": {},
   "outputs": [
    {
     "name": "stdout",
     "output_type": "stream",
     "text": [
      "Naive Bayes               :  ['pos']\n",
      "Linear SVM                :  ['neg']\n",
      "Linear SVM with Stopwords :  ['pos']\n"
     ]
    }
   ],
   "source": [
    "movie_reviews = \"Love It, simply awesome... wowieee!!!\"\n",
    "print(\"Naive Bayes               : \",text_clf_mnb.predict([movie_reviews]))\n",
    "print(\"Linear SVM                : \",text_clf_lsvc.predict([movie_reviews]))\n",
    "print(\"Linear SVM with Stopwords : \",text_clf_lsvc_sw.predict([movie_reviews]))"
   ]
  },
  {
   "cell_type": "code",
   "execution_count": 42,
   "metadata": {},
   "outputs": [
    {
     "name": "stdout",
     "output_type": "stream",
     "text": [
      "Naive Bayes               :  ['neg']\n",
      "Linear SVM                :  ['neg']\n",
      "Linear SVM with Stopwords :  ['neg']\n"
     ]
    }
   ],
   "source": [
    "negative_review = \"Amazon offers a credit card through Chase bank, while it may sound good, especially during the Christmas season BEWARE! Amazon CHANGES your payment method WITHOUT NOTIFYING YOU. If you set up your payments to be made through your bank, debit card, you may not notice it right away. Suddenly you have a credit card bill you weren't expecting. Amazon DID NOT have the authorization to make this change, but did so anyway. This is the second time this has happened!\"\n",
    "print(\"Naive Bayes               : \",text_clf_mnb.predict([negative_review]))\n",
    "print(\"Linear SVM                : \",text_clf_lsvc.predict([negative_review]))\n",
    "print(\"Linear SVM with Stopwords : \",text_clf_lsvc_sw.predict([negative_review]))"
   ]
  },
  {
   "cell_type": "code",
   "execution_count": 43,
   "metadata": {},
   "outputs": [
    {
     "name": "stdout",
     "output_type": "stream",
     "text": [
      "Naive Bayes               :  ['pos']\n",
      "Linear SVM                :  ['neg']\n",
      "Linear SVM with Stopwords :  ['pos']\n"
     ]
    }
   ],
   "source": [
    "comment = \"Reminder to complete pulse timesheet routing by 12pm today\"\n",
    "print(\"Naive Bayes               : \",text_clf_mnb.predict([comment]))\n",
    "print(\"Linear SVM                : \",text_clf_lsvc.predict([comment]))\n",
    "print(\"Linear SVM with Stopwords : \",text_clf_lsvc_sw.predict([comment]))"
   ]
  },
  {
   "cell_type": "code",
   "execution_count": 44,
   "metadata": {},
   "outputs": [
    {
     "name": "stdout",
     "output_type": "stream",
     "text": [
      "[nltk_data] Downloading package vader_lexicon to\n",
      "[nltk_data]     C:\\Users\\ashok\\AppData\\Roaming\\nltk_data...\n"
     ]
    },
    {
     "data": {
      "text/plain": [
       "True"
      ]
     },
     "execution_count": 44,
     "metadata": {},
     "output_type": "execute_result"
    }
   ],
   "source": [
    "nltk.download('vader_lexicon')"
   ]
  },
  {
   "cell_type": "code",
   "execution_count": 46,
   "metadata": {},
   "outputs": [],
   "source": [
    "from nltk.sentiment.vader import SentimentIntensityAnalyzer\n",
    "SIA=SentimentIntensityAnalyzer()"
   ]
  },
  {
   "cell_type": "code",
   "execution_count": 48,
   "metadata": {},
   "outputs": [],
   "source": [
    "Amazon_rw1 = \"They sell falsely rated items. Purchases are made based on reviews but they are not true reviews. Thy sell cheap items and they do no longer have an easy return policy or take responsibility for the items sold.\""
   ]
  },
  {
   "cell_type": "code",
   "execution_count": 49,
   "metadata": {},
   "outputs": [
    {
     "data": {
      "text/plain": [
       "{'neg': 0.13, 'neu': 0.784, 'pos': 0.086, 'compound': -0.2378}"
      ]
     },
     "execution_count": 49,
     "metadata": {},
     "output_type": "execute_result"
    }
   ],
   "source": [
    "SIA.polarity_scores(Amazon_rw1)"
   ]
  },
  {
   "cell_type": "code",
   "execution_count": 50,
   "metadata": {},
   "outputs": [],
   "source": [
    "### Amazon Movie Review"
   ]
  },
  {
   "cell_type": "code",
   "execution_count": 57,
   "metadata": {},
   "outputs": [],
   "source": [
    "amazon_review_file=os.path.join(textfiles,'amazonreviews.tsv')"
   ]
  },
  {
   "cell_type": "code",
   "execution_count": 58,
   "metadata": {},
   "outputs": [],
   "source": [
    "amzn_data  = pd.read_csv(amazon_review_file,sep=\"\\t\")"
   ]
  },
  {
   "cell_type": "code",
   "execution_count": 59,
   "metadata": {},
   "outputs": [
    {
     "data": {
      "text/html": [
       "<div>\n",
       "<style scoped>\n",
       "    .dataframe tbody tr th:only-of-type {\n",
       "        vertical-align: middle;\n",
       "    }\n",
       "\n",
       "    .dataframe tbody tr th {\n",
       "        vertical-align: top;\n",
       "    }\n",
       "\n",
       "    .dataframe thead th {\n",
       "        text-align: right;\n",
       "    }\n",
       "</style>\n",
       "<table border=\"1\" class=\"dataframe\">\n",
       "  <thead>\n",
       "    <tr style=\"text-align: right;\">\n",
       "      <th></th>\n",
       "      <th>label</th>\n",
       "      <th>review</th>\n",
       "    </tr>\n",
       "  </thead>\n",
       "  <tbody>\n",
       "    <tr>\n",
       "      <th>0</th>\n",
       "      <td>pos</td>\n",
       "      <td>Stuning even for the non-gamer: This sound tra...</td>\n",
       "    </tr>\n",
       "    <tr>\n",
       "      <th>1</th>\n",
       "      <td>pos</td>\n",
       "      <td>The best soundtrack ever to anything.: I'm rea...</td>\n",
       "    </tr>\n",
       "    <tr>\n",
       "      <th>2</th>\n",
       "      <td>pos</td>\n",
       "      <td>Amazing!: This soundtrack is my favorite music...</td>\n",
       "    </tr>\n",
       "    <tr>\n",
       "      <th>3</th>\n",
       "      <td>pos</td>\n",
       "      <td>Excellent Soundtrack: I truly like this soundt...</td>\n",
       "    </tr>\n",
       "    <tr>\n",
       "      <th>4</th>\n",
       "      <td>pos</td>\n",
       "      <td>Remember, Pull Your Jaw Off The Floor After He...</td>\n",
       "    </tr>\n",
       "  </tbody>\n",
       "</table>\n",
       "</div>"
      ],
      "text/plain": [
       "  label                                             review\n",
       "0   pos  Stuning even for the non-gamer: This sound tra...\n",
       "1   pos  The best soundtrack ever to anything.: I'm rea...\n",
       "2   pos  Amazing!: This soundtrack is my favorite music...\n",
       "3   pos  Excellent Soundtrack: I truly like this soundt...\n",
       "4   pos  Remember, Pull Your Jaw Off The Floor After He..."
      ]
     },
     "execution_count": 59,
     "metadata": {},
     "output_type": "execute_result"
    }
   ],
   "source": [
    "amzn_data.head()"
   ]
  },
  {
   "cell_type": "code",
   "execution_count": 61,
   "metadata": {},
   "outputs": [
    {
     "data": {
      "text/plain": [
       "label     0\n",
       "review    0\n",
       "dtype: int64"
      ]
     },
     "execution_count": 61,
     "metadata": {},
     "output_type": "execute_result"
    }
   ],
   "source": [
    "amzn_data.isnull().sum()"
   ]
  },
  {
   "cell_type": "code",
   "execution_count": 62,
   "metadata": {},
   "outputs": [
    {
     "data": {
      "text/markdown": [
       "> Stuning even for the non-gamer: This sound track was beautiful! It paints the senery in your mind so well I would recomend it even to people who hate vid. game music! I have played the game Chrono Cross but out of all of the games I have ever played it has the best music! It backs away from crude keyboarding and takes a fresher step with grate guitars and soulful orchestras. It would impress anyone who cares to listen! ^_^"
      ],
      "text/plain": [
       "<IPython.core.display.Markdown object>"
      ]
     },
     "metadata": {},
     "output_type": "display_data"
    }
   ],
   "source": [
    "from IPython.display import Markdown, display\n",
    "display(Markdown('> '+amzn_data['review'][0]))"
   ]
  },
  {
   "cell_type": "code",
   "execution_count": 65,
   "metadata": {},
   "outputs": [
    {
     "data": {
      "text/plain": [
       "0    {'neg': 0.088, 'neu': 0.669, 'pos': 0.243, 'co...\n",
       "1    {'neg': 0.018, 'neu': 0.837, 'pos': 0.145, 'co...\n",
       "2    {'neg': 0.04, 'neu': 0.692, 'pos': 0.268, 'com...\n",
       "3    {'neg': 0.09, 'neu': 0.615, 'pos': 0.295, 'com...\n",
       "4    {'neg': 0.0, 'neu': 0.746, 'pos': 0.254, 'comp...\n",
       "Name: review, dtype: object"
      ]
     },
     "execution_count": 65,
     "metadata": {},
     "output_type": "execute_result"
    }
   ],
   "source": [
    "amzn_data['review'].apply(lambda review : SIA.polarity_scores(review)).head()"
   ]
  },
  {
   "cell_type": "code",
   "execution_count": 66,
   "metadata": {},
   "outputs": [],
   "source": [
    "amzn_data['scores'] = amzn_data['review'].apply(lambda review : SIA.polarity_scores(review))"
   ]
  },
  {
   "cell_type": "code",
   "execution_count": 67,
   "metadata": {},
   "outputs": [
    {
     "data": {
      "text/html": [
       "<div>\n",
       "<style scoped>\n",
       "    .dataframe tbody tr th:only-of-type {\n",
       "        vertical-align: middle;\n",
       "    }\n",
       "\n",
       "    .dataframe tbody tr th {\n",
       "        vertical-align: top;\n",
       "    }\n",
       "\n",
       "    .dataframe thead th {\n",
       "        text-align: right;\n",
       "    }\n",
       "</style>\n",
       "<table border=\"1\" class=\"dataframe\">\n",
       "  <thead>\n",
       "    <tr style=\"text-align: right;\">\n",
       "      <th></th>\n",
       "      <th>label</th>\n",
       "      <th>review</th>\n",
       "      <th>scores</th>\n",
       "    </tr>\n",
       "  </thead>\n",
       "  <tbody>\n",
       "    <tr>\n",
       "      <th>0</th>\n",
       "      <td>pos</td>\n",
       "      <td>Stuning even for the non-gamer: This sound tra...</td>\n",
       "      <td>{'neg': 0.088, 'neu': 0.669, 'pos': 0.243, 'co...</td>\n",
       "    </tr>\n",
       "    <tr>\n",
       "      <th>1</th>\n",
       "      <td>pos</td>\n",
       "      <td>The best soundtrack ever to anything.: I'm rea...</td>\n",
       "      <td>{'neg': 0.018, 'neu': 0.837, 'pos': 0.145, 'co...</td>\n",
       "    </tr>\n",
       "    <tr>\n",
       "      <th>2</th>\n",
       "      <td>pos</td>\n",
       "      <td>Amazing!: This soundtrack is my favorite music...</td>\n",
       "      <td>{'neg': 0.04, 'neu': 0.692, 'pos': 0.268, 'com...</td>\n",
       "    </tr>\n",
       "    <tr>\n",
       "      <th>3</th>\n",
       "      <td>pos</td>\n",
       "      <td>Excellent Soundtrack: I truly like this soundt...</td>\n",
       "      <td>{'neg': 0.09, 'neu': 0.615, 'pos': 0.295, 'com...</td>\n",
       "    </tr>\n",
       "    <tr>\n",
       "      <th>4</th>\n",
       "      <td>pos</td>\n",
       "      <td>Remember, Pull Your Jaw Off The Floor After He...</td>\n",
       "      <td>{'neg': 0.0, 'neu': 0.746, 'pos': 0.254, 'comp...</td>\n",
       "    </tr>\n",
       "  </tbody>\n",
       "</table>\n",
       "</div>"
      ],
      "text/plain": [
       "  label                                             review  \\\n",
       "0   pos  Stuning even for the non-gamer: This sound tra...   \n",
       "1   pos  The best soundtrack ever to anything.: I'm rea...   \n",
       "2   pos  Amazing!: This soundtrack is my favorite music...   \n",
       "3   pos  Excellent Soundtrack: I truly like this soundt...   \n",
       "4   pos  Remember, Pull Your Jaw Off The Floor After He...   \n",
       "\n",
       "                                              scores  \n",
       "0  {'neg': 0.088, 'neu': 0.669, 'pos': 0.243, 'co...  \n",
       "1  {'neg': 0.018, 'neu': 0.837, 'pos': 0.145, 'co...  \n",
       "2  {'neg': 0.04, 'neu': 0.692, 'pos': 0.268, 'com...  \n",
       "3  {'neg': 0.09, 'neu': 0.615, 'pos': 0.295, 'com...  \n",
       "4  {'neg': 0.0, 'neu': 0.746, 'pos': 0.254, 'comp...  "
      ]
     },
     "execution_count": 67,
     "metadata": {},
     "output_type": "execute_result"
    }
   ],
   "source": [
    "amzn_data.head()"
   ]
  },
  {
   "cell_type": "code",
   "execution_count": 70,
   "metadata": {},
   "outputs": [],
   "source": [
    "amzn_data['compound']=amzn_data['scores'].apply(lambda comp_score: comp_score['compound'])"
   ]
  },
  {
   "cell_type": "code",
   "execution_count": 71,
   "metadata": {},
   "outputs": [
    {
     "data": {
      "text/html": [
       "<div>\n",
       "<style scoped>\n",
       "    .dataframe tbody tr th:only-of-type {\n",
       "        vertical-align: middle;\n",
       "    }\n",
       "\n",
       "    .dataframe tbody tr th {\n",
       "        vertical-align: top;\n",
       "    }\n",
       "\n",
       "    .dataframe thead th {\n",
       "        text-align: right;\n",
       "    }\n",
       "</style>\n",
       "<table border=\"1\" class=\"dataframe\">\n",
       "  <thead>\n",
       "    <tr style=\"text-align: right;\">\n",
       "      <th></th>\n",
       "      <th>label</th>\n",
       "      <th>review</th>\n",
       "      <th>scores</th>\n",
       "      <th>compound</th>\n",
       "    </tr>\n",
       "  </thead>\n",
       "  <tbody>\n",
       "    <tr>\n",
       "      <th>0</th>\n",
       "      <td>pos</td>\n",
       "      <td>Stuning even for the non-gamer: This sound tra...</td>\n",
       "      <td>{'neg': 0.088, 'neu': 0.669, 'pos': 0.243, 'co...</td>\n",
       "      <td>0.9454</td>\n",
       "    </tr>\n",
       "    <tr>\n",
       "      <th>1</th>\n",
       "      <td>pos</td>\n",
       "      <td>The best soundtrack ever to anything.: I'm rea...</td>\n",
       "      <td>{'neg': 0.018, 'neu': 0.837, 'pos': 0.145, 'co...</td>\n",
       "      <td>0.8957</td>\n",
       "    </tr>\n",
       "    <tr>\n",
       "      <th>2</th>\n",
       "      <td>pos</td>\n",
       "      <td>Amazing!: This soundtrack is my favorite music...</td>\n",
       "      <td>{'neg': 0.04, 'neu': 0.692, 'pos': 0.268, 'com...</td>\n",
       "      <td>0.9858</td>\n",
       "    </tr>\n",
       "    <tr>\n",
       "      <th>3</th>\n",
       "      <td>pos</td>\n",
       "      <td>Excellent Soundtrack: I truly like this soundt...</td>\n",
       "      <td>{'neg': 0.09, 'neu': 0.615, 'pos': 0.295, 'com...</td>\n",
       "      <td>0.9814</td>\n",
       "    </tr>\n",
       "    <tr>\n",
       "      <th>4</th>\n",
       "      <td>pos</td>\n",
       "      <td>Remember, Pull Your Jaw Off The Floor After He...</td>\n",
       "      <td>{'neg': 0.0, 'neu': 0.746, 'pos': 0.254, 'comp...</td>\n",
       "      <td>0.9781</td>\n",
       "    </tr>\n",
       "  </tbody>\n",
       "</table>\n",
       "</div>"
      ],
      "text/plain": [
       "  label                                             review  \\\n",
       "0   pos  Stuning even for the non-gamer: This sound tra...   \n",
       "1   pos  The best soundtrack ever to anything.: I'm rea...   \n",
       "2   pos  Amazing!: This soundtrack is my favorite music...   \n",
       "3   pos  Excellent Soundtrack: I truly like this soundt...   \n",
       "4   pos  Remember, Pull Your Jaw Off The Floor After He...   \n",
       "\n",
       "                                              scores  compound  \n",
       "0  {'neg': 0.088, 'neu': 0.669, 'pos': 0.243, 'co...    0.9454  \n",
       "1  {'neg': 0.018, 'neu': 0.837, 'pos': 0.145, 'co...    0.8957  \n",
       "2  {'neg': 0.04, 'neu': 0.692, 'pos': 0.268, 'com...    0.9858  \n",
       "3  {'neg': 0.09, 'neu': 0.615, 'pos': 0.295, 'com...    0.9814  \n",
       "4  {'neg': 0.0, 'neu': 0.746, 'pos': 0.254, 'comp...    0.9781  "
      ]
     },
     "execution_count": 71,
     "metadata": {},
     "output_type": "execute_result"
    }
   ],
   "source": [
    "amzn_data.head()"
   ]
  },
  {
   "cell_type": "code",
   "execution_count": 72,
   "metadata": {},
   "outputs": [],
   "source": [
    "amzn_data['comp_score'] = amzn_data['compound'].apply(lambda score: 'pos' if score >=0 else 'neg')"
   ]
  },
  {
   "cell_type": "code",
   "execution_count": 73,
   "metadata": {},
   "outputs": [
    {
     "data": {
      "text/html": [
       "<div>\n",
       "<style scoped>\n",
       "    .dataframe tbody tr th:only-of-type {\n",
       "        vertical-align: middle;\n",
       "    }\n",
       "\n",
       "    .dataframe tbody tr th {\n",
       "        vertical-align: top;\n",
       "    }\n",
       "\n",
       "    .dataframe thead th {\n",
       "        text-align: right;\n",
       "    }\n",
       "</style>\n",
       "<table border=\"1\" class=\"dataframe\">\n",
       "  <thead>\n",
       "    <tr style=\"text-align: right;\">\n",
       "      <th></th>\n",
       "      <th>label</th>\n",
       "      <th>review</th>\n",
       "      <th>scores</th>\n",
       "      <th>compound</th>\n",
       "      <th>comp_score</th>\n",
       "    </tr>\n",
       "  </thead>\n",
       "  <tbody>\n",
       "    <tr>\n",
       "      <th>0</th>\n",
       "      <td>pos</td>\n",
       "      <td>Stuning even for the non-gamer: This sound tra...</td>\n",
       "      <td>{'neg': 0.088, 'neu': 0.669, 'pos': 0.243, 'co...</td>\n",
       "      <td>0.9454</td>\n",
       "      <td>pos</td>\n",
       "    </tr>\n",
       "    <tr>\n",
       "      <th>1</th>\n",
       "      <td>pos</td>\n",
       "      <td>The best soundtrack ever to anything.: I'm rea...</td>\n",
       "      <td>{'neg': 0.018, 'neu': 0.837, 'pos': 0.145, 'co...</td>\n",
       "      <td>0.8957</td>\n",
       "      <td>pos</td>\n",
       "    </tr>\n",
       "    <tr>\n",
       "      <th>2</th>\n",
       "      <td>pos</td>\n",
       "      <td>Amazing!: This soundtrack is my favorite music...</td>\n",
       "      <td>{'neg': 0.04, 'neu': 0.692, 'pos': 0.268, 'com...</td>\n",
       "      <td>0.9858</td>\n",
       "      <td>pos</td>\n",
       "    </tr>\n",
       "    <tr>\n",
       "      <th>3</th>\n",
       "      <td>pos</td>\n",
       "      <td>Excellent Soundtrack: I truly like this soundt...</td>\n",
       "      <td>{'neg': 0.09, 'neu': 0.615, 'pos': 0.295, 'com...</td>\n",
       "      <td>0.9814</td>\n",
       "      <td>pos</td>\n",
       "    </tr>\n",
       "    <tr>\n",
       "      <th>4</th>\n",
       "      <td>pos</td>\n",
       "      <td>Remember, Pull Your Jaw Off The Floor After He...</td>\n",
       "      <td>{'neg': 0.0, 'neu': 0.746, 'pos': 0.254, 'comp...</td>\n",
       "      <td>0.9781</td>\n",
       "      <td>pos</td>\n",
       "    </tr>\n",
       "  </tbody>\n",
       "</table>\n",
       "</div>"
      ],
      "text/plain": [
       "  label                                             review  \\\n",
       "0   pos  Stuning even for the non-gamer: This sound tra...   \n",
       "1   pos  The best soundtrack ever to anything.: I'm rea...   \n",
       "2   pos  Amazing!: This soundtrack is my favorite music...   \n",
       "3   pos  Excellent Soundtrack: I truly like this soundt...   \n",
       "4   pos  Remember, Pull Your Jaw Off The Floor After He...   \n",
       "\n",
       "                                              scores  compound comp_score  \n",
       "0  {'neg': 0.088, 'neu': 0.669, 'pos': 0.243, 'co...    0.9454        pos  \n",
       "1  {'neg': 0.018, 'neu': 0.837, 'pos': 0.145, 'co...    0.8957        pos  \n",
       "2  {'neg': 0.04, 'neu': 0.692, 'pos': 0.268, 'com...    0.9858        pos  \n",
       "3  {'neg': 0.09, 'neu': 0.615, 'pos': 0.295, 'com...    0.9814        pos  \n",
       "4  {'neg': 0.0, 'neu': 0.746, 'pos': 0.254, 'comp...    0.9781        pos  "
      ]
     },
     "execution_count": 73,
     "metadata": {},
     "output_type": "execute_result"
    }
   ],
   "source": [
    "amzn_data.head()"
   ]
  },
  {
   "cell_type": "code",
   "execution_count": 74,
   "metadata": {},
   "outputs": [
    {
     "name": "stdout",
     "output_type": "stream",
     "text": [
      "\n",
      "    Classification Report :\n",
      "               precision    recall  f1-score   support\n",
      "\n",
      "         neg       0.86      0.51      0.64      5097\n",
      "         pos       0.64      0.91      0.75      4903\n",
      "\n",
      "   micro avg       0.71      0.71      0.71     10000\n",
      "   macro avg       0.75      0.71      0.70     10000\n",
      "weighted avg       0.75      0.71      0.70     10000\n",
      "\n",
      "    Confusion Matrix      :\n",
      " [[2623 2474]\n",
      " [ 435 4468]]\n",
      "    Accuracy              : 0.7091\n",
      "    \n"
     ]
    }
   ],
   "source": [
    "pred_report(amzn_data['label'],amzn_data['comp_score'])"
   ]
  },
  {
   "cell_type": "code",
   "execution_count": 75,
   "metadata": {},
   "outputs": [],
   "source": [
    "### NMF"
   ]
  },
  {
   "cell_type": "code",
   "execution_count": 78,
   "metadata": {},
   "outputs": [
    {
     "data": {
      "text/plain": [
       "['amazonreviews.tsv',\n",
       " 'elon_tweets.txt',\n",
       " 'elon_tweets2.txt',\n",
       " 'huckfinn.txt',\n",
       " 'moviereviews.tsv',\n",
       " 'moviereviews2.tsv',\n",
       " 'owlcreek.txt',\n",
       " 'peterrabbit.txt',\n",
       " 'reaganomics.txt',\n",
       " 'reuters.csv',\n",
       " 'smsspamcollection.tsv',\n",
       " 'sms_readme.txt']"
      ]
     },
     "execution_count": 78,
     "metadata": {},
     "output_type": "execute_result"
    }
   ],
   "source": [
    "os.listdir(textfiles)"
   ]
  },
  {
   "cell_type": "code",
   "execution_count": 80,
   "metadata": {},
   "outputs": [],
   "source": [
    "reuters_data=pd.read_csv(os.path.join(textfiles,'reuters.csv'))"
   ]
  },
  {
   "cell_type": "code",
   "execution_count": 81,
   "metadata": {},
   "outputs": [
    {
     "data": {
      "text/html": [
       "<div>\n",
       "<style scoped>\n",
       "    .dataframe tbody tr th:only-of-type {\n",
       "        vertical-align: middle;\n",
       "    }\n",
       "\n",
       "    .dataframe tbody tr th {\n",
       "        vertical-align: top;\n",
       "    }\n",
       "\n",
       "    .dataframe thead th {\n",
       "        text-align: right;\n",
       "    }\n",
       "</style>\n",
       "<table border=\"1\" class=\"dataframe\">\n",
       "  <thead>\n",
       "    <tr style=\"text-align: right;\">\n",
       "      <th></th>\n",
       "      <th>headline_text</th>\n",
       "      <th>category</th>\n",
       "    </tr>\n",
       "  </thead>\n",
       "  <tbody>\n",
       "    <tr>\n",
       "      <th>0</th>\n",
       "      <td>Southern European bond yields hit multi-week lows</td>\n",
       "      <td>3</td>\n",
       "    </tr>\n",
       "    <tr>\n",
       "      <th>1</th>\n",
       "      <td>BRIEF-LG sells its entire stake in unit LG Lif...</td>\n",
       "      <td>6</td>\n",
       "    </tr>\n",
       "    <tr>\n",
       "      <th>2</th>\n",
       "      <td>BRIEF-Golden Wheel Tiandi says unit confirms s...</td>\n",
       "      <td>3</td>\n",
       "    </tr>\n",
       "    <tr>\n",
       "      <th>3</th>\n",
       "      <td>BRIEF-Sunshine 100 China Holdings Dec contract...</td>\n",
       "      <td>3</td>\n",
       "    </tr>\n",
       "    <tr>\n",
       "      <th>4</th>\n",
       "      <td>Euro zone stocks start 2017 with new one-year ...</td>\n",
       "      <td>3</td>\n",
       "    </tr>\n",
       "  </tbody>\n",
       "</table>\n",
       "</div>"
      ],
      "text/plain": [
       "                                       headline_text  category\n",
       "0  Southern European bond yields hit multi-week lows         3\n",
       "1  BRIEF-LG sells its entire stake in unit LG Lif...         6\n",
       "2  BRIEF-Golden Wheel Tiandi says unit confirms s...         3\n",
       "3  BRIEF-Sunshine 100 China Holdings Dec contract...         3\n",
       "4  Euro zone stocks start 2017 with new one-year ...         3"
      ]
     },
     "execution_count": 81,
     "metadata": {},
     "output_type": "execute_result"
    }
   ],
   "source": [
    "reuters_data.head()"
   ]
  },
  {
   "cell_type": "code",
   "execution_count": 82,
   "metadata": {},
   "outputs": [],
   "source": [
    "tfidf = TfidfVectorizer(max_df=0.9, min_df=2, stop_words='english')"
   ]
  },
  {
   "cell_type": "code",
   "execution_count": 83,
   "metadata": {},
   "outputs": [],
   "source": [
    "reuter_dm = tfidf.fit_transform(reuters_data['headline_text'])"
   ]
  },
  {
   "cell_type": "code",
   "execution_count": 84,
   "metadata": {},
   "outputs": [
    {
     "data": {
      "text/plain": [
       "<999x1183 sparse matrix of type '<class 'numpy.float64'>'\n",
       "\twith 6251 stored elements in Compressed Sparse Row format>"
      ]
     },
     "execution_count": 84,
     "metadata": {},
     "output_type": "execute_result"
    }
   ],
   "source": [
    "reuter_dm"
   ]
  },
  {
   "cell_type": "code",
   "execution_count": 85,
   "metadata": {},
   "outputs": [],
   "source": [
    "from sklearn.decomposition import NMF"
   ]
  },
  {
   "cell_type": "code",
   "execution_count": 140,
   "metadata": {},
   "outputs": [],
   "source": [
    "nmf_model = NMF(n_components=8,random_state=42)"
   ]
  },
  {
   "cell_type": "code",
   "execution_count": 141,
   "metadata": {},
   "outputs": [
    {
     "data": {
      "text/plain": [
       "NMF(alpha=0.0, beta_loss='frobenius', init=None, l1_ratio=0.0, max_iter=200,\n",
       "  n_components=8, random_state=42, shuffle=False, solver='cd', tol=0.0001,\n",
       "  verbose=0)"
      ]
     },
     "execution_count": 141,
     "metadata": {},
     "output_type": "execute_result"
    }
   ],
   "source": [
    "nmf_model.fit(reuter_dm)"
   ]
  },
  {
   "cell_type": "code",
   "execution_count": 143,
   "metadata": {},
   "outputs": [
    {
     "name": "stdout",
     "output_type": "stream",
     "text": [
      "THE TOP 8 WORDS FOR TOPIC #0\n",
      "['352', 'ftws', '524', 'cmd_data_check_uint16', '3087', '1426', '350', '2126', '407', 'dev', '211', '142', '127', '1390', '19']\n",
      "\n",
      "\n",
      "THE TOP 8 WORDS FOR TOPIC #1\n",
      "['222', 'address', 'gengtype', 'database', '429', '290', 'bytes', '1970', '292', '160', '19', 'dummy', '104', 'control', 'atf_addac']\n",
      "\n",
      "\n",
      "THE TOP 8 WORDS FOR TOPIC #2\n",
      "['ar9300device', 'fieldread', '43', '222', 'format', 'dup', 'boot', '310', '994', 'fqdn', '1043', 'getgid03', '399', '725', 'elmtlen2']\n",
      "\n",
      "\n",
      "THE TOP 8 WORDS FOR TOPIC #3\n",
      "['183', '957', 'generate_translations', '279', 'comment', '15', '725', 'defaults', 'configsets', 'expr', 'cmd_strtol', '1793', '2099', 'clnt_tcp', '627']\n",
      "\n",
      "\n",
      "THE TOP 8 WORDS FOR TOPIC #4\n",
      "['1468', '474', '937', 'build_dir', 'bindresvport', 'dev_read_data', '589', 'ar9300device', '144', 'chroma_elim_threshold', '408', 'counter', 'fatal', 'btmode', 'break']\n",
      "\n",
      "\n",
      "THE TOP 8 WORDS FOR TOPIC #5\n",
      "['917', 'cmd_data_check_uint16', '957', 'gfc0326e', 'definition', 'ezsp', '1948', '667', 'dummy', '429', 'default', '19', 'handle_hmmc', '_parameterlist', 'fscanf']\n",
      "\n",
      "\n",
      "THE TOP 8 WORDS FOR TOPIC #6\n",
      "['200', '241', '215', 'flushatftable', '2393', 'doc', '524', '5423', '49', 'file', '585', '222', 'dependencies', '19', 'cpp']\n",
      "\n",
      "\n",
      "THE TOP 8 WORDS FOR TOPIC #7\n",
      "['bond_sysfs', '573', '526', 'dependencies', 'glink', 'amrwb', '245', 'avfilter_copy_frame_props', 'ftwp', '222', '1043', 'dup', '566', 'hal', 'ah_osdep_art']\n",
      "\n",
      "\n"
     ]
    }
   ],
   "source": [
    "for index,topic in enumerate(nmf_model.components_):\n",
    "    print(f'THE TOP 8 WORDS FOR TOPIC #{index}')\n",
    "    print([tfidf.get_feature_names()[i] for i in topic.argsort()[-15:]])\n",
    "    print('\\n')"
   ]
  },
  {
   "cell_type": "code",
   "execution_count": 144,
   "metadata": {},
   "outputs": [],
   "source": [
    "reuter_topic_results = nmf_model.transform(reuter_dm)"
   ]
  },
  {
   "cell_type": "code",
   "execution_count": 145,
   "metadata": {},
   "outputs": [
    {
     "data": {
      "text/plain": [
       "array([7, 5, 6, 1, 7, 2, 0, 5, 7, 6, 7, 7, 1, 1, 7, 4, 7, 1, 1, 7, 2, 5,\n",
       "       6, 2, 1, 1, 7, 0, 6, 1, 0, 0, 6, 6, 7, 6, 0, 5, 0, 7, 6, 1, 2, 2,\n",
       "       5, 0, 5, 6, 0, 5, 3, 6, 3, 1, 1, 5, 3, 6, 6, 2, 6, 0, 6, 0, 1, 7,\n",
       "       3, 6, 6, 7, 1, 0, 2, 0, 7, 0, 7, 6, 7, 7, 6, 0, 5, 0, 7, 5, 3, 1,\n",
       "       0, 3, 2, 7, 1, 3, 5, 6, 0, 7, 0, 1, 7, 7, 6, 1, 0, 5, 0, 3, 5, 3,\n",
       "       3, 0, 7, 6, 1, 3, 3, 3, 1, 1, 6, 5, 1, 2, 3, 5, 7, 0, 3, 1, 7, 3,\n",
       "       6, 6, 6, 0, 0, 2, 3, 6, 2, 1, 3, 1, 3, 6, 1, 3, 0, 3, 3, 6, 3, 7,\n",
       "       1, 1, 7, 3, 7, 7, 3, 0, 6, 2, 3, 5, 7, 3, 7, 6, 6, 7, 3, 5, 7, 0,\n",
       "       7, 5, 7, 6, 3, 7, 3, 5, 7, 0, 6, 0, 0, 7, 7, 3, 6, 1, 6, 6, 5, 5,\n",
       "       0, 5, 5, 0, 5, 7, 7, 7, 3, 3, 1, 5, 3, 1, 0, 1, 6, 7, 1, 2, 2, 0,\n",
       "       5, 7, 6, 7, 6, 5, 1, 6, 6, 7, 7, 5, 0, 0, 1, 1, 7, 6, 0, 6, 7, 2,\n",
       "       2, 7, 7, 5, 5, 0, 2, 6, 3, 0, 3, 6, 7, 7, 5, 5, 0, 6, 7, 3, 1, 6,\n",
       "       3, 3, 6, 7, 7, 6, 6, 6, 5, 3, 2, 1, 2, 1, 1, 3, 1, 3, 1, 1, 0, 7,\n",
       "       7, 5, 0, 7, 7, 5, 5, 5, 1, 6, 0, 0, 5, 5, 5, 6, 6, 6, 5, 0, 7, 0,\n",
       "       7, 5, 2, 3, 5, 3, 3, 3, 0, 7, 0, 1, 3, 6, 3, 7, 5, 6, 1, 7, 7, 0,\n",
       "       7, 2, 7, 1, 1, 0, 7, 0, 6, 6, 6, 0, 7, 1, 2, 7, 0, 3, 6, 0, 6, 0,\n",
       "       2, 6, 6, 2, 2, 2, 6, 6, 0, 6, 6, 3, 0, 7, 0, 0, 6, 1, 7, 7, 7, 2,\n",
       "       6, 7, 2, 6, 5, 3, 5, 3, 5, 3, 2, 5, 3, 3, 2, 3, 7, 4, 1, 2, 6, 1,\n",
       "       5, 7, 5, 0, 2, 0, 6, 6, 1, 1, 0, 7, 3, 7, 0, 6, 7, 7, 6, 5, 1, 7,\n",
       "       0, 6, 2, 0, 6, 2, 7, 2, 0, 0, 5, 7, 1, 2, 0, 3, 1, 1, 5, 0, 1, 3,\n",
       "       0, 7, 0, 1, 3, 0, 6, 1, 0, 0, 0, 7, 6, 3, 1, 0, 2, 5, 0, 5, 1, 1,\n",
       "       3, 1, 7, 2, 5, 5, 7, 2, 2, 7, 7, 6, 3, 6, 5, 1, 7, 7, 3, 1, 7, 5,\n",
       "       5, 6, 0, 0, 1, 0, 3, 2, 0, 2, 1, 5, 6, 6, 1, 2, 3, 0, 0, 3, 2, 6,\n",
       "       7, 0, 3, 6, 6, 7, 7, 3, 7, 7, 7, 7, 1, 1, 7, 7, 2, 1, 6, 5, 7, 2,\n",
       "       7, 5, 1, 1, 6, 7, 3, 7, 7, 7, 7, 5, 6, 6, 1, 7, 4, 7, 6, 0, 7, 7,\n",
       "       6, 0, 3, 7, 6, 6, 0, 6, 7, 2, 7, 3, 3, 6, 5, 0, 3, 1, 0, 6, 2, 2,\n",
       "       7, 6, 7, 6, 1, 7, 5, 6, 1, 2, 0, 3, 7, 1, 1, 2, 0, 6, 1, 5, 3, 1,\n",
       "       6, 5, 7, 0, 1, 2, 7, 5, 7, 1, 0, 4, 6, 7, 7, 2, 0, 2, 5, 1, 7, 4,\n",
       "       0, 1, 4, 6, 4, 4, 4, 7, 7, 6, 6, 7, 6, 6, 7, 7, 6, 7, 0, 5, 7, 5,\n",
       "       6, 2, 0, 0, 7, 7, 0, 0, 0, 0, 0, 5, 7, 5, 0, 7, 5, 3, 5, 1, 0, 6,\n",
       "       0, 2, 6, 1, 7, 6, 2, 7, 0, 1, 7, 6, 0, 3, 3, 7, 0, 0, 6, 1, 0, 0,\n",
       "       7, 7, 7, 3, 0, 6, 6, 0, 5, 5, 1, 6, 6, 5, 5, 3, 7, 5, 7, 0, 5, 6,\n",
       "       0, 0, 0, 5, 0, 0, 3, 7, 5, 3, 3, 5, 7, 7, 0, 3, 0, 7, 6, 0, 6, 1,\n",
       "       1, 7, 5, 6, 3, 0, 1, 5, 7, 1, 0, 0, 1, 6, 3, 0, 0, 1, 0, 2, 2, 5,\n",
       "       6, 2, 6, 7, 2, 7, 7, 7, 0, 0, 3, 3, 3, 6, 0, 6, 0, 1, 0, 0, 3, 0,\n",
       "       0, 0, 0, 6, 2, 2, 6, 0, 2, 0, 0, 0, 3, 0, 5, 0, 6, 6, 0, 0, 7, 6,\n",
       "       2, 2, 0, 7, 7, 0, 7, 3, 0, 0, 3, 0, 5, 0, 1, 0, 0, 0, 7, 2, 0, 3,\n",
       "       7, 7, 6, 5, 5, 0, 1, 3, 0, 6, 0, 2, 7, 7, 5, 6, 0, 0, 6, 6, 7, 5,\n",
       "       7, 6, 2, 6, 0, 2, 2, 7, 7, 7, 6, 6, 0, 7, 7, 6, 0, 6, 6, 0, 0, 0,\n",
       "       0, 5, 0, 5, 7, 0, 0, 0, 5, 0, 0, 7, 6, 2, 5, 6, 7, 0, 3, 0, 7, 0,\n",
       "       7, 7, 0, 3, 7, 7, 7, 5, 6, 0, 1, 0, 0, 6, 0, 6, 6, 7, 2, 7, 0, 7,\n",
       "       7, 6, 3, 7, 0, 6, 0, 1, 6, 7, 3, 7, 0, 2, 0, 5, 7, 6, 6, 1, 0, 6,\n",
       "       6, 7, 2, 6, 0, 5, 0, 5, 7, 0, 2, 7, 6, 2, 5, 7, 0, 5, 7, 0, 0, 5,\n",
       "       7, 6, 1, 2, 6, 5, 7, 6, 7, 2, 6, 0, 2, 0, 1, 7, 7, 6, 7, 6, 6, 7,\n",
       "       7, 0, 6, 0, 3, 2, 6, 0, 7, 2, 0, 0, 1, 7, 0, 2, 7, 0, 5, 7, 0, 6,\n",
       "       0, 0, 7, 7, 5, 6, 6, 5, 2], dtype=int64)"
      ]
     },
     "execution_count": 145,
     "metadata": {},
     "output_type": "execute_result"
    }
   ],
   "source": [
    "reuter_topic_results.argmax(axis=1)"
   ]
  },
  {
   "cell_type": "code",
   "execution_count": 146,
   "metadata": {},
   "outputs": [
    {
     "data": {
      "text/html": [
       "<div>\n",
       "<style scoped>\n",
       "    .dataframe tbody tr th:only-of-type {\n",
       "        vertical-align: middle;\n",
       "    }\n",
       "\n",
       "    .dataframe tbody tr th {\n",
       "        vertical-align: top;\n",
       "    }\n",
       "\n",
       "    .dataframe thead th {\n",
       "        text-align: right;\n",
       "    }\n",
       "</style>\n",
       "<table border=\"1\" class=\"dataframe\">\n",
       "  <thead>\n",
       "    <tr style=\"text-align: right;\">\n",
       "      <th></th>\n",
       "      <th>headline_text</th>\n",
       "      <th>category</th>\n",
       "      <th>cat_pred</th>\n",
       "    </tr>\n",
       "  </thead>\n",
       "  <tbody>\n",
       "    <tr>\n",
       "      <th>0</th>\n",
       "      <td>Southern European bond yields hit multi-week lows</td>\n",
       "      <td>3</td>\n",
       "      <td>7</td>\n",
       "    </tr>\n",
       "    <tr>\n",
       "      <th>1</th>\n",
       "      <td>BRIEF-LG sells its entire stake in unit LG Lif...</td>\n",
       "      <td>6</td>\n",
       "      <td>5</td>\n",
       "    </tr>\n",
       "    <tr>\n",
       "      <th>2</th>\n",
       "      <td>BRIEF-Golden Wheel Tiandi says unit confirms s...</td>\n",
       "      <td>3</td>\n",
       "      <td>6</td>\n",
       "    </tr>\n",
       "    <tr>\n",
       "      <th>3</th>\n",
       "      <td>BRIEF-Sunshine 100 China Holdings Dec contract...</td>\n",
       "      <td>3</td>\n",
       "      <td>1</td>\n",
       "    </tr>\n",
       "    <tr>\n",
       "      <th>4</th>\n",
       "      <td>Euro zone stocks start 2017 with new one-year ...</td>\n",
       "      <td>3</td>\n",
       "      <td>7</td>\n",
       "    </tr>\n",
       "  </tbody>\n",
       "</table>\n",
       "</div>"
      ],
      "text/plain": [
       "                                       headline_text  category  cat_pred\n",
       "0  Southern European bond yields hit multi-week lows         3         7\n",
       "1  BRIEF-LG sells its entire stake in unit LG Lif...         6         5\n",
       "2  BRIEF-Golden Wheel Tiandi says unit confirms s...         3         6\n",
       "3  BRIEF-Sunshine 100 China Holdings Dec contract...         3         1\n",
       "4  Euro zone stocks start 2017 with new one-year ...         3         7"
      ]
     },
     "execution_count": 146,
     "metadata": {},
     "output_type": "execute_result"
    }
   ],
   "source": [
    "reuters_data['cat_pred'] = reuter_topic_results.argmax(axis=1)\n",
    "reuters_data.head()"
   ]
  },
  {
   "cell_type": "code",
   "execution_count": 147,
   "metadata": {},
   "outputs": [
    {
     "name": "stdout",
     "output_type": "stream",
     "text": [
      "\n",
      "    Classification Report :\n",
      "               precision    recall  f1-score   support\n",
      "\n",
      "           0       0.01      0.07      0.02        30\n",
      "           1       0.08      0.13      0.10        61\n",
      "           2       0.00      0.00      0.00         7\n",
      "           3       0.64      0.11      0.19       584\n",
      "           4       0.11      0.01      0.01       188\n",
      "           5       0.06      0.11      0.08        64\n",
      "           6       0.05      0.14      0.08        64\n",
      "           7       0.00      0.00      0.00         1\n",
      "\n",
      "   micro avg       0.09      0.09      0.09       999\n",
      "   macro avg       0.12      0.07      0.06       999\n",
      "weighted avg       0.41      0.09      0.13       999\n",
      "\n",
      "    Confusion Matrix      :\n",
      " [[  2   1   2   1   0   0  14  10]\n",
      " [  5   8   5   4   8   3  11  17]\n",
      " [  0   1   0   2   0   0   0   4]\n",
      " [113  77  65  65   0  80  85  99]\n",
      " [ 20  12   9  24   1   8  45  69]\n",
      " [ 32   4   0   3   0   7  10   8]\n",
      " [ 34   3   3   2   0  11   9   2]\n",
      " [  1   0   0   0   0   0   0   0]]\n",
      "    Accuracy              : 0.0920920920920921\n",
      "    \n"
     ]
    }
   ],
   "source": [
    "pred_report(reuters_data['category'],reuters_data['cat_pred'] )"
   ]
  },
  {
   "cell_type": "code",
   "execution_count": 104,
   "metadata": {},
   "outputs": [],
   "source": [
    "reuters_data.drop('cat_pred',axis=1,inplace=True)"
   ]
  },
  {
   "cell_type": "code",
   "execution_count": 113,
   "metadata": {},
   "outputs": [
    {
     "data": {
      "text/plain": [
       "0     30\n",
       "1     61\n",
       "2      7\n",
       "3    584\n",
       "4    188\n",
       "5     64\n",
       "6     64\n",
       "7      1\n",
       "Name: category, dtype: int64"
      ]
     },
     "execution_count": 113,
     "metadata": {},
     "output_type": "execute_result"
    }
   ],
   "source": [
    "reuters_data['category'].value_counts(sort=False)"
   ]
  },
  {
   "cell_type": "code",
   "execution_count": 116,
   "metadata": {},
   "outputs": [
    {
     "data": {
      "text/plain": [
       "array([3, 6, 7, 4, 1, 5, 2, 0], dtype=int64)"
      ]
     },
     "execution_count": 116,
     "metadata": {},
     "output_type": "execute_result"
    }
   ],
   "source": [
    "reuters_data['category'].unique()"
   ]
  },
  {
   "cell_type": "code",
   "execution_count": 117,
   "metadata": {},
   "outputs": [],
   "source": [
    "download_folder = \"C:\\\\Users\\\\ashok\\\\Downloads\""
   ]
  },
  {
   "cell_type": "code",
   "execution_count": 119,
   "metadata": {},
   "outputs": [],
   "source": [
    "logfile = os.path.join(download_folder,'All_wErrorRemoved_Feb.log')"
   ]
  },
  {
   "cell_type": "code",
   "execution_count": 120,
   "metadata": {},
   "outputs": [
    {
     "data": {
      "text/plain": [
       "['nohup: ignoring input\\n', \"Checking 'uuencode'... ok.\\n\"]"
      ]
     },
     "execution_count": 120,
     "metadata": {},
     "output_type": "execute_result"
    }
   ],
   "source": [
    "with open(logfile) as f:\n",
    "    rows=f.readlines()\n",
    "rows[:2]"
   ]
  },
  {
   "cell_type": "code",
   "execution_count": 121,
   "metadata": {},
   "outputs": [],
   "source": [
    "rowss = [ row for row in rows if \"warning:\" in row ]"
   ]
  },
  {
   "cell_type": "code",
   "execution_count": 122,
   "metadata": {},
   "outputs": [
    {
     "data": {
      "text/plain": [
       "[\"gbacktrace.c:302:22: warning: ignoring return value of 'dup', declared with attribute warn_unused_result [-Wunused-result]\\n\",\n",
       " \"gbacktrace.c:303:22: warning: ignoring return value of 'dup', declared with attribute warn_unused_result [-Wunused-result]\\n\",\n",
       " \"gbacktrace.c:318:9: warning: ignoring return value of 'write', declared with attribute warn_unused_result [-Wunused-result]\\n\",\n",
       " \"gbacktrace.c:319:9: warning: ignoring return value of 'write', declared with attribute warn_unused_result [-Wunused-result]\\n\",\n",
       " \"gbacktrace.c:320:9: warning: ignoring return value of 'write', declared with attribute warn_unused_result [-Wunused-result]\\n\",\n",
       " 'glibintl.h:37:42: warning: statement with no effect [-Wunused-value]\\n',\n",
       " \"install-info: warning: no info dir entry in `/local/mnt/workspace/ashok/wall_Error_repo_Feb14/date_4_4/qsdk/staging_dir/host/share/info/automake-history.info'\\n\",\n",
       " \"Makefile.am:113: warning: source file 'loaders/dld_link.c' is in a subdirectory,\\n\",\n",
       " 'automake: warning: possible forward-incompatibility.\\n',\n",
       " \"Makefile.am:109: warning: source file 'loaders/dlopen.c' is in a subdirectory,\\n\",\n",
       " \"Makefile.am:117: warning: source file 'loaders/dyld.c' is in a subdirectory,\\n\",\n",
       " \"Makefile.am:67: warning: source file 'loaders/preopen.c' is in a subdirectory,\\n\",\n",
       " \"Makefile.am:120: warning: source file 'loaders/load_add_on.c' is in a subdirectory,\\n\",\n",
       " \"Makefile.am:123: warning: source file 'loaders/loadlibrary.c' is in a subdirectory,\\n\",\n",
       " \"Makefile.am:126: warning: source file 'loaders/shl_load.c' is in a subdirectory,\\n\",\n",
       " \"Makefile.am:127: warning: 'INCLUDES' is the old name for 'AM_CPPFLAGS' (or '*_CPPFLAGS')\\n\",\n",
       " \"Makefile.am:277: warning: source file 'cxx/dummy.cc' is in a subdirectory,\\n\",\n",
       " 'automake: warning: possible forward-incompatibility.\\n',\n",
       " \"cxx/Makefile.am:21: warning: 'INCLUDES' is the old name for 'AM_CPPFLAGS' (or '*_CPPFLAGS')\\n\",\n",
       " \"demos/Makefile.am:24: warning: 'INCLUDES' is the old name for 'AM_CPPFLAGS' (or '*_CPPFLAGS')\\n\",\n",
       " \"demos/calc/Makefile.am:21: warning: 'INCLUDES' is the old name for 'AM_CPPFLAGS' (or '*_CPPFLAGS')\\n\",\n",
       " \"demos/expr/Makefile.am:21: warning: 'INCLUDES' is the old name for 'AM_CPPFLAGS' (or '*_CPPFLAGS')\\n\",\n",
       " \"mpf/Makefile.am:22: warning: 'INCLUDES' is the old name for 'AM_CPPFLAGS' (or '*_CPPFLAGS')\\n\",\n",
       " \"mpn/Makefile.am:22: warning: 'INCLUDES' is the old name for 'AM_CPPFLAGS' (or '*_CPPFLAGS')\\n\",\n",
       " \"mpq/Makefile.am:21: warning: 'INCLUDES' is the old name for 'AM_CPPFLAGS' (or '*_CPPFLAGS')\\n\",\n",
       " \"mpz/Makefile.am:22: warning: 'INCLUDES' is the old name for 'AM_CPPFLAGS' (or '*_CPPFLAGS')\\n\",\n",
       " \"printf/Makefile.am:21: warning: 'INCLUDES' is the old name for 'AM_CPPFLAGS' (or '*_CPPFLAGS')\\n\",\n",
       " \"rand/Makefile.am:21: warning: 'INCLUDES' is the old name for 'AM_CPPFLAGS' (or '*_CPPFLAGS')\\n\",\n",
       " \"scanf/Makefile.am:21: warning: 'INCLUDES' is the old name for 'AM_CPPFLAGS' (or '*_CPPFLAGS')\\n\",\n",
       " \"tests/Makefile.am:25: warning: 'INCLUDES' is the old name for 'AM_CPPFLAGS' (or '*_CPPFLAGS')\\n\",\n",
       " \"tests/cxx/Makefile.am:27: warning: 'INCLUDES' is the old name for 'AM_CPPFLAGS' (or '*_CPPFLAGS')\\n\",\n",
       " \"tests/devel/Makefile.am:21: warning: 'INCLUDES' is the old name for 'AM_CPPFLAGS' (or '*_CPPFLAGS')\\n\",\n",
       " \"tests/misc/Makefile.am:21: warning: 'INCLUDES' is the old name for 'AM_CPPFLAGS' (or '*_CPPFLAGS')\\n\",\n",
       " \"tests/mpf/Makefile.am:22: warning: 'INCLUDES' is the old name for 'AM_CPPFLAGS' (or '*_CPPFLAGS')\\n\",\n",
       " \"tests/mpn/Makefile.am:22: warning: 'INCLUDES' is the old name for 'AM_CPPFLAGS' (or '*_CPPFLAGS')\\n\",\n",
       " \"tests/mpq/Makefile.am:21: warning: 'INCLUDES' is the old name for 'AM_CPPFLAGS' (or '*_CPPFLAGS')\\n\",\n",
       " \"tests/mpz/Makefile.am:22: warning: 'INCLUDES' is the old name for 'AM_CPPFLAGS' (or '*_CPPFLAGS')\\n\",\n",
       " \"tests/rand/Makefile.am:21: warning: 'INCLUDES' is the old name for 'AM_CPPFLAGS' (or '*_CPPFLAGS')\\n\",\n",
       " \"tune/Makefile.am:22: warning: 'INCLUDES' is the old name for 'AM_CPPFLAGS' (or '*_CPPFLAGS')\\n\",\n",
       " \"tests/Makefile.am:48: warning: 'INCLUDES' is the old name for 'AM_CPPFLAGS' (or '*_CPPFLAGS')\\n\",\n",
       " \"tune/Makefile.am:26: warning: 'INCLUDES' is the old name for 'AM_CPPFLAGS' (or '*_CPPFLAGS')\\n\",\n",
       " \"scanflags.c:65:13: warning: passing argument 2 of 'lerrsf_fatal' makes pointer from integer without a cast [enabled by default]\\n\",\n",
       " \"buf.c:101:60: warning: assignment discards 'const' qualifier from pointer target type [enabled by default]\\n\",\n",
       " 'configure.ac:6: warning: AC_ARG_PROGRAM was called before AC_CANONICAL_TARGET\\n',\n",
       " 'configure.ac:6: warning: AC_ARG_PROGRAM was called before AC_CANONICAL_TARGET\\n',\n",
       " 'configure.ac:6: warning: AC_ARG_PROGRAM was called before AC_CANONICAL_TARGET\\n',\n",
       " 'configure.ac:6: warning: AC_ARG_PROGRAM was called before AC_CANONICAL_TARGET\\n',\n",
       " 'configure.ac:6: warning: AC_ARG_PROGRAM was called before AC_CANONICAL_TARGET\\n',\n",
       " \"src/sstrip.c:363:1: warning: format '%d' expects argument of type 'int', but argument 5 has type 'long unsigned int' [-Wformat=]\\n\",\n",
       " \"src/sstrip.c:363:1: warning: format '%d' expects argument of type 'int', but argument 5 has type 'long unsigned int' [-Wformat=]\\n\",\n",
       " \"src/sstrip.c:363:1: warning: format '%d' expects argument of type 'int', but argument 5 has type 'long unsigned int' [-Wformat=]\\n\",\n",
       " \"src/sstrip.c:363:1: warning: format '%d' expects argument of type 'int', but argument 5 has type 'long unsigned int' [-Wformat=]\\n\",\n",
       " \"src/sstrip.c:363:1: warning: format '%d' expects argument of type 'int', but argument 5 has type 'long unsigned int' [-Wformat=]\\n\",\n",
       " \"src/sstrip.c:363:1: warning: format '%d' expects argument of type 'int', but argument 5 has type 'long unsigned int' [-Wformat=]\\n\",\n",
       " \"src/sstrip.c:363:1: warning: format '%d' expects argument of type 'int', but argument 5 has type 'long unsigned int' [-Wformat=]\\n\",\n",
       " \"src/sstrip.c:363:1: warning: format '%d' expects argument of type 'int', but argument 5 has type 'long unsigned int' [-Wformat=]\\n\",\n",
       " \"src/sstrip.c:363:1: warning: format '%d' expects argument of type 'int', but argument 5 has type 'long unsigned int' [-Wformat=]\\n\",\n",
       " \"src/sstrip.c:363:1: warning: format '%d' expects argument of type 'int', but argument 5 has type 'long unsigned int' [-Wformat=]\\n\",\n",
       " \"src/sstrip.c:363:1: warning: format '%d' expects argument of type 'int', but argument 5 has type 'long unsigned int' [-Wformat=]\\n\",\n",
       " \"src/sstrip.c:363:1: warning: format '%d' expects argument of type 'int', but argument 5 has type 'long unsigned int' [-Wformat=]\\n\",\n",
       " \"src/sstrip.c:363:1: warning: format '%d' expects argument of type 'int', but argument 5 has type 'long unsigned int' [-Wformat=]\\n\",\n",
       " \"src/sstrip.c:363:1: warning: format '%d' expects argument of type 'int', but argument 5 has type 'long unsigned int' [-Wformat=]\\n\",\n",
       " \"src/sstrip.c:363:1: warning: format '%d' expects argument of type 'int', but argument 5 has type 'long unsigned int' [-Wformat=]\\n\",\n",
       " \"src/sstrip.c:363:1: warning: format '%d' expects argument of type 'int', but argument 5 has type 'long unsigned int' [-Wformat=]\\n\",\n",
       " \"src/sstrip.c:363:1: warning: format '%d' expects argument of type 'int', but argument 5 has type 'long unsigned int' [-Wformat=]\\n\",\n",
       " \"src/sstrip.c:363:1: warning: format '%d' expects argument of type 'int', but argument 5 has type 'long unsigned int' [-Wformat=]\\n\",\n",
       " \"src/sstrip.c:363:1: warning: format '%d' expects argument of type 'int', but argument 5 has type 'long unsigned int' [-Wformat=]\\n\",\n",
       " \"src/sstrip.c:363:1: warning: format '%d' expects argument of type 'int', but argument 5 has type 'long unsigned int' [-Wformat=]\\n\",\n",
       " \"src/sstrip.c:363:1: warning: format '%d' expects argument of type 'int', but argument 5 has type 'long unsigned int' [-Wformat=]\\n\",\n",
       " \"src/sstrip.c:363:1: warning: format '%d' expects argument of type 'int', but argument 5 has type 'long unsigned int' [-Wformat=]\\n\",\n",
       " \"src/sstrip.c:363:1: warning: format '%d' expects argument of type 'int', but argument 5 has type 'long unsigned int' [-Wformat=]\\n\",\n",
       " \"src/sstrip.c:363:1: warning: format '%d' expects argument of type 'int', but argument 5 has type 'long unsigned int' [-Wformat=]\\n\",\n",
       " \"src/sstrip.c:363:1: warning: format '%d' expects argument of type 'int', but argument 5 has type 'long unsigned int' [-Wformat=]\\n\",\n",
       " \"src/sstrip.c:363:1: warning: format '%d' expects argument of type 'int', but argument 5 has type 'long unsigned int' [-Wformat=]\\n\",\n",
       " \"src/sstrip.c:363:1: warning: format '%d' expects argument of type 'int', but argument 5 has type 'long unsigned int' [-Wformat=]\\n\",\n",
       " \"src/sstrip.c:363:1: warning: format '%d' expects argument of type 'int', but argument 5 has type 'long unsigned int' [-Wformat=]\\n\",\n",
       " \"src/sstrip.c:363:1: warning: format '%d' expects argument of type 'int', but argument 5 has type 'long unsigned int' [-Wformat=]\\n\",\n",
       " \"src/sstrip.c:363:1: warning: format '%d' expects argument of type 'int', but argument 5 has type 'long unsigned int' [-Wformat=]\\n\",\n",
       " \"src/sstrip.c:363:1: warning: format '%d' expects argument of type 'int', but argument 5 has type 'long unsigned int' [-Wformat=]\\n\",\n",
       " \"src/sstrip.c:363:1: warning: format '%d' expects argument of type 'int', but argument 5 has type 'long unsigned int' [-Wformat=]\\n\",\n",
       " \"src/sstrip.c:363:1: warning: format '%d' expects argument of type 'int', but argument 5 has type 'long unsigned int' [-Wformat=]\\n\",\n",
       " \"src/sstrip.c:363:1: warning: format '%d' expects argument of type 'int', but argument 5 has type 'long unsigned int' [-Wformat=]\\n\",\n",
       " \"src/sstrip.c:365:1: warning: format '%d' expects argument of type 'int', but argument 5 has type 'long unsigned int' [-Wformat=]\\n\",\n",
       " \"src/sstrip.c:365:1: warning: format '%d' expects argument of type 'int', but argument 5 has type 'long unsigned int' [-Wformat=]\\n\",\n",
       " \"src/sstrip.c:365:1: warning: format '%d' expects argument of type 'int', but argument 5 has type 'long unsigned int' [-Wformat=]\\n\",\n",
       " \"src/sstrip.c:365:1: warning: format '%d' expects argument of type 'int', but argument 5 has type 'long unsigned int' [-Wformat=]\\n\",\n",
       " \"src/sstrip.c:365:1: warning: format '%d' expects argument of type 'int', but argument 5 has type 'long unsigned int' [-Wformat=]\\n\",\n",
       " \"src/sstrip.c:365:1: warning: format '%d' expects argument of type 'int', but argument 5 has type 'long unsigned int' [-Wformat=]\\n\",\n",
       " \"src/sstrip.c:365:1: warning: format '%d' expects argument of type 'int', but argument 5 has type 'long unsigned int' [-Wformat=]\\n\",\n",
       " \"src/sstrip.c:365:1: warning: format '%d' expects argument of type 'int', but argument 5 has type 'long unsigned int' [-Wformat=]\\n\",\n",
       " \"src/sstrip.c:365:1: warning: format '%d' expects argument of type 'int', but argument 5 has type 'long unsigned int' [-Wformat=]\\n\",\n",
       " \"src/sstrip.c:365:1: warning: format '%d' expects argument of type 'int', but argument 5 has type 'long unsigned int' [-Wformat=]\\n\",\n",
       " \"src/sstrip.c:365:1: warning: format '%d' expects argument of type 'int', but argument 5 has type 'long unsigned int' [-Wformat=]\\n\",\n",
       " \"src/sstrip.c:365:1: warning: format '%d' expects argument of type 'int', but argument 5 has type 'long unsigned int' [-Wformat=]\\n\",\n",
       " \"src/sstrip.c:365:1: warning: format '%d' expects argument of type 'int', but argument 5 has type 'long unsigned int' [-Wformat=]\\n\",\n",
       " \"src/sstrip.c:365:1: warning: format '%d' expects argument of type 'int', but argument 5 has type 'long unsigned int' [-Wformat=]\\n\",\n",
       " \"src/sstrip.c:365:1: warning: format '%d' expects argument of type 'int', but argument 5 has type 'long unsigned int' [-Wformat=]\\n\",\n",
       " \"src/sstrip.c:365:1: warning: format '%d' expects argument of type 'int', but argument 5 has type 'long unsigned int' [-Wformat=]\\n\",\n",
       " \"src/sstrip.c:365:1: warning: format '%d' expects argument of type 'int', but argument 5 has type 'long unsigned int' [-Wformat=]\\n\",\n",
       " \"src/sstrip.c:365:1: warning: format '%d' expects argument of type 'int', but argument 5 has type 'long unsigned int' [-Wformat=]\\n\",\n",
       " \"src/sstrip.c:365:1: warning: format '%d' expects argument of type 'int', but argument 5 has type 'long unsigned int' [-Wformat=]\\n\",\n",
       " \"src/sstrip.c:365:1: warning: format '%d' expects argument of type 'int', but argument 5 has type 'long unsigned int' [-Wformat=]\\n\",\n",
       " \"src/sstrip.c:365:1: warning: format '%d' expects argument of type 'int', but argument 5 has type 'long unsigned int' [-Wformat=]\\n\",\n",
       " \"src/sstrip.c:365:1: warning: format '%d' expects argument of type 'int', but argument 5 has type 'long unsigned int' [-Wformat=]\\n\",\n",
       " \"src/sstrip.c:365:1: warning: format '%d' expects argument of type 'int', but argument 5 has type 'long unsigned int' [-Wformat=]\\n\",\n",
       " \"src/sstrip.c:365:1: warning: format '%d' expects argument of type 'int', but argument 5 has type 'long unsigned int' [-Wformat=]\\n\",\n",
       " \"src/sstrip.c:365:1: warning: format '%d' expects argument of type 'int', but argument 5 has type 'long unsigned int' [-Wformat=]\\n\",\n",
       " \"src/sstrip.c:365:1: warning: format '%d' expects argument of type 'int', but argument 5 has type 'long unsigned int' [-Wformat=]\\n\",\n",
       " \"src/sstrip.c:365:1: warning: format '%d' expects argument of type 'int', but argument 5 has type 'long unsigned int' [-Wformat=]\\n\",\n",
       " \"src/sstrip.c:365:1: warning: format '%d' expects argument of type 'int', but argument 5 has type 'long unsigned int' [-Wformat=]\\n\",\n",
       " \"src/sstrip.c:365:1: warning: format '%d' expects argument of type 'int', but argument 5 has type 'long unsigned int' [-Wformat=]\\n\",\n",
       " \"src/sstrip.c:365:1: warning: format '%d' expects argument of type 'int', but argument 5 has type 'long unsigned int' [-Wformat=]\\n\",\n",
       " \"src/sstrip.c:365:1: warning: format '%d' expects argument of type 'int', but argument 5 has type 'long unsigned int' [-Wformat=]\\n\",\n",
       " \"src/sstrip.c:365:1: warning: format '%d' expects argument of type 'int', but argument 5 has type 'long unsigned int' [-Wformat=]\\n\",\n",
       " \"src/sstrip.c:365:1: warning: format '%d' expects argument of type 'int', but argument 5 has type 'long unsigned int' [-Wformat=]\\n\",\n",
       " \"src/sstrip.c:365:1: warning: format '%d' expects argument of type 'int', but argument 5 has type 'long unsigned int' [-Wformat=]\\n\",\n",
       " 'warning: remote HEAD refers to nonexistent ref, unable to checkout.\\n',\n",
       " \"save.c:147:9: warning: ignoring return value of 'link', declared with attribute warn_unused_result [-Wunused-result]\\n\",\n",
       " 'warning: remote HEAD refers to nonexistent ref, unable to checkout.\\n',\n",
       " 'compr_lzma.c:95:2: warning: initialization from incompatible pointer type [enabled by default]\\n',\n",
       " \"compr_lzma.c:95:2: warning: (near initialization for 'jffs2_lzma_comp.compress') [enabled by default]\\n\",\n",
       " 'compr_lzma.c:96:2: warning: initialization from incompatible pointer type [enabled by default]\\n',\n",
       " \"compr_lzma.c:96:2: warning: (near initialization for 'jffs2_lzma_comp.decompress') [enabled by default]\\n\",\n",
       " '/local/mnt/workspace/ashok/wall_Error_repo_Feb14/date_4_4/qsdk/staging_dir/host/include/byteswap.h:2:2: warning: #include_next is a GCC extension [enabled by default]\\n',\n",
       " '/local/mnt/workspace/ashok/wall_Error_repo_Feb14/date_4_4/qsdk/staging_dir/host/include/byteswap.h:2:2: warning: #include_next is a GCC extension [enabled by default]\\n',\n",
       " '/local/mnt/workspace/ashok/wall_Error_repo_Feb14/date_4_4/qsdk/staging_dir/host/include/byteswap.h:2:2: warning: #include_next is a GCC extension [enabled by default]\\n',\n",
       " \"/local/mnt/workspace/ashok/wall_Error_repo_Feb14/date_4_4/qsdk/build_dir/host/u-boot-2014.10/include/u-boot/md5.h:17:3: warning: ISO C90 doesn't support unnamed structs/unions [-Wpedantic]\\n\",\n",
       " '/local/mnt/workspace/ashok/wall_Error_repo_Feb14/date_4_4/qsdk/staging_dir/host/include/byteswap.h:2:2: warning: #include_next is a GCC extension [enabled by default]\\n',\n",
       " '/local/mnt/workspace/ashok/wall_Error_repo_Feb14/date_4_4/qsdk/staging_dir/host/include/byteswap.h:2:2: warning: #include_next is a GCC extension [enabled by default]\\n',\n",
       " \"src/asustrx.c:135:4: warning: format '%hu' expects argument of type 'short unsigned int *', but argument 3 has type 'uint8_t *' [-Wformat=]\\n\",\n",
       " \"src/asustrx.c:135:4: warning: format '%hu' expects argument of type 'short unsigned int *', but argument 4 has type 'uint8_t *' [-Wformat=]\\n\",\n",
       " \"src/asustrx.c:135:4: warning: format '%hu' expects argument of type 'short unsigned int *', but argument 5 has type 'uint8_t *' [-Wformat=]\\n\",\n",
       " \"src/asustrx.c:135:4: warning: format '%hu' expects argument of type 'short unsigned int *', but argument 6 has type 'uint8_t *' [-Wformat=]\\n\",\n",
       " \"src/asustrx.c:200:4: warning: format '%s' expects a matching 'char *' argument [-Wformat=]\\n\",\n",
       " \"src/asustrx.c:220:3: warning: format '%s' expects a matching 'char *' argument [-Wformat=]\\n\",\n",
       " \"src/asustrx.c:245:3: warning: format '%s' expects a matching 'char *' argument [-Wformat=]\\n\",\n",
       " \"src/airlink.c:296:2: warning: format '%x' expects argument of type 'unsigned int', but argument 3 has type 'long unsigned int' [-Wformat=]\\n\",\n",
       " \"src/airlink.c:308:2: warning: format '%x' expects argument of type 'unsigned int', but argument 3 has type 'long unsigned int' [-Wformat=]\\n\",\n",
       " \"src/airlink.c:323:10: warning: format '%x' expects argument of type 'unsigned int', but argument 3 has type 'long unsigned int' [-Wformat=]\\n\",\n",
       " \"src/airlink.c:323:10: warning: format '%x' expects argument of type 'unsigned int', but argument 4 has type 'long int' [-Wformat=]\\n\",\n",
       " \"src/airlink.c:134:8: warning: ignoring return value of 'write', declared with attribute warn_unused_result [-Wunused-result]\\n\",\n",
       " \"src/airlink.c:136:8: warning: ignoring return value of 'write', declared with attribute warn_unused_result [-Wunused-result]\\n\",\n",
       " \"src/airlink.c:137:7: warning: ignoring return value of 'write', declared with attribute warn_unused_result [-Wunused-result]\\n\",\n",
       " \"src/airlink.c:144:8: warning: ignoring return value of 'write', declared with attribute warn_unused_result [-Wunused-result]\\n\",\n",
       " \"src/airlink.c:146:8: warning: ignoring return value of 'write', declared with attribute warn_unused_result [-Wunused-result]\\n\",\n",
       " \"src/airlink.c:244:6: warning: ignoring return value of 'read', declared with attribute warn_unused_result [-Wunused-result]\\n\",\n",
       " \"src/airlink.c:256:8: warning: ignoring return value of 'write', declared with attribute warn_unused_result [-Wunused-result]\\n\",\n",
       " \"src/airlink.c:268:8: warning: ignoring return value of 'write', declared with attribute warn_unused_result [-Wunused-result]\\n\",\n",
       " \"src/airlink.c:305:7: warning: ignoring return value of 'write', declared with attribute warn_unused_result [-Wunused-result]\\n\",\n",
       " \"src/airlink.c:317:7: warning: ignoring return value of 'write', declared with attribute warn_unused_result [-Wunused-result]\\n\",\n",
       " \"src/airlink.c:326:8: warning: ignoring return value of 'write', declared with attribute warn_unused_result [-Wunused-result]\\n\",\n",
       " \"src/mkmylofw.c:399:8: warning: ignoring return value of 'fread', declared with attribute warn_unused_result [-Wunused-result]\\n\",\n",
       " \"src/mkmylofw.c:569:8: warning: ignoring return value of 'fread', declared with attribute warn_unused_result [-Wunused-result]\\n\",\n",
       " 'src/mkcsysimg.c:513:3: warning: too many arguments for format [-Wformat-extra-args]\\n',\n",
       " 'src/mkcsysimg.c:560:3: warning: too many arguments for format [-Wformat-extra-args]\\n',\n",
       " 'src/mkcsysimg.c:608:3: warning: too many arguments for format [-Wformat-extra-args]\\n',\n",
       " 'src/mkcsysimg.c:621:4: warning: too many arguments for format [-Wformat-extra-args]\\n',\n",
       " \"src/mkcsysimg.c:650:2: warning: format '%d' expects argument of type 'int', but argument 4 has type 'size_t' [-Wformat=]\\n\",\n",
       " 'src/mkcsysimg.c:1125:4: warning: too many arguments for format [-Wformat-extra-args]\\n',\n",
       " 'src/mkcsysimg.c:1129:3: warning: too many arguments for format [-Wformat-extra-args]\\n',\n",
       " 'src/mkcsysimg.c:1134:3: warning: too many arguments for format [-Wformat-extra-args]\\n',\n",
       " \"src/mkcsysimg.c:619:8: warning: ignoring return value of 'fread', declared with attribute warn_unused_result [-Wunused-result]\\n\",\n",
       " \"src/mkzynfw.c:690:2: warning: format '%d' expects argument of type 'int', but argument 5 has type 'size_t' [-Wformat=]\\n\",\n",
       " \"src/mkzynfw.c:991:2: warning: format '%lu' expects argument of type 'long unsigned int', but argument 4 has type 'uint32_t' [-Wformat=]\\n\",\n",
       " \"src/mkzynfw.c:667:7: warning: ignoring return value of 'fread', declared with attribute warn_unused_result [-Wunused-result]\\n\",\n",
       " \"src/mkzynfw.c:706:8: warning: ignoring return value of 'fread', declared with attribute warn_unused_result [-Wunused-result]\\n\",\n",
       " 'src/mkcasfw.c:574:3: warning: too many arguments for format [-Wformat-extra-args]\\n',\n",
       " 'src/mkcasfw.c:621:3: warning: too many arguments for format [-Wformat-extra-args]\\n',\n",
       " 'src/mkcasfw.c:658:3: warning: too many arguments for format [-Wformat-extra-args]\\n',\n",
       " 'src/mkcasfw.c:671:4: warning: too many arguments for format [-Wformat-extra-args]\\n',\n",
       " \"src/mkcasfw.c:711:2: warning: format '%d' expects argument of type 'int', but argument 4 has type 'size_t' [-Wformat=]\\n\",\n",
       " 'src/mkcasfw.c:728:3: warning: too many arguments for format [-Wformat-extra-args]\\n',\n",
       " 'src/mkcasfw.c:988:4: warning: too many arguments for format [-Wformat-extra-args]\\n',\n",
       " 'src/mkcasfw.c:992:3: warning: too many arguments for format [-Wformat-extra-args]\\n',\n",
       " 'src/mkcasfw.c:997:3: warning: too many arguments for format [-Wformat-extra-args]\\n',\n",
       " \"src/mkcasfw.c:669:8: warning: ignoring return value of 'fread', declared with attribute warn_unused_result [-Wunused-result]\\n\",\n",
       " \"src/imagetag.c:307:4: warning: format '%lu' expects argument of type 'long unsigned int', but argument 3 has type 'uint32_t' [-Wformat=]\\n\",\n",
       " '/usr/include/x86_64-linux-gnu/bits/string3.h:120:3: warning: call to __builtin___strncpy_chk will always overflow destination buffer [enabled by default]\\n',\n",
       " \"src/nand_ecc.c:191:8: warning: ignoring return value of 'write', declared with attribute warn_unused_result [-Wunused-result]\\n\",\n",
       " 'src/mkplanexfw.c:191:3: warning: too many arguments for format [-Wformat-extra-args]\\n',\n",
       " 'src/mkplanexfw.c:219:3: warning: too many arguments for format [-Wformat-extra-args]\\n',\n",
       " 'src/mkplanexfw.c:226:3: warning: too many arguments for format [-Wformat-extra-args]\\n',\n",
       " 'src/mkplanexfw.c:238:3: warning: too many arguments for format [-Wformat-extra-args]\\n',\n",
       " 'src/mkplanexfw.c:245:3: warning: too many arguments for format [-Wformat-extra-args]\\n',\n",
       " \"src/mkplanexfw.c:224:7: warning: ignoring return value of 'fread', declared with attribute warn_unused_result [-Wunused-result]\\n\",\n",
       " 'src/mktplinkfw.c:568:3: warning: too many arguments for format [-Wformat-extra-args]\\n',\n",
       " 'src/mktplinkfw.c:583:3: warning: too many arguments for format [-Wformat-extra-args]\\n',\n",
       " 'src/mktplinkfw.c:590:3: warning: too many arguments for format [-Wformat-extra-args]\\n',\n",
       " 'src/mktplinkfw.c:814:3: warning: too many arguments for format [-Wformat-extra-args]\\n',\n",
       " 'src/mktplinkfw.c:821:3: warning: too many arguments for format [-Wformat-extra-args]\\n',\n",
       " \"src/mktplinkfw.c:588:7: warning: ignoring return value of 'fread', declared with attribute warn_unused_result [-Wunused-result]\\n\",\n",
       " 'src/mktplinkfw2.c:292:3: warning: too many arguments for format [-Wformat-extra-args]\\n',\n",
       " 'src/mktplinkfw2.c:307:3: warning: too many arguments for format [-Wformat-extra-args]\\n',\n",
       " 'src/mktplinkfw2.c:314:3: warning: too many arguments for format [-Wformat-extra-args]\\n',\n",
       " 'src/mktplinkfw2.c:563:3: warning: too many arguments for format [-Wformat-extra-args]\\n',\n",
       " 'src/mktplinkfw2.c:570:3: warning: too many arguments for format [-Wformat-extra-args]\\n',\n",
       " \"src/mktplinkfw2.c:312:7: warning: ignoring return value of 'fread', declared with attribute warn_unused_result [-Wunused-result]\\n\",\n",
       " 'src/pc1crypt.c:286:3: warning: too many arguments for format [-Wformat-extra-args]\\n',\n",
       " 'src/pc1crypt.c:299:3: warning: too many arguments for format [-Wformat-extra-args]\\n',\n",
       " 'src/pc1crypt.c:305:3: warning: too many arguments for format [-Wformat-extra-args]\\n',\n",
       " 'src/pc1crypt.c:321:4: warning: too many arguments for format [-Wformat-extra-args]\\n',\n",
       " 'src/pc1crypt.c:333:4: warning: too many arguments for format [-Wformat-extra-args]\\n',\n",
       " \"src/pc1crypt.c:319:8: warning: ignoring return value of 'fread', declared with attribute warn_unused_result [-Wunused-result]\\n\",\n",
       " 'src/osbridge-crc.c:124:3: warning: too many arguments for format [-Wformat-extra-args]\\n',\n",
       " 'src/osbridge-crc.c:137:3: warning: too many arguments for format [-Wformat-extra-args]\\n',\n",
       " 'src/osbridge-crc.c:144:3: warning: too many arguments for format [-Wformat-extra-args]\\n',\n",
       " 'src/osbridge-crc.c:154:3: warning: too many arguments for format [-Wformat-extra-args]\\n',\n",
       " 'src/osbridge-crc.c:161:3: warning: too many arguments for format [-Wformat-extra-args]\\n',\n",
       " \"src/osbridge-crc.c:142:7: warning: ignoring return value of 'fread', declared with attribute warn_unused_result [-Wunused-result]\\n\",\n",
       " 'src/mkdniimg.c:137:3: warning: too many arguments for format [-Wformat-extra-args]\\n',\n",
       " 'src/mkdniimg.c:158:3: warning: too many arguments for format [-Wformat-extra-args]\\n',\n",
       " 'src/mkdniimg.c:165:3: warning: too many arguments for format [-Wformat-extra-args]\\n',\n",
       " 'src/mkdniimg.c:178:3: warning: too many arguments for format [-Wformat-extra-args]\\n',\n",
       " 'src/mkdniimg.c:185:3: warning: too many arguments for format [-Wformat-extra-args]\\n',\n",
       " \"src/mkdniimg.c:163:7: warning: ignoring return value of 'fread', declared with attribute warn_unused_result [-Wunused-result]\\n\",\n",
       " \"src/mktitanimg.c:408:8: warning: ignoring return value of 'fread', declared with attribute warn_unused_result [-Wunused-result]\\n\",\n",
       " \"src/mktitanimg.c:416:8: warning: ignoring return value of 'fread', declared with attribute warn_unused_result [-Wunused-result]\\n\",\n",
       " \"src/mktitanimg.c:445:8: warning: ignoring return value of 'fread', declared with attribute warn_unused_result [-Wunused-result]\\n\",\n",
       " \"src/mktitanimg.c:525:7: warning: ignoring return value of 'fread', declared with attribute warn_unused_result [-Wunused-result]\\n\",\n",
       " \"src/mktitanimg.c:536:7: warning: ignoring return value of 'fread', declared with attribute warn_unused_result [-Wunused-result]\\n\",\n",
       " \"src/mktitanimg.c:639:7: warning: ignoring return value of 'fread', declared with attribute warn_unused_result [-Wunused-result]\\n\",\n",
       " \"src/mktitanimg.c:640:7: warning: ignoring return value of 'fread', declared with attribute warn_unused_result [-Wunused-result]\\n\",\n",
       " 'src/mkzcfw.c:156:3: warning: too many arguments for format [-Wformat-extra-args]\\n',\n",
       " 'src/mkzcfw.c:171:3: warning: too many arguments for format [-Wformat-extra-args]\\n',\n",
       " 'src/mkzcfw.c:178:3: warning: too many arguments for format [-Wformat-extra-args]\\n',\n",
       " 'src/mkzcfw.c:248:3: warning: too many arguments for format [-Wformat-extra-args]\\n',\n",
       " 'src/mkzcfw.c:255:3: warning: too many arguments for format [-Wformat-extra-args]\\n',\n",
       " \"src/mkzcfw.c:176:7: warning: ignoring return value of 'fread', declared with attribute warn_unused_result [-Wunused-result]\\n\",\n",
       " \"src/mkwrgimg.c:195:7: warning: ignoring return value of 'fread', declared with attribute warn_unused_result [-Wunused-result]\\n\",\n",
       " \"src/mkbrnimg.c:145:2: warning: format '%x' expects argument of type 'unsigned int', but argument 3 has type 'size_t' [-Wformat=]\\n\",\n",
       " \"src/mkbrnimg.c:145:2: warning: format '%x' expects argument of type 'unsigned int', but argument 4 has type 'size_t' [-Wformat=]\\n\",\n",
       " \"src/mkbrnimg.c:185:7: warning: ignoring return value of 'write', declared with attribute warn_unused_result [-Wunused-result]\\n\",\n",
       " \"src/mkbrnimg.c:141:7: warning: ignoring return value of 'write', declared with attribute warn_unused_result [-Wunused-result]\\n\",\n",
       " \"src/mkbrnimg.c:146:7: warning: ignoring return value of 'write', declared with attribute warn_unused_result [-Wunused-result]\\n\",\n",
       " \"src/mkbrnimg.c:161:7: warning: ignoring return value of 'write', declared with attribute warn_unused_result [-Wunused-result]\\n\",\n",
       " \"src/mkdapimg.c:162:12: warning: ignoring return value of 'fread', declared with attribute warn_unused_result [-Wunused-result]\\n\",\n",
       " \"src/mkcameofw.c:157:7: warning: ignoring return value of 'fread', declared with attribute warn_unused_result [-Wunused-result]\\n\",\n",
       " \"src/seama.c:238:5: warning: format '%d' expects argument of type 'int', but argument 2 has type 'size_t' [-Wformat=]\\n\",\n",
       " \"src/seama.c:241:5: warning: format '%d' expects argument of type 'int', but argument 2 has type 'size_t' [-Wformat=]\\n\",\n",
       " \"src/seama.c:476:6: warning: format '%d' expects argument of type 'int', but argument 3 has type 'size_t' [-Wformat=]\\n\",\n",
       " \"src/seama.c:453:9: warning: ignoring return value of 'fread', declared with attribute warn_unused_result [-Wunused-result]\\n\",\n",
       " \"src/seama.c:469:9: warning: ignoring return value of 'fread', declared with attribute warn_unused_result [-Wunused-result]\\n\",\n",
       " \"src/seama.c:473:10: warning: ignoring return value of 'fread', declared with attribute warn_unused_result [-Wunused-result]\\n\",\n",
       " \"src/fix-u-media-header.c:170:7: warning: ignoring return value of 'fread', declared with attribute warn_unused_result [-Wunused-result]\\n\",\n",
       " \"src/hcsmakeimage.c:163:8: warning: ignoring return value of 'fread', declared with attribute warn_unused_result [-Wunused-result]\\n\",\n",
       " \"src/bcmalgo.c:86:8: warning: ignoring return value of 'fread', declared with attribute warn_unused_result [-Wunused-result]\\n\",\n",
       " \"src/mkporayfw.c:376:7: warning: ignoring return value of 'fread', declared with attribute warn_unused_result [-Wunused-result]\\n\",\n",
       " \"src/mkhilinkfw.c:280:14: warning: ignoring return value of 'write', declared with attribute warn_unused_result [-Wunused-result]\\n\",\n",
       " \"src/mkdcs932.c:28:7: warning: ignoring return value of 'write', declared with attribute warn_unused_result [-Wunused-result]\\n\",\n",
       " \"src/mkdcs932.c:35:7: warning: ignoring return value of 'write', declared with attribute warn_unused_result [-Wunused-result]\\n\",\n",
       " \"src/mkrtn56uimg.c:212:12: warning: ignoring return value of 'ftruncate', declared with attribute warn_unused_result [-Wunused-result]\\n\",\n",
       " \"src/mkrtn56uimg.c:246:11: warning: ignoring return value of 'ftruncate', declared with attribute warn_unused_result [-Wunused-result]\\n\",\n",
       " \"src/edimax_fw_header.c:164:7: warning: ignoring return value of 'fread', declared with attribute warn_unused_result [-Wunused-result]\\n\",\n",
       " 'regex_internal.h:185:55: warning: integer overflow in preprocessor expression [enabled by default]\\n',\n",
       " \"find.c:1426:4: warning: format '%d' expects argument of type 'int', but argument 5 has type '__nlink_t' [-Wformat=]\\n\",\n",
       " \"find.c:1426:4: warning: format '%d' expects argument of type 'int', but argument 6 has type 'size_t' [-Wformat=]\\n\",\n",
       " 'word_io.c:55:0: warning: \"bswap_32\" redefined [enabled by default]\\n',\n",
       " '../devextras.h:210:0: warning: \"DT_UNKNOWN\" redefined [enabled by default]\\n',\n",
       " '../devextras.h:211:0: warning: \"DT_FIFO\" redefined [enabled by default]\\n',\n",
       " '../devextras.h:212:0: warning: \"DT_CHR\" redefined [enabled by default]\\n',\n",
       " '../devextras.h:213:0: warning: \"DT_DIR\" redefined [enabled by default]\\n',\n",
       " '../devextras.h:214:0: warning: \"DT_BLK\" redefined [enabled by default]\\n',\n",
       " '../devextras.h:215:0: warning: \"DT_REG\" redefined [enabled by default]\\n',\n",
       " '../devextras.h:216:0: warning: \"DT_LNK\" redefined [enabled by default]\\n',\n",
       " '../devextras.h:217:0: warning: \"DT_SOCK\" redefined [enabled by default]\\n',\n",
       " '../devextras.h:218:0: warning: \"DT_WHT\" redefined [enabled by default]\\n',\n",
       " \"mkyaffs2image.c:369:16: warning: ignoring return value of 'readlink', declared with attribute warn_unused_result [-Wunused-result]\\n\",\n",
       " \"number.c:767:14: warning: variable 'v0len' set but not used [-Wunused-but-set-variable]\\n\",\n",
       " \"number.c:767:7: warning: variable 'u0len' set but not used [-Wunused-but-set-variable]\\n\",\n",
       " \"main.c:295:12: warning: variable 'tmp' set but not used [-Wunused-but-set-variable]\\n\",\n",
       " \"main.c:360:9: warning: ignoring return value of 'write', declared with attribute warn_unused_result [-Wunused-result]\\n\",\n",
       " \"scan.c:1800:17: warning: 'yyunput' defined but not used [-Wunused-function]\\n\",\n",
       " \"storage.c:1003:11: warning: variable 'n_temp' set but not used [-Wunused-but-set-variable]\\n\",\n",
       " \"misc.c:142:9: warning: ignoring return value of 'system', declared with attribute warn_unused_result [-Wunused-result]\\n\",\n",
       " \"misc.c:146:8: warning: ignoring return value of 'system', declared with attribute warn_unused_result [-Wunused-result]\\n\",\n",
       " \"doc/Makefile.am:58: warning: suffix '.texinfo' for Texinfo files is discouraged; use '.texi' instead\\n\",\n",
       " \"src/skels/Makefile.am:31: warning: 'INCLUDES' is the old name for 'AM_CPPFLAGS' (or '*_CPPFLAGS')\\n\",\n",
       " \"tests/Makefile.am:218: warning: variable 'test_manual_help_args_SOURCES' is defined but no program or\\n\",\n",
       " \"LzmaUtil.c:95:39: warning: suggest parentheses around '&&' within '||' [-Wparentheses]\\n\",\n",
       " 'LzmaUtil.c:252:3: warning: format not a string literal and no format arguments [-Wformat-security]\\n',\n",
       " \"../LzmaEnc.c:1922:8: warning: variable 'btMode' set but not used [-Wunused-but-set-variable]\\n\",\n",
       " 'LzmaAlone.cpp:467:36: warning: format not a string literal and no format arguments [-Wformat-security]\\n',\n",
       " 'LzmaAlone.cpp:492:33: warning: format not a string literal and no format arguments [-Wformat-security]\\n',\n",
       " 'LzmaBenchCon.cpp:145:20: warning: format not a string literal and no format arguments [-Wformat-security]\\n',\n",
       " 'LzmaBenchCon.cpp:204:22: warning: format not a string literal and no format arguments [-Wformat-security]\\n',\n",
       " 'LzmaBenchCon.cpp:211:22: warning: format not a string literal and no format arguments [-Wformat-security]\\n',\n",
       " \"../../../../C/LzmaEnc.c:1922:8: warning: variable 'btMode' set but not used [-Wunused-but-set-variable]\\n\",\n",
       " \"lzmp.cpp:112:1: warning: deprecated conversion from string constant to 'wchar_t*' [-Wwrite-strings]\\n\",\n",
       " \"lzmp.cpp:112:1: warning: deprecated conversion from string constant to 'wchar_t*' [-Wwrite-strings]\\n\",\n",
       " \"lzmp.cpp:112:1: warning: deprecated conversion from string constant to 'wchar_t*' [-Wwrite-strings]\\n\",\n",
       " \"lzmp.cpp:112:1: warning: deprecated conversion from string constant to 'wchar_t*' [-Wwrite-strings]\\n\",\n",
       " \"lzmp.cpp:112:1: warning: deprecated conversion from string constant to 'wchar_t*' [-Wwrite-strings]\\n\",\n",
       " \"lzmp.cpp:112:1: warning: deprecated conversion from string constant to 'wchar_t*' [-Wwrite-strings]\\n\",\n",
       " \"lzmp.cpp:112:1: warning: deprecated conversion from string constant to 'wchar_t*' [-Wwrite-strings]\\n\",\n",
       " \"lzmp.cpp:112:1: warning: deprecated conversion from string constant to 'wchar_t*' [-Wwrite-strings]\\n\",\n",
       " \"lzmp.cpp:112:1: warning: deprecated conversion from string constant to 'wchar_t*' [-Wwrite-strings]\\n\",\n",
       " \"lzmp.cpp:123:1: warning: deprecated conversion from string constant to 'char*' [-Wwrite-strings]\\n\",\n",
       " \"lzmp.cpp:123:1: warning: deprecated conversion from string constant to 'char*' [-Wwrite-strings]\\n\",\n",
       " \"lzmp.cpp:123:1: warning: deprecated conversion from string constant to 'char*' [-Wwrite-strings]\\n\",\n",
       " \"lzmp.cpp:123:1: warning: deprecated conversion from string constant to 'char*' [-Wwrite-strings]\\n\",\n",
       " \"lzmp.cpp:236:51: warning: deprecated conversion from string constant to 'char*' [-Wwrite-strings]\\n\",\n",
       " \"lzmp.cpp:239:51: warning: deprecated conversion from string constant to 'char*' [-Wwrite-strings]\\n\",\n",
       " \"lzmp.cpp:352:31: warning: deprecated conversion from string constant to 'char*' [-Wwrite-strings]\\n\",\n",
       " \"lzmp.cpp:399:47: warning: deprecated conversion from string constant to 'char*' [-Wwrite-strings]\\n\",\n",
       " \"lzmp.cpp:416:48: warning: deprecated conversion from string constant to 'char*' [-Wwrite-strings]\\n\",\n",
       " \"lzmp.cpp:422:43: warning: deprecated conversion from string constant to 'char*' [-Wwrite-strings]\\n\",\n",
       " \"lzmp.cpp:440:31: warning: deprecated conversion from string constant to 'char*' [-Wwrite-strings]\\n\",\n",
       " \"lzmp.cpp:442:31: warning: deprecated conversion from string constant to 'char*' [-Wwrite-strings]\\n\",\n",
       " \"lzmp.cpp:444:49: warning: deprecated conversion from string constant to 'char*' [-Wwrite-strings]\\n\",\n",
       " \"lzmp.cpp:451:32: warning: deprecated conversion from string constant to 'char*' [-Wwrite-strings]\\n\",\n",
       " \"lzmp.cpp:453:32: warning: deprecated conversion from string constant to 'char*' [-Wwrite-strings]\\n\",\n",
       " \"lzmp.cpp:459:34: warning: deprecated conversion from string constant to 'char*' [-Wwrite-strings]\\n\",\n",
       " \"lzmp.cpp:543:7: warning: variable 'found_replacement' set but not used [-Wunused-but-set-variable]\\n\",\n",
       " 'lzmp.cpp:665:37: warning: comparison between signed and unsigned integer expressions [-Wsign-compare]\\n',\n",
       " \"lzmp.cpp:841:8: warning: variable 'ret' set but not used [-Wunused-but-set-variable]\\n\",\n",
       " \"lzma_version.h:13:20: warning: 'LZMA_SDK_COPYRIGHT_INFO' defined but not used [-Wunused-variable]\\n\",\n",
       " \"lzma_version.h:19:20: warning: 'LZMA_UTILS_VERSION_STRING' defined but not used [-Wunused-variable]\\n\",\n",
       " \"lzma_version.h:21:20: warning: 'LZMA_UTILS_COPYRIGHT_STRING' defined but not used [-Wunused-variable]\\n\",\n",
       " \"lzma_version.h:24:20: warning: 'LZMA_UTILS_COPYRIGHT_INFO' defined but not used [-Wunused-variable]\\n\",\n",
       " \"pseudo.c:70:13: warning: 'dump_pseudo' defined but not used [-Wunused-function]\\n\",\n",
       " 'search.c:213:3: warning: too many arguments for format [-Wformat-extra-args]\\n',\n",
       " \"util.c:510:3: warning: format '%ld' expects argument of type 'long int', but argument 3 has type '__pid_t' [-Wformat=]\\n\",\n",
       " \"histfile.c:406:13: warning: ignoring return value of 'write', declared with attribute warn_unused_result [-Wunused-result]\\n\",\n",
       " \"./armemu.c:631:10: warning: format '%lx' expects argument of type 'long unsigned int', but argument 3 has type 'ARMword' [-Wformat=]\\n\",\n",
       " \"./armemu.c:631:10: warning: format '%lx' expects argument of type 'long unsigned int', but argument 4 has type 'ARMword' [-Wformat=]\\n\",\n",
       " \"./armemu.c:631:10: warning: format '%lx' expects argument of type 'long unsigned int', but argument 5 has type 'ARMword' [-Wformat=]\\n\",\n",
       " \"./armemu.c:631:10: warning: format '%lx' expects argument of type 'long unsigned int', but argument 3 has type 'ARMword' [-Wformat=]\\n\",\n",
       " \"./armemu.c:631:10: warning: format '%lx' expects argument of type 'long unsigned int', but argument 4 has type 'ARMword' [-Wformat=]\\n\",\n",
       " \"./armemu.c:631:10: warning: format '%lx' expects argument of type 'long unsigned int', but argument 5 has type 'ARMword' [-Wformat=]\\n\",\n",
       " 'armos.c:844:12: warning: cast to pointer from integer of different size [-Wint-to-pointer-cast]\\n',\n",
       " \"ldlex.c:3818:41: warning: declaration of 'base' shadows a global declaration [-Wshadow]\\n\",\n",
       " './ldlang.h:478:20: warning: shadowed declaration is here [-Wshadow]\\n',\n",
       " \"libtool: install: warning: remember to run `libtool --finish /local/mnt/workspace/ashok/wall_Error_repo_Feb14/date_4_4/qsdk/staging_dir/toolchain-arm_cortex-a7_gcc-5.2.0_musl-1.1.16_eabi/libexec/gcc/arm-openwrt-linux-muslgnueabi/5.2.0'\\n\",\n",
       " '/local/mnt/workspace/ashok/wall_Error_repo_Feb14/date_4_4/qsdk/build_dir/toolchain-arm_cortex-a7_gcc-5.2.0_musl-1.1.16_eabi/gcc-5.2.0/libcpp/expr.c:681:18: warning: format not a string literal and no format arguments [-Wformat-security]\\n',\n",
       " '/local/mnt/workspace/ashok/wall_Error_repo_Feb14/date_4_4/qsdk/build_dir/toolchain-arm_cortex-a7_gcc-5.2.0_musl-1.1.16_eabi/gcc-5.2.0/libcpp/expr.c:684:39: warning: format not a string literal and no format arguments [-Wformat-security]\\n',\n",
       " '/local/mnt/workspace/ashok/wall_Error_repo_Feb14/date_4_4/qsdk/build_dir/toolchain-arm_cortex-a7_gcc-5.2.0_musl-1.1.16_eabi/gcc-5.2.0/libcpp/macro.c:3087:58: warning: format not a string literal and no format arguments [-Wformat-security]\\n',\n",
       " '/local/mnt/workspace/ashok/wall_Error_repo_Feb14/date_4_4/qsdk/build_dir/toolchain-arm_cortex-a7_gcc-5.2.0_musl-1.1.16_eabi/gcc-5.2.0/libcpp/macro.c:3100:58: warning: format not a string literal and no format arguments [-Wformat-security]\\n',\n",
       " '/local/mnt/workspace/ashok/wall_Error_repo_Feb14/date_4_4/qsdk/build_dir/toolchain-arm_cortex-a7_gcc-5.2.0_musl-1.1.16_eabi/gcc-5.2.0/libcpp/expr.c:681:18: warning: format not a string literal and no format arguments [-Wformat-security]\\n',\n",
       " '/local/mnt/workspace/ashok/wall_Error_repo_Feb14/date_4_4/qsdk/build_dir/toolchain-arm_cortex-a7_gcc-5.2.0_musl-1.1.16_eabi/gcc-5.2.0/libcpp/expr.c:684:39: warning: format not a string literal and no format arguments [-Wformat-security]\\n',\n",
       " '/local/mnt/workspace/ashok/wall_Error_repo_Feb14/date_4_4/qsdk/build_dir/toolchain-arm_cortex-a7_gcc-5.2.0_musl-1.1.16_eabi/gcc-5.2.0/libcpp/macro.c:3087:58: warning: format not a string literal and no format arguments [-Wformat-security]\\n',\n",
       " '/local/mnt/workspace/ashok/wall_Error_repo_Feb14/date_4_4/qsdk/build_dir/toolchain-arm_cortex-a7_gcc-5.2.0_musl-1.1.16_eabi/gcc-5.2.0/libcpp/macro.c:3100:58: warning: format not a string literal and no format arguments [-Wformat-security]\\n',\n",
       " 'gengtype-lex.c:2150:27: warning: comparison between signed and unsigned integer expressions [-Wsign-compare]\\n',\n",
       " \"/local/mnt/workspace/ashok/wall_Error_repo_Feb14/date_4_4/qsdk/build_dir/toolchain-arm_cortex-a7_gcc-5.2.0_musl-1.1.16_eabi/gcc-5.2.0/gcc/genhooks.c:140:31: warning: ignoring return value of 'int fscanf(FILE*, const char*, ...)', declared with attribute warn_unused_result [-Wunused-result]\\n\",\n",
       " \"/local/mnt/workspace/ashok/wall_Error_repo_Feb14/date_4_4/qsdk/build_dir/toolchain-arm_cortex-a7_gcc-5.2.0_musl-1.1.16_eabi/gcc-5.2.0/gcc/genhooks.c:131:3: warning: ignoring return value of 'int fscanf(FILE*, const char*, ...)', declared with attribute warn_unused_result [-Wunused-result]\\n\",\n",
       " \"/local/mnt/workspace/ashok/wall_Error_repo_Feb14/date_4_4/qsdk/build_dir/toolchain-arm_cortex-a7_gcc-5.2.0_musl-1.1.16_eabi/gcc-5.2.0/gcc/genhooks.c:193:34: warning: ignoring return value of 'int fscanf(FILE*, const char*, ...)', declared with attribute warn_unused_result [-Wunused-result]\\n\",\n",
       " \"/local/mnt/workspace/ashok/wall_Error_repo_Feb14/date_4_4/qsdk/build_dir/toolchain-arm_cortex-a7_gcc-5.2.0_musl-1.1.16_eabi/gcc-5.2.0/gcc/genhooks.c:199:31: warning: ignoring return value of 'int fscanf(FILE*, const char*, ...)', declared with attribute warn_unused_result [-Wunused-result]\\n\",\n",
       " \"/local/mnt/workspace/ashok/wall_Error_repo_Feb14/date_4_4/qsdk/build_dir/toolchain-arm_cortex-a7_gcc-5.2.0_musl-1.1.16_eabi/gcc-5.2.0/gcc/langhooks.c:479:41: warning: unknown conversion type character 'r' in format [-Wformat=]\\n\",\n",
       " \"/local/mnt/workspace/ashok/wall_Error_repo_Feb14/date_4_4/qsdk/build_dir/toolchain-arm_cortex-a7_gcc-5.2.0_musl-1.1.16_eabi/gcc-5.2.0/gcc/langhooks.c:479:41: warning: format '%d' expects argument of type 'int', but argument 5 has type 'const char*' [-Wformat=]\\n\",\n",
       " \"/local/mnt/workspace/ashok/wall_Error_repo_Feb14/date_4_4/qsdk/build_dir/toolchain-arm_cortex-a7_gcc-5.2.0_musl-1.1.16_eabi/gcc-5.2.0/gcc/langhooks.c:479:41: warning: unknown conversion type character 'R' in format [-Wformat=]\\n\",\n",
       " '/local/mnt/workspace/ashok/wall_Error_repo_Feb14/date_4_4/qsdk/build_dir/toolchain-arm_cortex-a7_gcc-5.2.0_musl-1.1.16_eabi/gcc-5.2.0/gcc/langhooks.c:479:41: warning: too many arguments for format [-Wformat-extra-args]\\n',\n",
       " \"/local/mnt/workspace/ashok/wall_Error_repo_Feb14/date_4_4/qsdk/build_dir/toolchain-arm_cortex-a7_gcc-5.2.0_musl-1.1.16_eabi/gcc-5.2.0/gcc/langhooks.c:484:31: warning: unknown conversion type character 'r' in format [-Wformat=]\\n\",\n",
       " \"/local/mnt/workspace/ashok/wall_Error_repo_Feb14/date_4_4/qsdk/build_dir/toolchain-arm_cortex-a7_gcc-5.2.0_musl-1.1.16_eabi/gcc-5.2.0/gcc/langhooks.c:484:31: warning: format '%d' expects argument of type 'int', but argument 5 has type 'const char*' [-Wformat=]\\n\",\n",
       " \"/local/mnt/workspace/ashok/wall_Error_repo_Feb14/date_4_4/qsdk/build_dir/toolchain-arm_cortex-a7_gcc-5.2.0_musl-1.1.16_eabi/gcc-5.2.0/gcc/langhooks.c:484:31: warning: unknown conversion type character 'R' in format [-Wformat=]\\n\",\n",
       " '/local/mnt/workspace/ashok/wall_Error_repo_Feb14/date_4_4/qsdk/build_dir/toolchain-arm_cortex-a7_gcc-5.2.0_musl-1.1.16_eabi/gcc-5.2.0/gcc/langhooks.c:484:31: warning: too many arguments for format [-Wformat-extra-args]\\n',\n",
       " \"/local/mnt/workspace/ashok/wall_Error_repo_Feb14/date_4_4/qsdk/build_dir/toolchain-arm_cortex-a7_gcc-5.2.0_musl-1.1.16_eabi/gcc-5.2.0/gcc/diagnostic.c:585:53: warning: unknown conversion type character 'r' in format [-Wformat=]\\n\",\n",
       " \"/local/mnt/workspace/ashok/wall_Error_repo_Feb14/date_4_4/qsdk/build_dir/toolchain-arm_cortex-a7_gcc-5.2.0_musl-1.1.16_eabi/gcc-5.2.0/gcc/diagnostic.c:585:53: warning: format '%d' expects argument of type 'int', but argument 4 has type 'const char*' [-Wformat=]\\n\",\n",
       " \"/local/mnt/workspace/ashok/wall_Error_repo_Feb14/date_4_4/qsdk/build_dir/toolchain-arm_cortex-a7_gcc-5.2.0_musl-1.1.16_eabi/gcc-5.2.0/gcc/diagnostic.c:585:53: warning: unknown conversion type character 'R' in format [-Wformat=]\\n\",\n",
       " '/local/mnt/workspace/ashok/wall_Error_repo_Feb14/date_4_4/qsdk/build_dir/toolchain-arm_cortex-a7_gcc-5.2.0_musl-1.1.16_eabi/gcc-5.2.0/gcc/diagnostic.c:585:53: warning: too many arguments for format [-Wformat-extra-args]\\n',\n",
       " \"/local/mnt/workspace/ashok/wall_Error_repo_Feb14/date_4_4/qsdk/build_dir/toolchain-arm_cortex-a7_gcc-5.2.0_musl-1.1.16_eabi/gcc-5.2.0/gcc/diagnostic.c:589:47: warning: unknown conversion type character 'r' in format [-Wformat=]\\n\",\n",
       " \"/local/mnt/workspace/ashok/wall_Error_repo_Feb14/date_4_4/qsdk/build_dir/toolchain-arm_cortex-a7_gcc-5.2.0_musl-1.1.16_eabi/gcc-5.2.0/gcc/diagnostic.c:589:47: warning: format '%d' expects argument of type 'int', but argument 4 has type 'const char*' [-Wformat=]\\n\",\n",
       " \"/local/mnt/workspace/ashok/wall_Error_repo_Feb14/date_4_4/qsdk/build_dir/toolchain-arm_cortex-a7_gcc-5.2.0_musl-1.1.16_eabi/gcc-5.2.0/gcc/diagnostic.c:589:47: warning: unknown conversion type character 'R' in format [-Wformat=]\\n\",\n",
       " '/local/mnt/workspace/ashok/wall_Error_repo_Feb14/date_4_4/qsdk/build_dir/toolchain-arm_cortex-a7_gcc-5.2.0_musl-1.1.16_eabi/gcc-5.2.0/gcc/diagnostic.c:589:47: warning: too many arguments for format [-Wformat-extra-args]\\n',\n",
       " \"/local/mnt/workspace/ashok/wall_Error_repo_Feb14/date_4_4/qsdk/build_dir/toolchain-arm_cortex-a7_gcc-5.2.0_musl-1.1.16_eabi/gcc-5.2.0/gcc/diagnostic.c:595:49: warning: unknown conversion type character 'r' in format [-Wformat=]\\n\",\n",
       " \"/local/mnt/workspace/ashok/wall_Error_repo_Feb14/date_4_4/qsdk/build_dir/toolchain-arm_cortex-a7_gcc-5.2.0_musl-1.1.16_eabi/gcc-5.2.0/gcc/diagnostic.c:595:49: warning: format '%d' expects argument of type 'int', but argument 4 has type 'const char*' [-Wformat=]\\n\",\n",
       " \"/local/mnt/workspace/ashok/wall_Error_repo_Feb14/date_4_4/qsdk/build_dir/toolchain-arm_cortex-a7_gcc-5.2.0_musl-1.1.16_eabi/gcc-5.2.0/gcc/diagnostic.c:595:49: warning: unknown conversion type character 'R' in format [-Wformat=]\\n\",\n",
       " '/local/mnt/workspace/ashok/wall_Error_repo_Feb14/date_4_4/qsdk/build_dir/toolchain-arm_cortex-a7_gcc-5.2.0_musl-1.1.16_eabi/gcc-5.2.0/gcc/diagnostic.c:595:49: warning: too many arguments for format [-Wformat-extra-args]\\n',\n",
       " \"/local/mnt/workspace/ashok/wall_Error_repo_Feb14/date_4_4/qsdk/build_dir/toolchain-arm_cortex-a7_gcc-5.2.0_musl-1.1.16_eabi/gcc-5.2.0/gcc/lto-wrapper.c:842:26: warning: ignoring return value of 'ssize_t read(int, void*, size_t)', declared with attribute warn_unused_result [-Wunused-result]\\n\",\n",
       " 'gengtype-lex.c:2150:27: warning: comparison between signed and unsigned integer expressions [-Wsign-compare]\\n',\n",
       " \"/local/mnt/workspace/ashok/wall_Error_repo_Feb14/date_4_4/qsdk/build_dir/toolchain-arm_cortex-a7_gcc-5.2.0_musl-1.1.16_eabi/gcc-5.2.0/gcc/gcc.c:8812:13: warning: deprecated conversion from string constant to 'char*' [-Wwrite-strings]\\n\",\n",
       " \"/local/mnt/workspace/ashok/wall_Error_repo_Feb14/date_4_4/qsdk/build_dir/toolchain-arm_cortex-a7_gcc-5.2.0_musl-1.1.16_eabi/gcc-5.2.0/gcc/gcc.c:9131:46: warning: ignoring return value of 'ssize_t read(int, void*, size_t)', declared with attribute warn_unused_result [-Wunused-result]\\n\",\n",
       " \"/local/mnt/workspace/ashok/wall_Error_repo_Feb14/date_4_4/qsdk/build_dir/toolchain-arm_cortex-a7_gcc-5.2.0_musl-1.1.16_eabi/gcc-5.2.0/gcc/gcc.c:6559:24: warning: ignoring return value of 'ssize_t write(int, const void*, size_t)', declared with attribute warn_unused_result [-Wunused-result]\\n\",\n",
       " \"/local/mnt/workspace/ashok/wall_Error_repo_Feb14/date_4_4/qsdk/build_dir/toolchain-arm_cortex-a7_gcc-5.2.0_musl-1.1.16_eabi/gcc-5.2.0/gcc/gcc.c:6562:25: warning: ignoring return value of 'ssize_t write(int, const void*, size_t)', declared with attribute warn_unused_result [-Wunused-result]\\n\",\n",
       " \"/local/mnt/workspace/ashok/wall_Error_repo_Feb14/date_4_4/qsdk/build_dir/toolchain-arm_cortex-a7_gcc-5.2.0_musl-1.1.16_eabi/gcc-5.2.0/gcc/gcc.c:6563:52: warning: ignoring return value of 'ssize_t write(int, const void*, size_t)', declared with attribute warn_unused_result [-Wunused-result]\\n\",\n",
       " \"/local/mnt/workspace/ashok/wall_Error_repo_Feb14/date_4_4/qsdk/build_dir/toolchain-arm_cortex-a7_gcc-5.2.0_musl-1.1.16_eabi/gcc-5.2.0/gcc/gcc.c:6565:24: warning: ignoring return value of 'ssize_t write(int, const void*, size_t)', declared with attribute warn_unused_result [-Wunused-result]\\n\",\n",
       " \"/local/mnt/workspace/ashok/wall_Error_repo_Feb14/date_4_4/qsdk/build_dir/toolchain-arm_cortex-a7_gcc-5.2.0_musl-1.1.16_eabi/gcc-5.2.0/gcc/lto/lto.c:2077:27: warning: ignoring return value of 'int fscanf(FILE*, const char*, ...)', declared with attribute warn_unused_result [-Wunused-result]\\n\",\n",
       " \"/local/mnt/workspace/ashok/wall_Error_repo_Feb14/date_4_4/qsdk/build_dir/toolchain-arm_cortex-a7_gcc-5.2.0_musl-1.1.16_eabi/gcc-5.2.0/gcc/lto/lto.c:2079:56: warning: ignoring return value of 'size_t fread(void*, size_t, size_t, FILE*)', declared with attribute warn_unused_result [-Wunused-result]\\n\",\n",
       " \"/local/mnt/workspace/ashok/wall_Error_repo_Feb14/date_4_4/qsdk/build_dir/toolchain-arm_cortex-a7_gcc-5.2.0_musl-1.1.16_eabi/gcc-5.2.0/gcc/lto/lto.c:2099:42: warning: ignoring return value of 'int fscanf(FILE*, const char*, ...)', declared with attribute warn_unused_result [-Wunused-result]\\n\",\n",
       " \"/local/mnt/workspace/ashok/wall_Error_repo_Feb14/date_4_4/qsdk/build_dir/toolchain-arm_cortex-a7_gcc-5.2.0_musl-1.1.16_eabi/gcc-5.2.0/libgcc/config/arm/fp16.c:97:1: warning: no previous prototype for '__gnu_h2f_internal' [-Wmissing-prototypes]\\n\",\n",
       " \"/local/mnt/workspace/ashok/wall_Error_repo_Feb14/date_4_4/qsdk/build_dir/toolchain-arm_cortex-a7_gcc-5.2.0_musl-1.1.16_eabi/gcc-5.2.0/libgcc/config/arm/fp16.c:122:1: warning: no previous prototype for '__gnu_f2h_ieee' [-Wmissing-prototypes]\\n\",\n",
       " \"/local/mnt/workspace/ashok/wall_Error_repo_Feb14/date_4_4/qsdk/build_dir/toolchain-arm_cortex-a7_gcc-5.2.0_musl-1.1.16_eabi/gcc-5.2.0/libgcc/config/arm/fp16.c:128:1: warning: no previous prototype for '__gnu_h2f_ieee' [-Wmissing-prototypes]\\n\",\n",
       " \"/local/mnt/workspace/ashok/wall_Error_repo_Feb14/date_4_4/qsdk/build_dir/toolchain-arm_cortex-a7_gcc-5.2.0_musl-1.1.16_eabi/gcc-5.2.0/libgcc/config/arm/fp16.c:134:1: warning: no previous prototype for '__gnu_f2h_alternative' [-Wmissing-prototypes]\\n\",\n",
       " \"/local/mnt/workspace/ashok/wall_Error_repo_Feb14/date_4_4/qsdk/build_dir/toolchain-arm_cortex-a7_gcc-5.2.0_musl-1.1.16_eabi/gcc-5.2.0/libgcc/config/arm/fp16.c:140:1: warning: no previous prototype for '__gnu_h2f_alternative' [-Wmissing-prototypes]\\n\",\n",
       " \"/local/mnt/workspace/ashok/wall_Error_repo_Feb14/date_4_4/qsdk/build_dir/toolchain-arm_cortex-a7_gcc-5.2.0_musl-1.1.16_eabi/gcc-5.2.0/libgcc/unwind-arm-common.inc:245:29: warning: cast discards 'const' qualifier from pointer target type [-Wcast-qual]\\n\",\n",
       " 'net/sched/Kconfig:44: warning: menuconfig statement without prompt\\n',\n",
       " \"/boot/config-4.4.0-139-generic:8447:warning: symbol value 'm' invalid for KVM\\n\",\n",
       " 'warning: (ARM) selects IOMMU_DMA which has unmet direct dependencies (IOMMU_SUPPORT && NEED_SG_DMA_LENGTH)\\n',\n",
       " '  Renesas Type-AXI NBPF DMA support (NBPFAXI_DMA) [N/m/y/?] (NEW) warning: (ARM) selects IOMMU_DMA which has unmet direct dependencies (IOMMU_SUPPORT && NEED_SG_DMA_LENGTH)\\n',\n",
       " \"libtool: install: warning: remember to run `libtool --finish /local/mnt/workspace/ashok/wall_Error_repo_Feb14/date_4_4/qsdk/staging_dir/toolchain-arm_cortex-a7_gcc-5.2.0_musl-1.1.16_eabi/libexec/gcc/arm-openwrt-linux-muslgnueabi/5.2.0'\\n\",\n",
       " '/local/mnt/workspace/ashok/wall_Error_repo_Feb14/date_4_4/qsdk/build_dir/toolchain-arm_cortex-a7_gcc-5.2.0_musl-1.1.16_eabi/gcc-5.2.0/libcpp/expr.c:681:18: warning: format not a string literal and no format arguments [-Wformat-security]\\n',\n",
       " '/local/mnt/workspace/ashok/wall_Error_repo_Feb14/date_4_4/qsdk/build_dir/toolchain-arm_cortex-a7_gcc-5.2.0_musl-1.1.16_eabi/gcc-5.2.0/libcpp/expr.c:684:39: warning: format not a string literal and no format arguments [-Wformat-security]\\n',\n",
       " '/local/mnt/workspace/ashok/wall_Error_repo_Feb14/date_4_4/qsdk/build_dir/toolchain-arm_cortex-a7_gcc-5.2.0_musl-1.1.16_eabi/gcc-5.2.0/libcpp/macro.c:3087:58: warning: format not a string literal and no format arguments [-Wformat-security]\\n',\n",
       " '/local/mnt/workspace/ashok/wall_Error_repo_Feb14/date_4_4/qsdk/build_dir/toolchain-arm_cortex-a7_gcc-5.2.0_musl-1.1.16_eabi/gcc-5.2.0/libcpp/macro.c:3100:58: warning: format not a string literal and no format arguments [-Wformat-security]\\n',\n",
       " '/local/mnt/workspace/ashok/wall_Error_repo_Feb14/date_4_4/qsdk/build_dir/toolchain-arm_cortex-a7_gcc-5.2.0_musl-1.1.16_eabi/gcc-5.2.0/libcpp/expr.c:681:18: warning: format not a string literal and no format arguments [-Wformat-security]\\n',\n",
       " '/local/mnt/workspace/ashok/wall_Error_repo_Feb14/date_4_4/qsdk/build_dir/toolchain-arm_cortex-a7_gcc-5.2.0_musl-1.1.16_eabi/gcc-5.2.0/libcpp/expr.c:684:39: warning: format not a string literal and no format arguments [-Wformat-security]\\n',\n",
       " '/local/mnt/workspace/ashok/wall_Error_repo_Feb14/date_4_4/qsdk/build_dir/toolchain-arm_cortex-a7_gcc-5.2.0_musl-1.1.16_eabi/gcc-5.2.0/libcpp/macro.c:3087:58: warning: format not a string literal and no format arguments [-Wformat-security]\\n',\n",
       " '/local/mnt/workspace/ashok/wall_Error_repo_Feb14/date_4_4/qsdk/build_dir/toolchain-arm_cortex-a7_gcc-5.2.0_musl-1.1.16_eabi/gcc-5.2.0/libcpp/macro.c:3100:58: warning: format not a string literal and no format arguments [-Wformat-security]\\n',\n",
       " 'gengtype-lex.c:2150:27: warning: comparison between signed and unsigned integer expressions [-Wsign-compare]\\n',\n",
       " \"/local/mnt/workspace/ashok/wall_Error_repo_Feb14/date_4_4/qsdk/build_dir/toolchain-arm_cortex-a7_gcc-5.2.0_musl-1.1.16_eabi/gcc-5.2.0/gcc/genhooks.c:140:31: warning: ignoring return value of 'int fscanf(FILE*, const char*, ...)', declared with attribute warn_unused_result [-Wunused-result]\\n\",\n",
       " \"/local/mnt/workspace/ashok/wall_Error_repo_Feb14/date_4_4/qsdk/build_dir/toolchain-arm_cortex-a7_gcc-5.2.0_musl-1.1.16_eabi/gcc-5.2.0/gcc/genhooks.c:131:3: warning: ignoring return value of 'int fscanf(FILE*, const char*, ...)', declared with attribute warn_unused_result [-Wunused-result]\\n\",\n",
       " \"/local/mnt/workspace/ashok/wall_Error_repo_Feb14/date_4_4/qsdk/build_dir/toolchain-arm_cortex-a7_gcc-5.2.0_musl-1.1.16_eabi/gcc-5.2.0/gcc/genhooks.c:193:34: warning: ignoring return value of 'int fscanf(FILE*, const char*, ...)', declared with attribute warn_unused_result [-Wunused-result]\\n\",\n",
       " \"/local/mnt/workspace/ashok/wall_Error_repo_Feb14/date_4_4/qsdk/build_dir/toolchain-arm_cortex-a7_gcc-5.2.0_musl-1.1.16_eabi/gcc-5.2.0/gcc/genhooks.c:199:31: warning: ignoring return value of 'int fscanf(FILE*, const char*, ...)', declared with attribute warn_unused_result [-Wunused-result]\\n\",\n",
       " \"/local/mnt/workspace/ashok/wall_Error_repo_Feb14/date_4_4/qsdk/build_dir/toolchain-arm_cortex-a7_gcc-5.2.0_musl-1.1.16_eabi/gcc-5.2.0/gcc/langhooks.c:479:41: warning: unknown conversion type character 'r' in format [-Wformat=]\\n\",\n",
       " \"/local/mnt/workspace/ashok/wall_Error_repo_Feb14/date_4_4/qsdk/build_dir/toolchain-arm_cortex-a7_gcc-5.2.0_musl-1.1.16_eabi/gcc-5.2.0/gcc/langhooks.c:479:41: warning: format '%d' expects argument of type 'int', but argument 5 has type 'const char*' [-Wformat=]\\n\",\n",
       " \"/local/mnt/workspace/ashok/wall_Error_repo_Feb14/date_4_4/qsdk/build_dir/toolchain-arm_cortex-a7_gcc-5.2.0_musl-1.1.16_eabi/gcc-5.2.0/gcc/langhooks.c:479:41: warning: unknown conversion type character 'R' in format [-Wformat=]\\n\",\n",
       " '/local/mnt/workspace/ashok/wall_Error_repo_Feb14/date_4_4/qsdk/build_dir/toolchain-arm_cortex-a7_gcc-5.2.0_musl-1.1.16_eabi/gcc-5.2.0/gcc/langhooks.c:479:41: warning: too many arguments for format [-Wformat-extra-args]\\n',\n",
       " \"/local/mnt/workspace/ashok/wall_Error_repo_Feb14/date_4_4/qsdk/build_dir/toolchain-arm_cortex-a7_gcc-5.2.0_musl-1.1.16_eabi/gcc-5.2.0/gcc/langhooks.c:484:31: warning: unknown conversion type character 'r' in format [-Wformat=]\\n\",\n",
       " \"/local/mnt/workspace/ashok/wall_Error_repo_Feb14/date_4_4/qsdk/build_dir/toolchain-arm_cortex-a7_gcc-5.2.0_musl-1.1.16_eabi/gcc-5.2.0/gcc/langhooks.c:484:31: warning: format '%d' expects argument of type 'int', but argument 5 has type 'const char*' [-Wformat=]\\n\",\n",
       " \"/local/mnt/workspace/ashok/wall_Error_repo_Feb14/date_4_4/qsdk/build_dir/toolchain-arm_cortex-a7_gcc-5.2.0_musl-1.1.16_eabi/gcc-5.2.0/gcc/langhooks.c:484:31: warning: unknown conversion type character 'R' in format [-Wformat=]\\n\",\n",
       " '/local/mnt/workspace/ashok/wall_Error_repo_Feb14/date_4_4/qsdk/build_dir/toolchain-arm_cortex-a7_gcc-5.2.0_musl-1.1.16_eabi/gcc-5.2.0/gcc/langhooks.c:484:31: warning: too many arguments for format [-Wformat-extra-args]\\n',\n",
       " \"/local/mnt/workspace/ashok/wall_Error_repo_Feb14/date_4_4/qsdk/build_dir/toolchain-arm_cortex-a7_gcc-5.2.0_musl-1.1.16_eabi/gcc-5.2.0/gcc/diagnostic.c:585:53: warning: unknown conversion type character 'r' in format [-Wformat=]\\n\",\n",
       " \"/local/mnt/workspace/ashok/wall_Error_repo_Feb14/date_4_4/qsdk/build_dir/toolchain-arm_cortex-a7_gcc-5.2.0_musl-1.1.16_eabi/gcc-5.2.0/gcc/diagnostic.c:585:53: warning: format '%d' expects argument of type 'int', but argument 4 has type 'const char*' [-Wformat=]\\n\",\n",
       " \"/local/mnt/workspace/ashok/wall_Error_repo_Feb14/date_4_4/qsdk/build_dir/toolchain-arm_cortex-a7_gcc-5.2.0_musl-1.1.16_eabi/gcc-5.2.0/gcc/diagnostic.c:585:53: warning: unknown conversion type character 'R' in format [-Wformat=]\\n\",\n",
       " '/local/mnt/workspace/ashok/wall_Error_repo_Feb14/date_4_4/qsdk/build_dir/toolchain-arm_cortex-a7_gcc-5.2.0_musl-1.1.16_eabi/gcc-5.2.0/gcc/diagnostic.c:585:53: warning: too many arguments for format [-Wformat-extra-args]\\n',\n",
       " \"/local/mnt/workspace/ashok/wall_Error_repo_Feb14/date_4_4/qsdk/build_dir/toolchain-arm_cortex-a7_gcc-5.2.0_musl-1.1.16_eabi/gcc-5.2.0/gcc/diagnostic.c:589:47: warning: unknown conversion type character 'r' in format [-Wformat=]\\n\",\n",
       " \"/local/mnt/workspace/ashok/wall_Error_repo_Feb14/date_4_4/qsdk/build_dir/toolchain-arm_cortex-a7_gcc-5.2.0_musl-1.1.16_eabi/gcc-5.2.0/gcc/diagnostic.c:589:47: warning: format '%d' expects argument of type 'int', but argument 4 has type 'const char*' [-Wformat=]\\n\",\n",
       " \"/local/mnt/workspace/ashok/wall_Error_repo_Feb14/date_4_4/qsdk/build_dir/toolchain-arm_cortex-a7_gcc-5.2.0_musl-1.1.16_eabi/gcc-5.2.0/gcc/diagnostic.c:589:47: warning: unknown conversion type character 'R' in format [-Wformat=]\\n\",\n",
       " '/local/mnt/workspace/ashok/wall_Error_repo_Feb14/date_4_4/qsdk/build_dir/toolchain-arm_cortex-a7_gcc-5.2.0_musl-1.1.16_eabi/gcc-5.2.0/gcc/diagnostic.c:589:47: warning: too many arguments for format [-Wformat-extra-args]\\n',\n",
       " \"/local/mnt/workspace/ashok/wall_Error_repo_Feb14/date_4_4/qsdk/build_dir/toolchain-arm_cortex-a7_gcc-5.2.0_musl-1.1.16_eabi/gcc-5.2.0/gcc/diagnostic.c:595:49: warning: unknown conversion type character 'r' in format [-Wformat=]\\n\",\n",
       " \"/local/mnt/workspace/ashok/wall_Error_repo_Feb14/date_4_4/qsdk/build_dir/toolchain-arm_cortex-a7_gcc-5.2.0_musl-1.1.16_eabi/gcc-5.2.0/gcc/diagnostic.c:595:49: warning: format '%d' expects argument of type 'int', but argument 4 has type 'const char*' [-Wformat=]\\n\",\n",
       " \"/local/mnt/workspace/ashok/wall_Error_repo_Feb14/date_4_4/qsdk/build_dir/toolchain-arm_cortex-a7_gcc-5.2.0_musl-1.1.16_eabi/gcc-5.2.0/gcc/diagnostic.c:595:49: warning: unknown conversion type character 'R' in format [-Wformat=]\\n\",\n",
       " '/local/mnt/workspace/ashok/wall_Error_repo_Feb14/date_4_4/qsdk/build_dir/toolchain-arm_cortex-a7_gcc-5.2.0_musl-1.1.16_eabi/gcc-5.2.0/gcc/diagnostic.c:595:49: warning: too many arguments for format [-Wformat-extra-args]\\n',\n",
       " \"/local/mnt/workspace/ashok/wall_Error_repo_Feb14/date_4_4/qsdk/build_dir/toolchain-arm_cortex-a7_gcc-5.2.0_musl-1.1.16_eabi/gcc-5.2.0/gcc/lto-wrapper.c:842:26: warning: ignoring return value of 'ssize_t read(int, void*, size_t)', declared with attribute warn_unused_result [-Wunused-result]\\n\",\n",
       " 'gengtype-lex.c:2150:27: warning: comparison between signed and unsigned integer expressions [-Wsign-compare]\\n',\n",
       " \"/local/mnt/workspace/ashok/wall_Error_repo_Feb14/date_4_4/qsdk/build_dir/toolchain-arm_cortex-a7_gcc-5.2.0_musl-1.1.16_eabi/gcc-5.2.0/gcc/gcc.c:8812:13: warning: deprecated conversion from string constant to 'char*' [-Wwrite-strings]\\n\",\n",
       " \"/local/mnt/workspace/ashok/wall_Error_repo_Feb14/date_4_4/qsdk/build_dir/toolchain-arm_cortex-a7_gcc-5.2.0_musl-1.1.16_eabi/gcc-5.2.0/gcc/gcc.c:9131:46: warning: ignoring return value of 'ssize_t read(int, void*, size_t)', declared with attribute warn_unused_result [-Wunused-result]\\n\",\n",
       " \"/local/mnt/workspace/ashok/wall_Error_repo_Feb14/date_4_4/qsdk/build_dir/toolchain-arm_cortex-a7_gcc-5.2.0_musl-1.1.16_eabi/gcc-5.2.0/gcc/gcc.c:6559:24: warning: ignoring return value of 'ssize_t write(int, const void*, size_t)', declared with attribute warn_unused_result [-Wunused-result]\\n\",\n",
       " \"/local/mnt/workspace/ashok/wall_Error_repo_Feb14/date_4_4/qsdk/build_dir/toolchain-arm_cortex-a7_gcc-5.2.0_musl-1.1.16_eabi/gcc-5.2.0/gcc/gcc.c:6562:25: warning: ignoring return value of 'ssize_t write(int, const void*, size_t)', declared with attribute warn_unused_result [-Wunused-result]\\n\",\n",
       " \"/local/mnt/workspace/ashok/wall_Error_repo_Feb14/date_4_4/qsdk/build_dir/toolchain-arm_cortex-a7_gcc-5.2.0_musl-1.1.16_eabi/gcc-5.2.0/gcc/gcc.c:6563:52: warning: ignoring return value of 'ssize_t write(int, const void*, size_t)', declared with attribute warn_unused_result [-Wunused-result]\\n\",\n",
       " \"/local/mnt/workspace/ashok/wall_Error_repo_Feb14/date_4_4/qsdk/build_dir/toolchain-arm_cortex-a7_gcc-5.2.0_musl-1.1.16_eabi/gcc-5.2.0/gcc/gcc.c:6565:24: warning: ignoring return value of 'ssize_t write(int, const void*, size_t)', declared with attribute warn_unused_result [-Wunused-result]\\n\",\n",
       " \"/local/mnt/workspace/ashok/wall_Error_repo_Feb14/date_4_4/qsdk/build_dir/toolchain-arm_cortex-a7_gcc-5.2.0_musl-1.1.16_eabi/gcc-5.2.0/gcc/lto/lto.c:2077:27: warning: ignoring return value of 'int fscanf(FILE*, const char*, ...)', declared with attribute warn_unused_result [-Wunused-result]\\n\",\n",
       " \"/local/mnt/workspace/ashok/wall_Error_repo_Feb14/date_4_4/qsdk/build_dir/toolchain-arm_cortex-a7_gcc-5.2.0_musl-1.1.16_eabi/gcc-5.2.0/gcc/lto/lto.c:2079:56: warning: ignoring return value of 'size_t fread(void*, size_t, size_t, FILE*)', declared with attribute warn_unused_result [-Wunused-result]\\n\",\n",
       " \"/local/mnt/workspace/ashok/wall_Error_repo_Feb14/date_4_4/qsdk/build_dir/toolchain-arm_cortex-a7_gcc-5.2.0_musl-1.1.16_eabi/gcc-5.2.0/gcc/lto/lto.c:2099:42: warning: ignoring return value of 'int fscanf(FILE*, const char*, ...)', declared with attribute warn_unused_result [-Wunused-result]\\n\",\n",
       " \"/local/mnt/workspace/ashok/wall_Error_repo_Feb14/date_4_4/qsdk/build_dir/toolchain-arm_cortex-a7_gcc-5.2.0_musl-1.1.16_eabi/gcc-5.2.0/libgcc/config/arm/fp16.c:97:1: warning: no previous prototype for '__gnu_h2f_internal' [-Wmissing-prototypes]\\n\",\n",
       " \"/local/mnt/workspace/ashok/wall_Error_repo_Feb14/date_4_4/qsdk/build_dir/toolchain-arm_cortex-a7_gcc-5.2.0_musl-1.1.16_eabi/gcc-5.2.0/libgcc/config/arm/fp16.c:122:1: warning: no previous prototype for '__gnu_f2h_ieee' [-Wmissing-prototypes]\\n\",\n",
       " \"/local/mnt/workspace/ashok/wall_Error_repo_Feb14/date_4_4/qsdk/build_dir/toolchain-arm_cortex-a7_gcc-5.2.0_musl-1.1.16_eabi/gcc-5.2.0/libgcc/config/arm/fp16.c:128:1: warning: no previous prototype for '__gnu_h2f_ieee' [-Wmissing-prototypes]\\n\",\n",
       " \"/local/mnt/workspace/ashok/wall_Error_repo_Feb14/date_4_4/qsdk/build_dir/toolchain-arm_cortex-a7_gcc-5.2.0_musl-1.1.16_eabi/gcc-5.2.0/libgcc/config/arm/fp16.c:134:1: warning: no previous prototype for '__gnu_f2h_alternative' [-Wmissing-prototypes]\\n\",\n",
       " \"/local/mnt/workspace/ashok/wall_Error_repo_Feb14/date_4_4/qsdk/build_dir/toolchain-arm_cortex-a7_gcc-5.2.0_musl-1.1.16_eabi/gcc-5.2.0/libgcc/config/arm/fp16.c:140:1: warning: no previous prototype for '__gnu_h2f_alternative' [-Wmissing-prototypes]\\n\",\n",
       " \"/local/mnt/workspace/ashok/wall_Error_repo_Feb14/date_4_4/qsdk/build_dir/toolchain-arm_cortex-a7_gcc-5.2.0_musl-1.1.16_eabi/gcc-5.2.0/libgcc/unwind-arm-common.inc:245:29: warning: cast discards 'const' qualifier from pointer target type [-Wcast-qual]\\n\",\n",
       " \"libtool: install: warning: remember to run `libtool --finish /local/mnt/workspace/ashok/wall_Error_repo_Feb14/date_4_4/qsdk/staging_dir/toolchain-arm_cortex-a7_gcc-5.2.0_musl-1.1.16_eabi/libexec/gcc/arm-openwrt-linux-muslgnueabi/5.2.0'\\n\",\n",
       " \"src/stdio/fputc.c:8:14: warning: passing argument 2 of 'f->write' from incompatible pointer type [-Wincompatible-pointer-types]\\n\",\n",
       " \"libtool: install: warning: remember to run `libtool --finish /local/mnt/workspace/ashok/wall_Error_repo_Feb14/date_4_4/qsdk/staging_dir/toolchain-arm_cortex-a7_gcc-5.2.0_musl-1.1.16_eabi/libexec/gcc/arm-openwrt-linux-muslgnueabi/5.2.0'\\n\",\n",
       " '/local/mnt/workspace/ashok/wall_Error_repo_Feb14/date_4_4/qsdk/build_dir/toolchain-arm_cortex-a7_gcc-5.2.0_musl-1.1.16_eabi/gcc-5.2.0/libcpp/expr.c:681:18: warning: format not a string literal and no format arguments [-Wformat-security]\\n',\n",
       " '/local/mnt/workspace/ashok/wall_Error_repo_Feb14/date_4_4/qsdk/build_dir/toolchain-arm_cortex-a7_gcc-5.2.0_musl-1.1.16_eabi/gcc-5.2.0/libcpp/expr.c:684:39: warning: format not a string literal and no format arguments [-Wformat-security]\\n',\n",
       " '/local/mnt/workspace/ashok/wall_Error_repo_Feb14/date_4_4/qsdk/build_dir/toolchain-arm_cortex-a7_gcc-5.2.0_musl-1.1.16_eabi/gcc-5.2.0/libcpp/macro.c:3087:58: warning: format not a string literal and no format arguments [-Wformat-security]\\n',\n",
       " '/local/mnt/workspace/ashok/wall_Error_repo_Feb14/date_4_4/qsdk/build_dir/toolchain-arm_cortex-a7_gcc-5.2.0_musl-1.1.16_eabi/gcc-5.2.0/libcpp/macro.c:3100:58: warning: format not a string literal and no format arguments [-Wformat-security]\\n',\n",
       " '/local/mnt/workspace/ashok/wall_Error_repo_Feb14/date_4_4/qsdk/build_dir/toolchain-arm_cortex-a7_gcc-5.2.0_musl-1.1.16_eabi/gcc-5.2.0/libcpp/expr.c:681:18: warning: format not a string literal and no format arguments [-Wformat-security]\\n',\n",
       " '/local/mnt/workspace/ashok/wall_Error_repo_Feb14/date_4_4/qsdk/build_dir/toolchain-arm_cortex-a7_gcc-5.2.0_musl-1.1.16_eabi/gcc-5.2.0/libcpp/expr.c:684:39: warning: format not a string literal and no format arguments [-Wformat-security]\\n',\n",
       " '/local/mnt/workspace/ashok/wall_Error_repo_Feb14/date_4_4/qsdk/build_dir/toolchain-arm_cortex-a7_gcc-5.2.0_musl-1.1.16_eabi/gcc-5.2.0/libcpp/macro.c:3087:58: warning: format not a string literal and no format arguments [-Wformat-security]\\n',\n",
       " '/local/mnt/workspace/ashok/wall_Error_repo_Feb14/date_4_4/qsdk/build_dir/toolchain-arm_cortex-a7_gcc-5.2.0_musl-1.1.16_eabi/gcc-5.2.0/libcpp/macro.c:3100:58: warning: format not a string literal and no format arguments [-Wformat-security]\\n',\n",
       " 'gengtype-lex.c:2150:27: warning: comparison between signed and unsigned integer expressions [-Wsign-compare]\\n',\n",
       " \"/local/mnt/workspace/ashok/wall_Error_repo_Feb14/date_4_4/qsdk/build_dir/toolchain-arm_cortex-a7_gcc-5.2.0_musl-1.1.16_eabi/gcc-5.2.0/gcc/genhooks.c:140:31: warning: ignoring return value of 'int fscanf(FILE*, const char*, ...)', declared with attribute warn_unused_result [-Wunused-result]\\n\",\n",
       " \"/local/mnt/workspace/ashok/wall_Error_repo_Feb14/date_4_4/qsdk/build_dir/toolchain-arm_cortex-a7_gcc-5.2.0_musl-1.1.16_eabi/gcc-5.2.0/gcc/genhooks.c:131:3: warning: ignoring return value of 'int fscanf(FILE*, const char*, ...)', declared with attribute warn_unused_result [-Wunused-result]\\n\",\n",
       " \"/local/mnt/workspace/ashok/wall_Error_repo_Feb14/date_4_4/qsdk/build_dir/toolchain-arm_cortex-a7_gcc-5.2.0_musl-1.1.16_eabi/gcc-5.2.0/gcc/genhooks.c:193:34: warning: ignoring return value of 'int fscanf(FILE*, const char*, ...)', declared with attribute warn_unused_result [-Wunused-result]\\n\",\n",
       " \"/local/mnt/workspace/ashok/wall_Error_repo_Feb14/date_4_4/qsdk/build_dir/toolchain-arm_cortex-a7_gcc-5.2.0_musl-1.1.16_eabi/gcc-5.2.0/gcc/genhooks.c:199:31: warning: ignoring return value of 'int fscanf(FILE*, const char*, ...)', declared with attribute warn_unused_result [-Wunused-result]\\n\",\n",
       " \"/local/mnt/workspace/ashok/wall_Error_repo_Feb14/date_4_4/qsdk/build_dir/toolchain-arm_cortex-a7_gcc-5.2.0_musl-1.1.16_eabi/gcc-5.2.0/gcc/langhooks.c:479:41: warning: unknown conversion type character 'r' in format [-Wformat=]\\n\",\n",
       " \"/local/mnt/workspace/ashok/wall_Error_repo_Feb14/date_4_4/qsdk/build_dir/toolchain-arm_cortex-a7_gcc-5.2.0_musl-1.1.16_eabi/gcc-5.2.0/gcc/langhooks.c:479:41: warning: format '%d' expects argument of type 'int', but argument 5 has type 'const char*' [-Wformat=]\\n\",\n",
       " \"/local/mnt/workspace/ashok/wall_Error_repo_Feb14/date_4_4/qsdk/build_dir/toolchain-arm_cortex-a7_gcc-5.2.0_musl-1.1.16_eabi/gcc-5.2.0/gcc/langhooks.c:479:41: warning: unknown conversion type character 'R' in format [-Wformat=]\\n\",\n",
       " '/local/mnt/workspace/ashok/wall_Error_repo_Feb14/date_4_4/qsdk/build_dir/toolchain-arm_cortex-a7_gcc-5.2.0_musl-1.1.16_eabi/gcc-5.2.0/gcc/langhooks.c:479:41: warning: too many arguments for format [-Wformat-extra-args]\\n',\n",
       " \"/local/mnt/workspace/ashok/wall_Error_repo_Feb14/date_4_4/qsdk/build_dir/toolchain-arm_cortex-a7_gcc-5.2.0_musl-1.1.16_eabi/gcc-5.2.0/gcc/langhooks.c:484:31: warning: unknown conversion type character 'r' in format [-Wformat=]\\n\",\n",
       " \"/local/mnt/workspace/ashok/wall_Error_repo_Feb14/date_4_4/qsdk/build_dir/toolchain-arm_cortex-a7_gcc-5.2.0_musl-1.1.16_eabi/gcc-5.2.0/gcc/langhooks.c:484:31: warning: format '%d' expects argument of type 'int', but argument 5 has type 'const char*' [-Wformat=]\\n\",\n",
       " \"/local/mnt/workspace/ashok/wall_Error_repo_Feb14/date_4_4/qsdk/build_dir/toolchain-arm_cortex-a7_gcc-5.2.0_musl-1.1.16_eabi/gcc-5.2.0/gcc/langhooks.c:484:31: warning: unknown conversion type character 'R' in format [-Wformat=]\\n\",\n",
       " '/local/mnt/workspace/ashok/wall_Error_repo_Feb14/date_4_4/qsdk/build_dir/toolchain-arm_cortex-a7_gcc-5.2.0_musl-1.1.16_eabi/gcc-5.2.0/gcc/langhooks.c:484:31: warning: too many arguments for format [-Wformat-extra-args]\\n',\n",
       " \"/local/mnt/workspace/ashok/wall_Error_repo_Feb14/date_4_4/qsdk/build_dir/toolchain-arm_cortex-a7_gcc-5.2.0_musl-1.1.16_eabi/gcc-5.2.0/gcc/diagnostic.c:585:53: warning: unknown conversion type character 'r' in format [-Wformat=]\\n\",\n",
       " \"/local/mnt/workspace/ashok/wall_Error_repo_Feb14/date_4_4/qsdk/build_dir/toolchain-arm_cortex-a7_gcc-5.2.0_musl-1.1.16_eabi/gcc-5.2.0/gcc/diagnostic.c:585:53: warning: format '%d' expects argument of type 'int', but argument 4 has type 'const char*' [-Wformat=]\\n\",\n",
       " \"/local/mnt/workspace/ashok/wall_Error_repo_Feb14/date_4_4/qsdk/build_dir/toolchain-arm_cortex-a7_gcc-5.2.0_musl-1.1.16_eabi/gcc-5.2.0/gcc/diagnostic.c:585:53: warning: unknown conversion type character 'R' in format [-Wformat=]\\n\",\n",
       " '/local/mnt/workspace/ashok/wall_Error_repo_Feb14/date_4_4/qsdk/build_dir/toolchain-arm_cortex-a7_gcc-5.2.0_musl-1.1.16_eabi/gcc-5.2.0/gcc/diagnostic.c:585:53: warning: too many arguments for format [-Wformat-extra-args]\\n',\n",
       " \"/local/mnt/workspace/ashok/wall_Error_repo_Feb14/date_4_4/qsdk/build_dir/toolchain-arm_cortex-a7_gcc-5.2.0_musl-1.1.16_eabi/gcc-5.2.0/gcc/diagnostic.c:589:47: warning: unknown conversion type character 'r' in format [-Wformat=]\\n\",\n",
       " \"/local/mnt/workspace/ashok/wall_Error_repo_Feb14/date_4_4/qsdk/build_dir/toolchain-arm_cortex-a7_gcc-5.2.0_musl-1.1.16_eabi/gcc-5.2.0/gcc/diagnostic.c:589:47: warning: format '%d' expects argument of type 'int', but argument 4 has type 'const char*' [-Wformat=]\\n\",\n",
       " \"/local/mnt/workspace/ashok/wall_Error_repo_Feb14/date_4_4/qsdk/build_dir/toolchain-arm_cortex-a7_gcc-5.2.0_musl-1.1.16_eabi/gcc-5.2.0/gcc/diagnostic.c:589:47: warning: unknown conversion type character 'R' in format [-Wformat=]\\n\",\n",
       " '/local/mnt/workspace/ashok/wall_Error_repo_Feb14/date_4_4/qsdk/build_dir/toolchain-arm_cortex-a7_gcc-5.2.0_musl-1.1.16_eabi/gcc-5.2.0/gcc/diagnostic.c:589:47: warning: too many arguments for format [-Wformat-extra-args]\\n',\n",
       " \"/local/mnt/workspace/ashok/wall_Error_repo_Feb14/date_4_4/qsdk/build_dir/toolchain-arm_cortex-a7_gcc-5.2.0_musl-1.1.16_eabi/gcc-5.2.0/gcc/diagnostic.c:595:49: warning: unknown conversion type character 'r' in format [-Wformat=]\\n\",\n",
       " \"/local/mnt/workspace/ashok/wall_Error_repo_Feb14/date_4_4/qsdk/build_dir/toolchain-arm_cortex-a7_gcc-5.2.0_musl-1.1.16_eabi/gcc-5.2.0/gcc/diagnostic.c:595:49: warning: format '%d' expects argument of type 'int', but argument 4 has type 'const char*' [-Wformat=]\\n\",\n",
       " \"/local/mnt/workspace/ashok/wall_Error_repo_Feb14/date_4_4/qsdk/build_dir/toolchain-arm_cortex-a7_gcc-5.2.0_musl-1.1.16_eabi/gcc-5.2.0/gcc/diagnostic.c:595:49: warning: unknown conversion type character 'R' in format [-Wformat=]\\n\",\n",
       " '/local/mnt/workspace/ashok/wall_Error_repo_Feb14/date_4_4/qsdk/build_dir/toolchain-arm_cortex-a7_gcc-5.2.0_musl-1.1.16_eabi/gcc-5.2.0/gcc/diagnostic.c:595:49: warning: too many arguments for format [-Wformat-extra-args]\\n',\n",
       " \"/local/mnt/workspace/ashok/wall_Error_repo_Feb14/date_4_4/qsdk/build_dir/toolchain-arm_cortex-a7_gcc-5.2.0_musl-1.1.16_eabi/gcc-5.2.0/gcc/cp/error.c:3207:41: warning: unknown conversion type character 'r' in format [-Wformat=]\\n\",\n",
       " \"/local/mnt/workspace/ashok/wall_Error_repo_Feb14/date_4_4/qsdk/build_dir/toolchain-arm_cortex-a7_gcc-5.2.0_musl-1.1.16_eabi/gcc-5.2.0/gcc/cp/error.c:3207:41: warning: format '%d' expects argument of type 'int', but argument 5 has type 'const char*' [-Wformat=]\\n\",\n",
       " \"/local/mnt/workspace/ashok/wall_Error_repo_Feb14/date_4_4/qsdk/build_dir/toolchain-arm_cortex-a7_gcc-5.2.0_musl-1.1.16_eabi/gcc-5.2.0/gcc/cp/error.c:3207:41: warning: unknown conversion type character 'R' in format [-Wformat=]\\n\",\n",
       " '/local/mnt/workspace/ashok/wall_Error_repo_Feb14/date_4_4/qsdk/build_dir/toolchain-arm_cortex-a7_gcc-5.2.0_musl-1.1.16_eabi/gcc-5.2.0/gcc/cp/error.c:3207:41: warning: too many arguments for format [-Wformat-extra-args]\\n',\n",
       " \"/local/mnt/workspace/ashok/wall_Error_repo_Feb14/date_4_4/qsdk/build_dir/toolchain-arm_cortex-a7_gcc-5.2.0_musl-1.1.16_eabi/gcc-5.2.0/gcc/cp/error.c:3212:31: warning: unknown conversion type character 'r' in format [-Wformat=]\\n\",\n",
       " \"/local/mnt/workspace/ashok/wall_Error_repo_Feb14/date_4_4/qsdk/build_dir/toolchain-arm_cortex-a7_gcc-5.2.0_musl-1.1.16_eabi/gcc-5.2.0/gcc/cp/error.c:3212:31: warning: format '%d' expects argument of type 'int', but argument 5 has type 'const char*' [-Wformat=]\\n\",\n",
       " \"/local/mnt/workspace/ashok/wall_Error_repo_Feb14/date_4_4/qsdk/build_dir/toolchain-arm_cortex-a7_gcc-5.2.0_musl-1.1.16_eabi/gcc-5.2.0/gcc/cp/error.c:3212:31: warning: unknown conversion type character 'R' in format [-Wformat=]\\n\",\n",
       " '/local/mnt/workspace/ashok/wall_Error_repo_Feb14/date_4_4/qsdk/build_dir/toolchain-arm_cortex-a7_gcc-5.2.0_musl-1.1.16_eabi/gcc-5.2.0/gcc/cp/error.c:3212:31: warning: too many arguments for format [-Wformat-extra-args]\\n',\n",
       " \"/local/mnt/workspace/ashok/wall_Error_repo_Feb14/date_4_4/qsdk/build_dir/toolchain-arm_cortex-a7_gcc-5.2.0_musl-1.1.16_eabi/gcc-5.2.0/gcc/cp/error.c:3297:46: warning: unknown conversion type character 'r' in format [-Wformat=]\\n\",\n",
       " \"/local/mnt/workspace/ashok/wall_Error_repo_Feb14/date_4_4/qsdk/build_dir/toolchain-arm_cortex-a7_gcc-5.2.0_musl-1.1.16_eabi/gcc-5.2.0/gcc/cp/error.c:3297:46: warning: format '%d' expects argument of type 'int', but argument 4 has type 'const char*' [-Wformat=]\\n\",\n",
       " \"/local/mnt/workspace/ashok/wall_Error_repo_Feb14/date_4_4/qsdk/build_dir/toolchain-arm_cortex-a7_gcc-5.2.0_musl-1.1.16_eabi/gcc-5.2.0/gcc/cp/error.c:3297:46: warning: unknown conversion type character 'R' in format [-Wformat=]\\n\",\n",
       " '/local/mnt/workspace/ashok/wall_Error_repo_Feb14/date_4_4/qsdk/build_dir/toolchain-arm_cortex-a7_gcc-5.2.0_musl-1.1.16_eabi/gcc-5.2.0/gcc/cp/error.c:3297:46: warning: too many arguments for format [-Wformat-extra-args]\\n',\n",
       " \"/local/mnt/workspace/ashok/wall_Error_repo_Feb14/date_4_4/qsdk/build_dir/toolchain-arm_cortex-a7_gcc-5.2.0_musl-1.1.16_eabi/gcc-5.2.0/gcc/cp/error.c:3300:33: warning: unknown conversion type character 'r' in format [-Wformat=]\\n\",\n",
       " \"/local/mnt/workspace/ashok/wall_Error_repo_Feb14/date_4_4/qsdk/build_dir/toolchain-arm_cortex-a7_gcc-5.2.0_musl-1.1.16_eabi/gcc-5.2.0/gcc/cp/error.c:3300:33: warning: format '%d' expects argument of type 'int', but argument 4 has type 'const char*' [-Wformat=]\\n\",\n",
       " \"/local/mnt/workspace/ashok/wall_Error_repo_Feb14/date_4_4/qsdk/build_dir/toolchain-arm_cortex-a7_gcc-5.2.0_musl-1.1.16_eabi/gcc-5.2.0/gcc/cp/error.c:3300:33: warning: unknown conversion type character 'R' in format [-Wformat=]\\n\",\n",
       " '/local/mnt/workspace/ashok/wall_Error_repo_Feb14/date_4_4/qsdk/build_dir/toolchain-arm_cortex-a7_gcc-5.2.0_musl-1.1.16_eabi/gcc-5.2.0/gcc/cp/error.c:3300:33: warning: too many arguments for format [-Wformat-extra-args]\\n',\n",
       " \"/local/mnt/workspace/ashok/wall_Error_repo_Feb14/date_4_4/qsdk/build_dir/toolchain-arm_cortex-a7_gcc-5.2.0_musl-1.1.16_eabi/gcc-5.2.0/gcc/cp/error.c:3377:53: warning: unknown conversion type character 'r' in format [-Wformat=]\\n\",\n",
       " \"/local/mnt/workspace/ashok/wall_Error_repo_Feb14/date_4_4/qsdk/build_dir/toolchain-arm_cortex-a7_gcc-5.2.0_musl-1.1.16_eabi/gcc-5.2.0/gcc/cp/error.c:3377:53: warning: format '%d' expects argument of type 'int', but argument 4 has type 'const char*' [-Wformat=]\\n\",\n",
       " \"/local/mnt/workspace/ashok/wall_Error_repo_Feb14/date_4_4/qsdk/build_dir/toolchain-arm_cortex-a7_gcc-5.2.0_musl-1.1.16_eabi/gcc-5.2.0/gcc/cp/error.c:3377:53: warning: unknown conversion type character 'R' in format [-Wformat=]\\n\",\n",
       " '/local/mnt/workspace/ashok/wall_Error_repo_Feb14/date_4_4/qsdk/build_dir/toolchain-arm_cortex-a7_gcc-5.2.0_musl-1.1.16_eabi/gcc-5.2.0/gcc/cp/error.c:3377:53: warning: too many arguments for format [-Wformat-extra-args]\\n',\n",
       " \"/local/mnt/workspace/ashok/wall_Error_repo_Feb14/date_4_4/qsdk/build_dir/toolchain-arm_cortex-a7_gcc-5.2.0_musl-1.1.16_eabi/gcc-5.2.0/gcc/cp/error.c:3383:40: warning: unknown conversion type character 'r' in format [-Wformat=]\\n\",\n",
       " \"/local/mnt/workspace/ashok/wall_Error_repo_Feb14/date_4_4/qsdk/build_dir/toolchain-arm_cortex-a7_gcc-5.2.0_musl-1.1.16_eabi/gcc-5.2.0/gcc/cp/error.c:3383:40: warning: format '%d' expects argument of type 'int', but argument 4 has type 'const char*' [-Wformat=]\\n\",\n",
       " \"/local/mnt/workspace/ashok/wall_Error_repo_Feb14/date_4_4/qsdk/build_dir/toolchain-arm_cortex-a7_gcc-5.2.0_musl-1.1.16_eabi/gcc-5.2.0/gcc/cp/error.c:3383:40: warning: unknown conversion type character 'R' in format [-Wformat=]\\n\",\n",
       " '/local/mnt/workspace/ashok/wall_Error_repo_Feb14/date_4_4/qsdk/build_dir/toolchain-arm_cortex-a7_gcc-5.2.0_musl-1.1.16_eabi/gcc-5.2.0/gcc/cp/error.c:3383:40: warning: too many arguments for format [-Wformat-extra-args]\\n',\n",
       " \"/local/mnt/workspace/ashok/wall_Error_repo_Feb14/date_4_4/qsdk/build_dir/toolchain-arm_cortex-a7_gcc-5.2.0_musl-1.1.16_eabi/gcc-5.2.0/gcc/cp/error.c:3436:53: warning: unknown conversion type character 'r' in format [-Wformat=]\\n\",\n",
       " \"/local/mnt/workspace/ashok/wall_Error_repo_Feb14/date_4_4/qsdk/build_dir/toolchain-arm_cortex-a7_gcc-5.2.0_musl-1.1.16_eabi/gcc-5.2.0/gcc/cp/error.c:3436:53: warning: format '%d' expects argument of type 'int', but argument 4 has type 'const char*' [-Wformat=]\\n\",\n",
       " \"/local/mnt/workspace/ashok/wall_Error_repo_Feb14/date_4_4/qsdk/build_dir/toolchain-arm_cortex-a7_gcc-5.2.0_musl-1.1.16_eabi/gcc-5.2.0/gcc/cp/error.c:3436:53: warning: unknown conversion type character 'R' in format [-Wformat=]\\n\",\n",
       " \"/local/mnt/workspace/ashok/wall_Error_repo_Feb14/date_4_4/qsdk/build_dir/toolchain-arm_cortex-a7_gcc-5.2.0_musl-1.1.16_eabi/gcc-5.2.0/gcc/cp/error.c:3436:53: warning: format '%s' expects argument of type 'char*', but argument 6 has type 'int' [-Wformat=]\\n\",\n",
       " '/local/mnt/workspace/ashok/wall_Error_repo_Feb14/date_4_4/qsdk/build_dir/toolchain-arm_cortex-a7_gcc-5.2.0_musl-1.1.16_eabi/gcc-5.2.0/gcc/cp/error.c:3436:53: warning: too many arguments for format [-Wformat-extra-args]\\n',\n",
       " \"/local/mnt/workspace/ashok/wall_Error_repo_Feb14/date_4_4/qsdk/build_dir/toolchain-arm_cortex-a7_gcc-5.2.0_musl-1.1.16_eabi/gcc-5.2.0/gcc/cp/error.c:3440:40: warning: unknown conversion type character 'r' in format [-Wformat=]\\n\",\n",
       " \"/local/mnt/workspace/ashok/wall_Error_repo_Feb14/date_4_4/qsdk/build_dir/toolchain-arm_cortex-a7_gcc-5.2.0_musl-1.1.16_eabi/gcc-5.2.0/gcc/cp/error.c:3440:40: warning: format '%d' expects argument of type 'int', but argument 4 has type 'const char*' [-Wformat=]\\n\",\n",
       " \"/local/mnt/workspace/ashok/wall_Error_repo_Feb14/date_4_4/qsdk/build_dir/toolchain-arm_cortex-a7_gcc-5.2.0_musl-1.1.16_eabi/gcc-5.2.0/gcc/cp/error.c:3440:40: warning: unknown conversion type character 'R' in format [-Wformat=]\\n\",\n",
       " \"/local/mnt/workspace/ashok/wall_Error_repo_Feb14/date_4_4/qsdk/build_dir/toolchain-arm_cortex-a7_gcc-5.2.0_musl-1.1.16_eabi/gcc-5.2.0/gcc/cp/error.c:3440:40: warning: format '%s' expects argument of type 'char*', but argument 5 has type 'int' [-Wformat=]\\n\",\n",
       " '/local/mnt/workspace/ashok/wall_Error_repo_Feb14/date_4_4/qsdk/build_dir/toolchain-arm_cortex-a7_gcc-5.2.0_musl-1.1.16_eabi/gcc-5.2.0/gcc/cp/error.c:3440:40: warning: too many arguments for format [-Wformat-extra-args]\\n',\n",
       " \"/local/mnt/workspace/ashok/wall_Error_repo_Feb14/date_4_4/qsdk/build_dir/toolchain-arm_cortex-a7_gcc-5.2.0_musl-1.1.16_eabi/gcc-5.2.0/gcc/lto-wrapper.c:842:26: warning: ignoring return value of 'ssize_t read(int, void*, size_t)', declared with attribute warn_unused_result [-Wunused-result]\\n\",\n",
       " 'gengtype-lex.c:2150:27: warning: comparison between signed and unsigned integer expressions [-Wsign-compare]\\n',\n",
       " \"/local/mnt/workspace/ashok/wall_Error_repo_Feb14/date_4_4/qsdk/build_dir/toolchain-arm_cortex-a7_gcc-5.2.0_musl-1.1.16_eabi/gcc-5.2.0/gcc/gcc.c:8812:13: warning: deprecated conversion from string constant to 'char*' [-Wwrite-strings]\\n\",\n",
       " \"/local/mnt/workspace/ashok/wall_Error_repo_Feb14/date_4_4/qsdk/build_dir/toolchain-arm_cortex-a7_gcc-5.2.0_musl-1.1.16_eabi/gcc-5.2.0/gcc/gcc.c:9131:46: warning: ignoring return value of 'ssize_t read(int, void*, size_t)', declared with attribute warn_unused_result [-Wunused-result]\\n\",\n",
       " \"/local/mnt/workspace/ashok/wall_Error_repo_Feb14/date_4_4/qsdk/build_dir/toolchain-arm_cortex-a7_gcc-5.2.0_musl-1.1.16_eabi/gcc-5.2.0/gcc/gcc.c:6559:24: warning: ignoring return value of 'ssize_t write(int, const void*, size_t)', declared with attribute warn_unused_result [-Wunused-result]\\n\",\n",
       " \"/local/mnt/workspace/ashok/wall_Error_repo_Feb14/date_4_4/qsdk/build_dir/toolchain-arm_cortex-a7_gcc-5.2.0_musl-1.1.16_eabi/gcc-5.2.0/gcc/gcc.c:6562:25: warning: ignoring return value of 'ssize_t write(int, const void*, size_t)', declared with attribute warn_unused_result [-Wunused-result]\\n\",\n",
       " \"/local/mnt/workspace/ashok/wall_Error_repo_Feb14/date_4_4/qsdk/build_dir/toolchain-arm_cortex-a7_gcc-5.2.0_musl-1.1.16_eabi/gcc-5.2.0/gcc/gcc.c:6563:52: warning: ignoring return value of 'ssize_t write(int, const void*, size_t)', declared with attribute warn_unused_result [-Wunused-result]\\n\",\n",
       " \"/local/mnt/workspace/ashok/wall_Error_repo_Feb14/date_4_4/qsdk/build_dir/toolchain-arm_cortex-a7_gcc-5.2.0_musl-1.1.16_eabi/gcc-5.2.0/gcc/gcc.c:6565:24: warning: ignoring return value of 'ssize_t write(int, const void*, size_t)', declared with attribute warn_unused_result [-Wunused-result]\\n\",\n",
       " \"/local/mnt/workspace/ashok/wall_Error_repo_Feb14/date_4_4/qsdk/build_dir/toolchain-arm_cortex-a7_gcc-5.2.0_musl-1.1.16_eabi/gcc-5.2.0/gcc/lto/lto.c:2077:27: warning: ignoring return value of 'int fscanf(FILE*, const char*, ...)', declared with attribute warn_unused_result [-Wunused-result]\\n\",\n",
       " \"/local/mnt/workspace/ashok/wall_Error_repo_Feb14/date_4_4/qsdk/build_dir/toolchain-arm_cortex-a7_gcc-5.2.0_musl-1.1.16_eabi/gcc-5.2.0/gcc/lto/lto.c:2079:56: warning: ignoring return value of 'size_t fread(void*, size_t, size_t, FILE*)', declared with attribute warn_unused_result [-Wunused-result]\\n\",\n",
       " \"/local/mnt/workspace/ashok/wall_Error_repo_Feb14/date_4_4/qsdk/build_dir/toolchain-arm_cortex-a7_gcc-5.2.0_musl-1.1.16_eabi/gcc-5.2.0/gcc/lto/lto.c:2099:42: warning: ignoring return value of 'int fscanf(FILE*, const char*, ...)', declared with attribute warn_unused_result [-Wunused-result]\\n\",\n",
       " \"/local/mnt/workspace/ashok/wall_Error_repo_Feb14/date_4_4/qsdk/build_dir/toolchain-arm_cortex-a7_gcc-5.2.0_musl-1.1.16_eabi/gcc-5.2.0/libgcc/config/arm/fp16.c:97:1: warning: no previous prototype for '__gnu_h2f_internal' [-Wmissing-prototypes]\\n\",\n",
       " \"/local/mnt/workspace/ashok/wall_Error_repo_Feb14/date_4_4/qsdk/build_dir/toolchain-arm_cortex-a7_gcc-5.2.0_musl-1.1.16_eabi/gcc-5.2.0/libgcc/config/arm/fp16.c:122:1: warning: no previous prototype for '__gnu_f2h_ieee' [-Wmissing-prototypes]\\n\",\n",
       " \"/local/mnt/workspace/ashok/wall_Error_repo_Feb14/date_4_4/qsdk/build_dir/toolchain-arm_cortex-a7_gcc-5.2.0_musl-1.1.16_eabi/gcc-5.2.0/libgcc/config/arm/fp16.c:128:1: warning: no previous prototype for '__gnu_h2f_ieee' [-Wmissing-prototypes]\\n\",\n",
       " \"/local/mnt/workspace/ashok/wall_Error_repo_Feb14/date_4_4/qsdk/build_dir/toolchain-arm_cortex-a7_gcc-5.2.0_musl-1.1.16_eabi/gcc-5.2.0/libgcc/config/arm/fp16.c:134:1: warning: no previous prototype for '__gnu_f2h_alternative' [-Wmissing-prototypes]\\n\",\n",
       " \"/local/mnt/workspace/ashok/wall_Error_repo_Feb14/date_4_4/qsdk/build_dir/toolchain-arm_cortex-a7_gcc-5.2.0_musl-1.1.16_eabi/gcc-5.2.0/libgcc/config/arm/fp16.c:140:1: warning: no previous prototype for '__gnu_h2f_alternative' [-Wmissing-prototypes]\\n\",\n",
       " \"/local/mnt/workspace/ashok/wall_Error_repo_Feb14/date_4_4/qsdk/build_dir/toolchain-arm_cortex-a7_gcc-5.2.0_musl-1.1.16_eabi/gcc-5.2.0/libgcc/unwind-arm-common.inc:245:29: warning: cast discards 'const' qualifier from pointer target type [-Wcast-qual]\\n\",\n",
       " \"/local/mnt/workspace/ashok/wall_Error_repo_Feb14/date_4_4/qsdk/build_dir/toolchain-arm_cortex-a7_gcc-5.2.0_musl-1.1.16_eabi/gcc-5.2.0/libgcc/unwind-arm-common.inc:245:29: warning: cast discards 'const' qualifier from pointer target type [-Wcast-qual]\\n\",\n",
       " 'ctype_members.cc:212:14: warning: comparison of unsigned expression >= 0 is always true [-Wtype-limits]\\n',\n",
       " 'ctype_members.cc:226:14: warning: comparison of unsigned expression >= 0 is always true [-Wtype-limits]\\n',\n",
       " \"/local/mnt/workspace/ashok/wall_Error_repo_Feb14/date_4_4/qsdk/build_dir/toolchain-arm_cortex-a7_gcc-5.2.0_musl-1.1.16_eabi/gcc-5.2.0/libssp/gets-chk.c:67:12: warning: implicit declaration of function 'gets' [-Wimplicit-function-declaration]\\n\",\n",
       " '/local/mnt/workspace/ashok/wall_Error_repo_Feb14/date_4_4/qsdk/build_dir/toolchain-arm_cortex-a7_gcc-5.2.0_musl-1.1.16_eabi/gcc-5.2.0/libssp/gets-chk.c:67:12: warning: return makes pointer from integer without a cast [-Wint-conversion]\\n',\n",
       " '/local/mnt/workspace/ashok/wall_Error_repo_Feb14/date_4_4/qsdk/build_dir/toolchain-arm_cortex-a7_gcc-5.2.0_musl-1.1.16_eabi/gcc-5.2.0/libssp/gets-chk.c:74:12: warning: return makes pointer from integer without a cast [-Wint-conversion]\\n',\n",
       " 'net/sched/Kconfig:44: warning: menuconfig statement without prompt\\n',\n",
       " \"drivers/net/bonding/bond_sysfs.c:914:6: warning: assignment discards 'const' qualifier from pointer target type [-Wdiscarded-qualifiers]\\n\",\n",
       " 'drivers/net/bonding/bond_options.c:445:10: warning: initialization from incompatible pointer type [-Wincompatible-pointer-types]\\n',\n",
       " 'drivers/net/wireless/ath/wil6210/cfg80211.c:2958:21: warning: initialization from incompatible pointer type [-Wincompatible-pointer-types]\\n',\n",
       " \"net/wireless/core.c:899:2: warning: enumeration value 'NL80211_IFTYPE_NAN' not handled in switch [-Wswitch]\\n\",\n",
       " \"net/wireless/core.c:899:2: warning: enumeration value 'NL80211_IFTYPE_MAX' not handled in switch [-Wswitch]\\n\",\n",
       " \"net/wireless/util.c:989:3: warning: enumeration value 'NL80211_IFTYPE_NAN' not handled in switch [-Wswitch]\\n\",\n",
       " \"net/wireless/util.c:989:3: warning: enumeration value 'NL80211_IFTYPE_MAX' not handled in switch [-Wswitch]\\n\",\n",
       " \"net/wireless/nl80211.c:880:2: warning: enumeration value 'NL80211_IFTYPE_NAN' not handled in switch [-Wswitch]\\n\",\n",
       " \"net/wireless/nl80211.c:880:2: warning: enumeration value 'NL80211_IFTYPE_MAX' not handled in switch [-Wswitch]\\n\",\n",
       " \"net/wireless/nl80211.c:10694:23: warning: unused variable 'wdev' [-Wunused-variable]\\n\",\n",
       " \"net/wireless/chan.c:339:2: warning: enumeration value 'NL80211_IFTYPE_NAN' not handled in switch [-Wswitch]\\n\",\n",
       " \"net/wireless/chan.c:339:2: warning: enumeration value 'NL80211_IFTYPE_MAX' not handled in switch [-Wswitch]\\n\",\n",
       " \"net/wireless/chan.c:882:2: warning: enumeration value 'NL80211_IFTYPE_NAN' not handled in switch [-Wswitch]\\n\",\n",
       " \"net/wireless/chan.c:882:2: warning: enumeration value 'NL80211_IFTYPE_MAX' not handled in switch [-Wswitch]\\n\",\n",
       " \"OpenWrt-libtool: install: warning: remember to run `libtool --finish /usr/lib'\\n\",\n",
       " 'warning: remote HEAD refers to nonexistent ref, unable to checkout.\\n',\n",
       " 'warning: remote HEAD refers to nonexistent ref, unable to checkout.\\n',\n",
       " \"unzip.c:1001:7: warning: ignoring return value of 'fread', declared with attribute warn_unused_result [-Wunused-result]\\n\",\n",
       " \"unarchive.c:676:7: warning: ignoring return value of 'fread', declared with attribute warn_unused_result [-Wunused-result]\\n\",\n",
       " \"unarchive.c:392:9: warning: ignoring return value of 'fread', declared with attribute warn_unused_result [-Wunused-result]\\n\",\n",
       " \"unarchive.c:139:9: warning: ignoring return value of 'fread', declared with attribute warn_unused_result [-Wunused-result]\\n\",\n",
       " \"unarchive.c:246:9: warning: ignoring return value of 'chown', declared with attribute warn_unused_result [-Wunused-result]\\n\",\n",
       " \"opkg.c:254:9: warning: variable 'ndepends' set but not used [-Wunused-but-set-variable]\\n\",\n",
       " \"opkg_install.c:1224:12: warning: unused variable 'file_md5' [-Wunused-variable]\\n\",\n",
       " \"pkg_depends.c:272:22: warning: variable 'replaces' set but not used [-Wunused-but-set-variable]\\n\",\n",
       " \"pkg_depends.c:298:9: warning: variable 'count' set but not used [-Wunused-but-set-variable]\\n\",\n",
       " \"pkg_hash.c:177:19: warning: unused variable 'subdist' [-Wunused-variable]\\n\",\n",
       " \"libtool: install: warning: remember to run `libtool --finish /local/mnt/workspace/ashok/wall_Error_repo_Feb14/date_4_4/qsdk/staging_dir/target-arm_cortex-a7_musl-1.1.16_eabi/host/lib'\\n\",\n",
       " \"OpenWrt-libtool: install: warning: remember to run `libtool --finish /usr/lib'\\n\",\n",
       " \"configure.ac:165: warning: The 'AM_PROG_MKDIR_P' macro is deprecated, and its use is discouraged.\\n\",\n",
       " \"sys-utils/hwclock.h:29:59: warning: 'struct timeval' declared inside parameter list\\n\",\n",
       " 'sys-utils/hwclock.h:29:59: warning: its scope is only this definition or declaration, which is probably not what you want\\n',\n",
       " \"sys-utils/hwclock.h:29:59: warning: 'struct timeval' declared inside parameter list\\n\",\n",
       " 'sys-utils/hwclock.h:29:59: warning: its scope is only this definition or declaration, which is probably not what you want\\n',\n",
       " '/local/mnt/workspace/ashok/wall_Error_repo_Feb14/date_4_4/qsdk/staging_dir/toolchain-arm_cortex-a7_gcc-5.2.0_musl-1.1.16_eabi/include/sys/fcntl.h:1:2: warning: #warning redirecting incorrect #include <sys/fcntl.h> to <fcntl.h> [-Wcpp]\\n',\n",
       " \"login-utils/last.c:493:54: warning: pointer targets in passing argument 4 of 'dns_lookup' differ in signedness [-Wpointer-sign]\\n\",\n",
       " \"login-utils/lslogins.c:301:3: warning: implicit declaration of function 'gettimeofday' [-Wimplicit-function-declaration]\\n\",\n",
       " \"login-utils/lslogins.c:301:3: warning: nested extern declaration of 'gettimeofday' [-Wnested-externs]\\n\",\n",
       " \"lib/libmtd.c:749:46: warning: passing argument 3 of 'dev_read_data' discards 'const' qualifier from pointer target type [-Wdiscarded-array-qualifiers]\\n\",\n",
       " \"lib/libmtd.c:755:46: warning: passing argument 3 of 'dev_read_data' discards 'const' qualifier from pointer target type [-Wdiscarded-array-qualifiers]\\n\",\n",
       " \"./include/common.h:81:18: warning: format '%ld' expects argument of type 'long int', but argument 5 has type 'off_t {aka long long int}' [-Wformat=]\\n\",\n",
       " \"./include/common.h:81:18: warning: format '%ld' expects argument of type 'long int', but argument 5 has type 'off_t {aka long long int}' [-Wformat=]\\n\",\n",
       " \"./include/common.h:81:18: warning: format '%ld' expects argument of type 'long int', but argument 5 has type 'off_t {aka long long int}' [-Wformat=]\\n\",\n",
       " \"flash_erase.c:56:22: warning: format '%lx' expects argument of type 'long unsigned int', but argument 3 has type 'off_t {aka long long int}' [-Wformat=]\\n\",\n",
       " \"./include/common.h:69:23: warning: format '%lx' expects argument of type 'long unsigned int', but argument 3 has type 'off_t {aka long long int}' [-Wformat=]\\n\",\n",
       " \"./include/common.h:69:23: warning: format '%lx' expects argument of type 'long unsigned int', but argument 3 has type 'off_t {aka long long int}' [-Wformat=]\\n\",\n",
       " \"ftl_check.c:133:10: warning: format '%ld' expects argument of type 'long int', but argument 2 has type 'off_t {aka long long int}' [-Wformat=]\\n\",\n",
       " \"mkfs.jffs2.c:423:20: warning: format '%a' expects argument of type 'float *', but argument 3 has type 'char **' [-Wformat=]\\n\",\n",
       " \"mkfs.jffs2.c:1235:13: warning: format '%ld' expects argument of type 'long int', but argument 3 has type 'off_t {aka long long int}' [-Wformat=]\\n\",\n",
       " \"mkfs.jffs2.c:1245:13: warning: format '%ld' expects argument of type 'long int', but argument 3 has type 'off_t {aka long long int}' [-Wformat=]\\n\",\n",
       " \"mkfs.jffs2.c:1254:13: warning: format '%ld' expects argument of type 'long int', but argument 3 has type 'off_t {aka long long int}' [-Wformat=]\\n\",\n",
       " \"mkfs.jffs2.c:1283:13: warning: format '%ld' expects argument of type 'long int', but argument 3 has type 'off_t {aka long long int}' [-Wformat=]\\n\",\n",
       " \"mkfs.jffs2.c:1295:13: warning: format '%ld' expects argument of type 'long int', but argument 3 has type 'off_t {aka long long int}' [-Wformat=]\\n\",\n",
       " \"./include/linux/lzma.h:45:34: warning: unused parameter 'p' [-Wunused-parameter]\\n\",\n",
       " \"./include/linux/lzma.h:53:31: warning: unused parameter 'p' [-Wunused-parameter]\\n\",\n",
       " \"compr_lzma.c:50:55: warning: unused parameter 'model' [-Wunused-parameter]\\n\",\n",
       " \"compr_lzma.c:75:47: warning: unused parameter 'model' [-Wunused-parameter]\\n\",\n",
       " 'compr_lzma.c:95:14: warning: initialization from incompatible pointer type [-Wincompatible-pointer-types]\\n',\n",
       " 'compr_lzma.c:96:16: warning: initialization from incompatible pointer type [-Wincompatible-pointer-types]\\n',\n",
       " \"lzma/LzmaEnc.c:1977:8: warning: variable 'btMode' set but not used [-Wunused-but-set-variable]\\n\",\n",
       " \"lzma/LzmaEnc.c:2149:36: warning: unused parameter 'pp' [-Wunused-parameter]\\n\",\n",
       " \"flash_otp_write.c:79:9: warning: format '%lx' expects argument of type 'long unsigned int', but argument 3 has type 'off_t {aka long long int}' [-Wformat=]\\n\",\n",
       " \"mtd_debug.c:160:9: warning: format '%lx' expects argument of type 'long unsigned int', but argument 3 has type 'off_t {aka long long int}' [-Wformat=]\\n\",\n",
       " \"mtd_debug.c:224:9: warning: format '%lx' expects argument of type 'long unsigned int', but argument 4 has type 'off_t {aka long long int}' [-Wformat=]\\n\",\n",
       " 'flashcp.c:255:2: warning: #warning \"Check for smaller erase regions\" [-Wcpp]\\n',\n",
       " \"docfdisk.c:268:12: warning: 'ip' may be used uninitialized in this function [-Wmaybe-uninitialized]\\n\",\n",
       " \"mkfs.ubifs/mkfs.ubifs.h:86:18: warning: format '%ld' expects argument of type 'long int', but argument 3 has type 'off_t {aka long long int}' [-Wformat=]\\n\",\n",
       " \"mkfs.ubifs/mkfs.ubifs.h:86:18: warning: format '%ld' expects argument of type 'long int', but argument 4 has type 'off_t {aka long long int}' [-Wformat=]\\n\",\n",
       " 'ubi-utils/ubiformat.c:636:28: warning: logical not is only applied to the left hand side of comparison [-Wlogical-not-parentheses]\\n',\n",
       " 'warning: remote HEAD refers to nonexistent ref, unable to checkout.\\n',\n",
       " 'warning: remote HEAD refers to nonexistent ref, unable to checkout.\\n',\n",
       " \"parser.c:84:41: warning: unused variable 's' [-Wunused-variable]\\n\",\n",
       " \"ldlex.c:3822:41: warning: declaration of 'base' shadows a global declaration [-Wshadow]\\n\",\n",
       " \"libtool: install: warning: remember to run `libtool --finish /usr/lib'\\n\",\n",
       " \"libtool: install: warning: remember to run `libtool --finish /usr/lib'\\n\",\n",
       " \"libtool: install: warning: `../bfd/libbfd.la' has not been installed in `/usr/lib'\\n\",\n",
       " \"libtool: install: warning: `../opcodes/libopcodes.la' has not been installed in `/usr/lib'\\n\",\n",
       " \"libtool: install: warning: `../bfd/libbfd.la' has not been installed in `/usr/lib'\\n\",\n",
       " \"libtool: install: warning: `../bfd/libbfd.la' has not been installed in `/usr/lib'\\n\",\n",
       " \"libtool: install: warning: `../bfd/libbfd.la' has not been installed in `/usr/lib'\\n\",\n",
       " \"libtool: install: warning: `../bfd/libbfd.la' has not been installed in `/usr/lib'\\n\",\n",
       " \"libtool: install: warning: `../bfd/libbfd.la' has not been installed in `/usr/lib'\\n\",\n",
       " \"libtool: install: warning: `../bfd/libbfd.la' has not been installed in `/usr/lib'\\n\",\n",
       " \"libtool: install: warning: `../bfd/libbfd.la' has not been installed in `/usr/lib'\\n\",\n",
       " \"libtool: install: warning: `../bfd/libbfd.la' has not been installed in `/usr/lib'\\n\",\n",
       " \"libtool: install: warning: `../bfd/libbfd.la' has not been installed in `/usr/lib'\\n\",\n",
       " \"libtool: install: warning: `../opcodes/libopcodes.la' has not been installed in `/usr/lib'\\n\",\n",
       " \"libtool: install: warning: `../bfd/libbfd.la' has not been installed in `/usr/lib'\\n\",\n",
       " \"libtool: install: warning: `../bfd/libbfd.la' has not been installed in `/usr/lib'\\n\",\n",
       " \"libtool: install: warning: `../bfd/libbfd.la' has not been installed in `/usr/lib'\\n\",\n",
       " 'autoheader: warning: missing template: CTYPE_NON_ASCII\\n',\n",
       " 'autoheader: warning: missing template: FIONREAD_IN_SYS_IOCTL\\n',\n",
       " 'autoheader: warning: missing template: HAVE_BSD_SIGNALS\\n',\n",
       " 'autoheader: warning: missing template: HAVE_GETPW_DECLS\\n',\n",
       " 'autoheader: warning: missing template: HAVE_LANGINFO_CODESET\\n',\n",
       " 'autoheader: warning: missing template: HAVE_MBRLEN\\n',\n",
       " 'autoheader: warning: missing template: HAVE_MBSCMP\\n',\n",
       " 'autoheader: warning: missing template: HAVE_MBSNRTOWCS\\n',\n",
       " 'autoheader: warning: missing template: HAVE_MBSRTOWCS\\n',\n",
       " 'autoheader: warning: missing template: HAVE_MBSTATE_T\\n',\n",
       " 'autoheader: warning: missing template: HAVE_POSIX_SIGNALS\\n',\n",
       " 'autoheader: warning: missing template: HAVE_POSIX_SIGSETJMP\\n',\n",
       " 'autoheader: warning: missing template: HAVE_STRUCT_DIRENT_D_FILENO\\n',\n",
       " 'autoheader: warning: missing template: HAVE_STRUCT_DIRENT_D_INO\\n',\n",
       " 'autoheader: warning: missing template: HAVE_USG_SIGHOLD\\n',\n",
       " 'autoheader: warning: missing template: HAVE_WCRTOMB\\n',\n",
       " 'autoheader: warning: missing template: HAVE_WCSCOLL\\n',\n",
       " 'autoheader: warning: missing template: HAVE_WCSDUP\\n',\n",
       " 'autoheader: warning: missing template: HAVE_WCTYPE\\n',\n",
       " 'autoheader: warning: missing template: HAVE_WCWIDTH\\n',\n",
       " 'autoheader: warning: missing template: MUST_REINSTALL_SIGHANDLERS\\n',\n",
       " 'autoheader: warning: missing template: NO_MULTIBYTE_SUPPORT\\n',\n",
       " 'autoheader: warning: missing template: SPEED_T_IN_SYS_TYPES\\n',\n",
       " 'autoheader: warning: missing template: STRCOLL_BROKEN\\n',\n",
       " 'autoheader: warning: missing template: STRUCT_WINSIZE_IN_SYS_IOCTL\\n',\n",
       " 'autoheader: warning: missing template: STRUCT_WINSIZE_IN_TERMIOS\\n',\n",
       " 'autoheader: warning: missing template: TIOCSTAT_IN_SYS_IOCTL\\n',\n",
       " 'autoheader: warning: missing template: VOID_SIGHANDLER\\n',\n",
       " \"linux-thread-db.c:1763:36: warning: format '%lx' expects argument of type 'long unsigned int', but argument 4 has type 'thread_t {aka struct __pthread *}' [-Wformat=]\\n\",\n",
       " \"linux-thread-db.c:1763:36: warning: format '%lx' expects argument of type 'long unsigned int', but argument 4 has type 'thread_t {aka struct __pthread *}' [-Wformat=]\\n\",\n",
       " 'linux-thread-db.c:1892:28: warning: comparison between pointer and integer\\n',\n",
       " \"objfiles.h:685:2: warning: 'sec' may be used uninitialized in this function [-Wmaybe-uninitialized]\\n\",\n",
       " \"thread-db.c:295:19: warning: format '%ld' expects argument of type 'long int', but argument 2 has type 'thread_t {aka struct __pthread *}' [-Wformat=]\\n\",\n",
       " \"thread-db.c:336:19: warning: format '%ld' expects argument of type 'long int', but argument 2 has type 'thread_t {aka struct __pthread *}' [-Wformat=]\\n\",\n",
       " \"thread-db.c:341:16: warning: format '%ld' expects argument of type 'long int', but argument 2 has type 'thread_t {aka struct __pthread *}' [-Wformat=]\\n\",\n",
       " \"desc.c:302:10: warning: format '%ld' expects argument of type 'long int', but argument 2 has type 'off_t {aka long long int}' [-Wformat=]\\n\",\n",
       " \"desc.c:302:10: warning: format '%ld' expects argument of type 'long int', but argument 3 has type 'off_t {aka long long int}' [-Wformat=]\\n\",\n",
       " 'desc.c:955:2: warning: #warning \"libaio.h is not available => no io_submit decoding\" [-Wcpp]\\n',\n",
       " '/local/mnt/workspace/ashok/wall_Error_repo_Feb14/date_4_4/qsdk/staging_dir/toolchain-arm_cortex-a7_gcc-5.2.0_musl-1.1.16_eabi/include/sys/poll.h:1:2: warning: #warning redirecting incorrect #include <sys/poll.h> to <poll.h> [-Wcpp]\\n',\n",
       " '/local/mnt/workspace/ashok/wall_Error_repo_Feb14/date_4_4/qsdk/staging_dir/toolchain-arm_cortex-a7_gcc-5.2.0_musl-1.1.16_eabi/include/sys/poll.h:1:2: warning: #warning redirecting incorrect #include <sys/poll.h> to <poll.h> [-Wcpp]\\n',\n",
       " \"syscall.c:1015:49: warning: passing argument 3 of 'ptrace' makes pointer from integer without a cast [-Wint-conversion]\\n\",\n",
       " \"syscall.c:1015:62: warning: passing argument 4 of 'ptrace' makes integer from pointer without a cast [-Wint-conversion]\\n\",\n",
       " \"syscall.c:1066:53: warning: passing argument 4 of 'ptrace' makes integer from pointer without a cast [-Wint-conversion]\\n\",\n",
       " \"syscall.c:1354:75: warning: passing argument 4 of 'ptrace' makes integer from pointer without a cast [-Wint-conversion]\\n\",\n",
       " 'time.c:777:4: warning: dereferencing type-punned pointer will break strict-aliasing rules [-Wstrict-aliasing]\\n',\n",
       " 'warning: remote HEAD refers to nonexistent ref, unable to checkout.\\n',\n",
       " '/local/mnt/workspace/ashok/wall_Error_repo_Feb14/date_4_4/qsdk/build_dir/target-arm_cortex-a7_musl-1.1.16_eabi/trace-cmd-v2.4.2/event-parse.c:5785:7: warning: assignment makes pointer from integer without a cast [-Wint-conversion]\\n',\n",
       " \"m_debuginfo/debuginfo.c:1796:30: warning: 'sno' may be used uninitialized in this function [-Wmaybe-uninitialized]\\n\",\n",
       " \"ms_main.c:536:8: warning: 'top_has_fnname' may be used uninitialized in this function [-Wmaybe-uninitialized]\\n\",\n",
       " '/local/mnt/workspace/ashok/wall_Error_repo_Feb14/date_4_4/qsdk/staging_dir/toolchain-arm_cortex-a7_gcc-5.2.0_musl-1.1.16_eabi/include/sys/poll.h:1:2: warning: #warning redirecting incorrect #include <sys/poll.h> to <poll.h> [-Wcpp]\\n',\n",
       " '/local/mnt/workspace/ashok/wall_Error_repo_Feb14/date_4_4/qsdk/staging_dir/toolchain-arm_cortex-a7_gcc-5.2.0_musl-1.1.16_eabi/include/sys/poll.h:1:2: warning: #warning redirecting incorrect #include <sys/poll.h> to <poll.h> [-Wcpp]\\n',\n",
       " \"MyDelay.c:38:2: warning: implicit declaration of function 'milliSleep' [-Wimplicit-function-declaration]\\n\",\n",
       " 'DescriptorLinkRxStat.c:33:0: warning: \"MRATE\" redefined\\n',\n",
       " 'DescriptorLinkTx.c:39:0: warning: \"MRATE\" redefined\\n',\n",
       " 'DescriptorLinkTxStat.c:50:0: warning: \"MRATE\" redefined\\n',\n",
       " \"/local/mnt/workspace/ashok/wall_Error_repo_Feb14/date_4_4/qsdk/build_dir/target-arm_cortex-a7_musl-1.1.16_eabi/linux-ipq_ipq806x/LinuxART2CS10.2v4.9.446/wlan/nartlinux/ah_osdep_art.c:165:5: warning: incompatible implicit declaration of built-in function 'printf'\\n\",\n",
       " \"/local/mnt/workspace/ashok/wall_Error_repo_Feb14/date_4_4/qsdk/build_dir/target-arm_cortex-a7_musl-1.1.16_eabi/linux-ipq_ipq806x/LinuxART2CS10.2v4.9.446/wlan/nartlinux/ah_osdep_art.c:186:5: warning: incompatible implicit declaration of built-in function 'snprintf'\\n\",\n",
       " \"/local/mnt/workspace/ashok/wall_Error_repo_Feb14/date_4_4/qsdk/build_dir/target-arm_cortex-a7_musl-1.1.16_eabi/linux-ipq_ipq806x/LinuxART2CS10.2v4.9.446/wlan/nartlinux/ah_osdep_art.c:723:5: warning: incompatible implicit declaration of built-in function 'printf'\\n\",\n",
       " \"/local/mnt/workspace/ashok/wall_Error_repo_Feb14/date_4_4/qsdk/build_dir/target-arm_cortex-a7_musl-1.1.16_eabi/linux-ipq_ipq806x/LinuxART2CS10.2v4.9.446/wlan/nartlinux/ah_osdep_art.c:748:5: warning: incompatible implicit declaration of built-in function 'printf'\\n\",\n",
       " \"/local/mnt/workspace/ashok/wall_Error_repo_Feb14/date_4_4/qsdk/build_dir/target-arm_cortex-a7_musl-1.1.16_eabi/linux-ipq_ipq806x/LinuxART2CS10.2v4.9.446/devlib/ar9287/Ar9287Field.c:49:37: warning: passing argument 2 of 'FieldRead' from incompatible pointer type [-Wincompatible-pointer-types]\\n\",\n",
       " '/local/mnt/workspace/ashok/wall_Error_repo_Feb14/date_4_4/qsdk/build_dir/target-arm_cortex-a7_musl-1.1.16_eabi/linux-ipq_ipq806x/LinuxART2CS10.2v4.9.446/wlan/ar5416/ar5416_eeprom.c:253:21: warning: assignment makes pointer from integer without a cast [-Wint-conversion]\\n',\n",
       " \"/local/mnt/workspace/ashok/wall_Error_repo_Feb14/date_4_4/qsdk/build_dir/target-arm_cortex-a7_musl-1.1.16_eabi/linux-ipq_ipq806x/LinuxART2CS10.2v4.9.446/devlib/ar9287/Ar9287ConfigurationCommand.h:1:58: warning: 'struct _ParameterList' declared inside parameter list\\n\",\n",
       " '/local/mnt/workspace/ashok/wall_Error_repo_Feb14/date_4_4/qsdk/build_dir/target-arm_cortex-a7_musl-1.1.16_eabi/linux-ipq_ipq806x/LinuxART2CS10.2v4.9.446/devlib/ar9287/Ar9287ConfigurationCommand.h:1:58: warning: its scope is only this definition or declaration, which is probably not what you want\\n',\n",
       " \"/local/mnt/workspace/ashok/wall_Error_repo_Feb14/date_4_4/qsdk/build_dir/target-arm_cortex-a7_musl-1.1.16_eabi/linux-ipq_ipq806x/LinuxART2CS10.2v4.9.446/devlib/ar9287/Ar9287ConfigurationCommand.h:2:58: warning: 'struct _ParameterList' declared inside parameter list\\n\",\n",
       " '/local/mnt/workspace/ashok/wall_Error_repo_Feb14/date_4_4/qsdk/build_dir/target-arm_cortex-a7_musl-1.1.16_eabi/linux-ipq_ipq806x/LinuxART2CS10.2v4.9.446/devlib/ar5416/Ar5416RxDescriptor.c:791:5: warning: initialization from incompatible pointer type [-Wincompatible-pointer-types]\\n',\n",
       " '/local/mnt/workspace/ashok/wall_Error_repo_Feb14/date_4_4/qsdk/build_dir/target-arm_cortex-a7_musl-1.1.16_eabi/linux-ipq_ipq806x/LinuxART2CS10.2v4.9.446/devlib/ar5416/Ar5416RxDescriptor.c:793:5: warning: initialization from incompatible pointer type [-Wincompatible-pointer-types]\\n',\n",
       " '/local/mnt/workspace/ashok/wall_Error_repo_Feb14/date_4_4/qsdk/build_dir/target-arm_cortex-a7_musl-1.1.16_eabi/linux-ipq_ipq806x/LinuxART2CS10.2v4.9.446/devlib/ar5416/Ar5416RxDescriptor.c:794:5: warning: initialization from incompatible pointer type [-Wincompatible-pointer-types]\\n',\n",
       " '/local/mnt/workspace/ashok/wall_Error_repo_Feb14/date_4_4/qsdk/build_dir/target-arm_cortex-a7_musl-1.1.16_eabi/linux-ipq_ipq806x/LinuxART2CS10.2v4.9.446/devlib/ar5416/Ar5416RxDescriptor.c:795:5: warning: initialization from incompatible pointer type [-Wincompatible-pointer-types]\\n',\n",
       " '/local/mnt/workspace/ashok/wall_Error_repo_Feb14/date_4_4/qsdk/build_dir/target-arm_cortex-a7_musl-1.1.16_eabi/linux-ipq_ipq806x/LinuxART2CS10.2v4.9.446/devlib/ar5416/Ar5416RxDescriptor.c:797:5: warning: initialization from incompatible pointer type [-Wincompatible-pointer-types]\\n',\n",
       " '/local/mnt/workspace/ashok/wall_Error_repo_Feb14/date_4_4/qsdk/build_dir/target-arm_cortex-a7_musl-1.1.16_eabi/linux-ipq_ipq806x/LinuxART2CS10.2v4.9.446/devlib/ar5416/Ar5416RxDescriptor.c:798:5: warning: initialization from incompatible pointer type [-Wincompatible-pointer-types]\\n',\n",
       " '/local/mnt/workspace/ashok/wall_Error_repo_Feb14/date_4_4/qsdk/build_dir/target-arm_cortex-a7_musl-1.1.16_eabi/linux-ipq_ipq806x/LinuxART2CS10.2v4.9.446/devlib/ar5416/Ar5416RxDescriptor.c:799:5: warning: initialization from incompatible pointer type [-Wincompatible-pointer-types]\\n',\n",
       " '/local/mnt/workspace/ashok/wall_Error_repo_Feb14/date_4_4/qsdk/build_dir/target-arm_cortex-a7_musl-1.1.16_eabi/linux-ipq_ipq806x/LinuxART2CS10.2v4.9.446/devlib/ar5416/Ar5416RxDescriptor.c:801:5: warning: initialization from incompatible pointer type [-Wincompatible-pointer-types]\\n',\n",
       " '/local/mnt/workspace/ashok/wall_Error_repo_Feb14/date_4_4/qsdk/build_dir/target-arm_cortex-a7_musl-1.1.16_eabi/linux-ipq_ipq806x/LinuxART2CS10.2v4.9.446/devlib/ar5416/Ar5416RxDescriptor.c:802:5: warning: initialization from incompatible pointer type [-Wincompatible-pointer-types]\\n',\n",
       " '/local/mnt/workspace/ashok/wall_Error_repo_Feb14/date_4_4/qsdk/build_dir/target-arm_cortex-a7_musl-1.1.16_eabi/linux-ipq_ipq806x/LinuxART2CS10.2v4.9.446/devlib/ar5416/Ar5416RxDescriptor.c:803:5: warning: initialization from incompatible pointer type [-Wincompatible-pointer-types]\\n',\n",
       " '/local/mnt/workspace/ashok/wall_Error_repo_Feb14/date_4_4/qsdk/build_dir/target-arm_cortex-a7_musl-1.1.16_eabi/linux-ipq_ipq806x/LinuxART2CS10.2v4.9.446/devlib/ar5416/Ar5416RxDescriptor.c:809:5: warning: initialization from incompatible pointer type [-Wincompatible-pointer-types]\\n',\n",
       " '/local/mnt/workspace/ashok/wall_Error_repo_Feb14/date_4_4/qsdk/build_dir/target-arm_cortex-a7_musl-1.1.16_eabi/linux-ipq_ipq806x/LinuxART2CS10.2v4.9.446/devlib/ar5416/Ar5416RxDescriptor.c:812:5: warning: initialization from incompatible pointer type [-Wincompatible-pointer-types]\\n',\n",
       " '/local/mnt/workspace/ashok/wall_Error_repo_Feb14/date_4_4/qsdk/build_dir/target-arm_cortex-a7_musl-1.1.16_eabi/linux-ipq_ipq806x/LinuxART2CS10.2v4.9.446/devlib/ar5416/Ar5416RxDescriptor.c:816:5: warning: initialization from incompatible pointer type [-Wincompatible-pointer-types]\\n',\n",
       " '/local/mnt/workspace/ashok/wall_Error_repo_Feb14/date_4_4/qsdk/build_dir/target-arm_cortex-a7_musl-1.1.16_eabi/linux-ipq_ipq806x/LinuxART2CS10.2v4.9.446/devlib/ar5416/Ar5416RxDescriptor.c:817:5: warning: initialization from incompatible pointer type [-Wincompatible-pointer-types]\\n',\n",
       " '/local/mnt/workspace/ashok/wall_Error_repo_Feb14/date_4_4/qsdk/build_dir/target-arm_cortex-a7_musl-1.1.16_eabi/linux-ipq_ipq806x/LinuxART2CS10.2v4.9.446/devlib/ar5416/Ar5416RxDescriptor.c:818:5: warning: initialization from incompatible pointer type [-Wincompatible-pointer-types]\\n',\n",
       " '/local/mnt/workspace/ashok/wall_Error_repo_Feb14/date_4_4/qsdk/build_dir/target-arm_cortex-a7_musl-1.1.16_eabi/linux-ipq_ipq806x/LinuxART2CS10.2v4.9.446/devlib/ar5416/Ar5416RxDescriptor.c:819:5: warning: initialization from incompatible pointer type [-Wincompatible-pointer-types]\\n',\n",
       " '/local/mnt/workspace/ashok/wall_Error_repo_Feb14/date_4_4/qsdk/build_dir/target-arm_cortex-a7_musl-1.1.16_eabi/linux-ipq_ipq806x/LinuxART2CS10.2v4.9.446/devlib/ar5416/Ar5416TxDescriptor.c:1846:5: warning: initialization from incompatible pointer type [-Wincompatible-pointer-types]\\n',\n",
       " '/local/mnt/workspace/ashok/wall_Error_repo_Feb14/date_4_4/qsdk/build_dir/target-arm_cortex-a7_musl-1.1.16_eabi/linux-ipq_ipq806x/LinuxART2CS10.2v4.9.446/devlib/ar5416/Ar5416TxDescriptor.c:1854:5: warning: initialization from incompatible pointer type [-Wincompatible-pointer-types]\\n',\n",
       " '/local/mnt/workspace/ashok/wall_Error_repo_Feb14/date_4_4/qsdk/build_dir/target-arm_cortex-a7_musl-1.1.16_eabi/linux-ipq_ipq806x/LinuxART2CS10.2v4.9.446/devlib/ar5416/Ar5416TxDescriptor.c:1855:5: warning: initialization from incompatible pointer type [-Wincompatible-pointer-types]\\n',\n",
       " '/local/mnt/workspace/ashok/wall_Error_repo_Feb14/date_4_4/qsdk/build_dir/target-arm_cortex-a7_musl-1.1.16_eabi/linux-ipq_ipq806x/LinuxART2CS10.2v4.9.446/devlib/ar5416/Ar5416TxDescriptor.c:1868:5: warning: initialization from incompatible pointer type [-Wincompatible-pointer-types]\\n',\n",
       " '/local/mnt/workspace/ashok/wall_Error_repo_Feb14/date_4_4/qsdk/build_dir/target-arm_cortex-a7_musl-1.1.16_eabi/linux-ipq_ipq806x/LinuxART2CS10.2v4.9.446/devlib/ar5416/Ar5416TxDescriptor.c:1870:5: warning: initialization from incompatible pointer type [-Wincompatible-pointer-types]\\n',\n",
       " '/local/mnt/workspace/ashok/wall_Error_repo_Feb14/date_4_4/qsdk/build_dir/target-arm_cortex-a7_musl-1.1.16_eabi/linux-ipq_ipq806x/LinuxART2CS10.2v4.9.446/devlib/ar5416/Ar5416TxDescriptor.c:1871:5: warning: initialization from incompatible pointer type [-Wincompatible-pointer-types]\\n',\n",
       " '/local/mnt/workspace/ashok/wall_Error_repo_Feb14/date_4_4/qsdk/build_dir/target-arm_cortex-a7_musl-1.1.16_eabi/linux-ipq_ipq806x/LinuxART2CS10.2v4.9.446/devlib/ar5416/Ar5416TxDescriptor.c:1873:5: warning: initialization from incompatible pointer type [-Wincompatible-pointer-types]\\n',\n",
       " \"/local/mnt/workspace/ashok/wall_Error_repo_Feb14/date_4_4/qsdk/build_dir/target-arm_cortex-a7_musl-1.1.16_eabi/linux-ipq_ipq806x/LinuxART2CS10.2v4.9.446/devlib/ar9287/Ar9287ConfigurationCommand.c:530:66: warning: passing argument 4 of 'ReturnUnsigned' from incompatible pointer type [-Wincompatible-pointer-types]\\n\",\n",
       " \"/local/mnt/workspace/ashok/wall_Error_repo_Feb14/date_4_4/qsdk/build_dir/target-arm_cortex-a7_musl-1.1.16_eabi/linux-ipq_ipq806x/LinuxART2CS10.2v4.9.446/devlib/ar9287/Ar9287ConfigurationCommand.c:532:64: warning: passing argument 4 of 'ReturnSigned' from incompatible pointer type [-Wincompatible-pointer-types]\\n\",\n",
       " \"/local/mnt/workspace/ashok/wall_Error_repo_Feb14/date_4_4/qsdk/build_dir/target-arm_cortex-a7_musl-1.1.16_eabi/linux-ipq_ipq806x/LinuxART2CS10.2v4.9.446/devlib/ar9287/Ar9287ConfigurationCommand.c:534:61: warning: passing argument 4 of 'ReturnHex' from incompatible pointer type [-Wincompatible-pointer-types]\\n\",\n",
       " \"/local/mnt/workspace/ashok/wall_Error_repo_Feb14/date_4_4/qsdk/build_dir/target-arm_cortex-a7_musl-1.1.16_eabi/linux-ipq_ipq806x/LinuxART2CS10.2v4.9.446/devlib/ar9287/Ar9287ConfigurationCommand.c:880:42: warning: passing argument 4 of 'ParseHex' from incompatible pointer type [-Wincompatible-pointer-types]\\n\",\n",
       " \"/local/mnt/workspace/ashok/wall_Error_repo_Feb14/date_4_4/qsdk/build_dir/target-arm_cortex-a7_musl-1.1.16_eabi/linux-ipq_ipq806x/LinuxART2CS10.2v4.9.446/devlib/ar9287/Ar9287ConfigurationCommand.c:882:45: warning: passing argument 4 of 'ParseHex' from incompatible pointer type [-Wincompatible-pointer-types]\\n\",\n",
       " \"/local/mnt/workspace/ashok/wall_Error_repo_Feb14/date_4_4/qsdk/build_dir/target-arm_cortex-a7_musl-1.1.16_eabi/linux-ipq_ipq806x/LinuxART2CS10.2v4.9.446/devlib/ar9287/Ar9287Device.c:559:59: warning: passing argument 3 of 'ar9287_calibration_data_read_flash' from incompatible pointer type [-Wincompatible-pointer-types]\\n\",\n",
       " '/local/mnt/workspace/ashok/wall_Error_repo_Feb14/date_4_4/qsdk/build_dir/target-arm_cortex-a7_musl-1.1.16_eabi/linux-ipq_ipq806x/LinuxART2CS10.2v4.9.446/devlib/ar9287/Ar9287Device.c:1004:2: warning: initialization from incompatible pointer type [-Wincompatible-pointer-types]\\n',\n",
       " \"/local/mnt/workspace/ashok/wall_Error_repo_Feb14/date_4_4/qsdk/build_dir/target-arm_cortex-a7_musl-1.1.16_eabi/linux-ipq_ipq806x/LinuxART2CS10.2v4.9.446/devlib/ar9287/Ar9287NoiseFloor.c:15:35: warning: passing argument 2 of 'FieldFind' from incompatible pointer type [-Wincompatible-pointer-types]\\n\",\n",
       " \"/local/mnt/workspace/ashok/wall_Error_repo_Feb14/date_4_4/qsdk/build_dir/target-arm_cortex-a7_musl-1.1.16_eabi/linux-ipq_ipq806x/LinuxART2CS10.2v4.9.446/devlib/ar9287/Ar9287NoiseFloor.c:26:35: warning: passing argument 2 of 'FieldRead' from incompatible pointer type [-Wincompatible-pointer-types]\\n\",\n",
       " \"/local/mnt/workspace/ashok/wall_Error_repo_Feb14/date_4_4/qsdk/build_dir/target-arm_cortex-a7_musl-1.1.16_eabi/linux-ipq_ipq806x/LinuxART2CS10.2v4.9.446/devlib/ar9287/Ar9287NoiseFloor.c:30:40: warning: passing argument 2 of 'FieldRead' from incompatible pointer type [-Wincompatible-pointer-types]\\n\",\n",
       " \"/local/mnt/workspace/ashok/wall_Error_repo_Feb14/date_4_4/qsdk/build_dir/target-arm_cortex-a7_musl-1.1.16_eabi/linux-ipq_ipq806x/LinuxART2CS10.2v4.9.446/devlib/ar9287/Ar9287NoiseFloor.c:105:43: warning: passing argument 2 of 'FieldRead' from incompatible pointer type [-Wincompatible-pointer-types]\\n\",\n",
       " \"/local/mnt/workspace/ashok/wall_Error_repo_Feb14/date_4_4/qsdk/build_dir/target-arm_cortex-a7_musl-1.1.16_eabi/linux-ipq_ipq806x/LinuxART2CS10.2v4.9.446/art/Card.h:36:44: warning: 'struct _ParameterList' declared inside parameter list\\n\",\n",
       " '/local/mnt/workspace/ashok/wall_Error_repo_Feb14/date_4_4/qsdk/build_dir/target-arm_cortex-a7_musl-1.1.16_eabi/linux-ipq_ipq806x/LinuxART2CS10.2v4.9.446/art/Card.h:36:44: warning: its scope is only this definition or declaration, which is probably not what you want\\n',\n",
       " \"/local/mnt/workspace/ashok/wall_Error_repo_Feb14/date_4_4/qsdk/build_dir/target-arm_cortex-a7_musl-1.1.16_eabi/linux-ipq_ipq806x/LinuxART2CS10.2v4.9.446/art/Card.h:46:45: warning: 'struct _ParameterList' declared inside parameter list\\n\",\n",
       " \"/local/mnt/workspace/ashok/wall_Error_repo_Feb14/date_4_4/qsdk/build_dir/target-arm_cortex-a7_musl-1.1.16_eabi/linux-ipq_ipq806x/LinuxART2CS10.2v4.9.446/art/Card.h:48:48: warning: 'struct _ParameterList' declared inside parameter list\\n\",\n",
       " \"/local/mnt/workspace/ashok/wall_Error_repo_Feb14/date_4_4/qsdk/build_dir/target-arm_cortex-a7_musl-1.1.16_eabi/linux-ipq_ipq806x/LinuxART2CS10.2v4.9.446/devlib/ar9287/Ar9287Temperature.c:67:38: warning: passing argument 2 of 'FieldRead' from incompatible pointer type [-Wincompatible-pointer-types]\\n\",\n",
       " \"/local/mnt/workspace/ashok/wall_Error_repo_Feb14/date_4_4/qsdk/build_dir/target-arm_cortex-a7_musl-1.1.16_eabi/linux-ipq_ipq806x/LinuxART2CS10.2v4.9.446/devlib/ar9287/Ar9287Temperature.c:68:43: warning: passing argument 2 of 'FieldRead' from incompatible pointer type [-Wincompatible-pointer-types]\\n\",\n",
       " \"/local/mnt/workspace/ashok/wall_Error_repo_Feb14/date_4_4/qsdk/build_dir/target-arm_cortex-a7_musl-1.1.16_eabi/linux-ipq_ipq806x/LinuxART2CS10.2v4.9.446/devlib/ar9287/Ar9287Temperature.c:69:47: warning: passing argument 2 of 'FieldRead' from incompatible pointer type [-Wincompatible-pointer-types]\\n\",\n",
       " \"/local/mnt/workspace/ashok/wall_Error_repo_Feb14/date_4_4/qsdk/build_dir/target-arm_cortex-a7_musl-1.1.16_eabi/linux-ipq_ipq806x/LinuxART2CS10.2v4.9.446/devlib/ar9287/Ar9287Temperature.c:70:45: warning: passing argument 2 of 'FieldRead' from incompatible pointer type [-Wincompatible-pointer-types]\\n\",\n",
       " \"/local/mnt/workspace/ashok/wall_Error_repo_Feb14/date_4_4/qsdk/build_dir/target-arm_cortex-a7_musl-1.1.16_eabi/linux-ipq_ipq806x/LinuxART2CS10.2v4.9.446/devlib/ar9287/Ar9287Temperature.c:71:49: warning: passing argument 2 of 'FieldRead' from incompatible pointer type [-Wincompatible-pointer-types]\\n\",\n",
       " \"/local/mnt/workspace/ashok/wall_Error_repo_Feb14/date_4_4/qsdk/build_dir/target-arm_cortex-a7_musl-1.1.16_eabi/linux-ipq_ipq806x/LinuxART2CS10.2v4.9.446/devlib/ar9287/Ar9287Temperature.c:72:44: warning: passing argument 2 of 'FieldRead' from incompatible pointer type [-Wincompatible-pointer-types]\\n\",\n",
       " \"/local/mnt/workspace/ashok/wall_Error_repo_Feb14/date_4_4/qsdk/build_dir/target-arm_cortex-a7_musl-1.1.16_eabi/linux-ipq_ipq806x/LinuxART2CS10.2v4.9.446/devlib/ar9287/Ar9287Temperature.c:121:28: warning: passing argument 2 of 'MyRegisterRead' from incompatible pointer type [-Wincompatible-pointer-types]\\n\",\n",
       " \"/local/mnt/workspace/ashok/wall_Error_repo_Feb14/date_4_4/qsdk/build_dir/target-arm_cortex-a7_musl-1.1.16_eabi/linux-ipq_ipq806x/LinuxART2CS10.2v4.9.446/devlib/ar9287/Ar9287Temperature.c:133:27: warning: passing argument 2 of 'MyRegisterRead' from incompatible pointer type [-Wincompatible-pointer-types]\\n\",\n",
       " \"/local/mnt/workspace/ashok/wall_Error_repo_Feb14/date_4_4/qsdk/build_dir/target-arm_cortex-a7_musl-1.1.16_eabi/linux-ipq_ipq806x/LinuxART2CS10.2v4.9.446/devlib/ar9287/Ar9287Temperature.c:139:43: warning: passing argument 2 of 'MyRegisterRead' from incompatible pointer type [-Wincompatible-pointer-types]\\n\",\n",
       " \"/local/mnt/workspace/ashok/wall_Error_repo_Feb14/date_4_4/qsdk/build_dir/target-arm_cortex-a7_musl-1.1.16_eabi/linux-ipq_ipq806x/LinuxART2CS10.2v4.9.446/devlib/ar9287/Ar9287Temperature.c:165:25: warning: passing argument 2 of 'MyRegisterRead' from incompatible pointer type [-Wincompatible-pointer-types]\\n\",\n",
       " \"/local/mnt/workspace/ashok/wall_Error_repo_Feb14/date_4_4/qsdk/build_dir/target-arm_cortex-a7_musl-1.1.16_eabi/linux-ipq_ipq806x/LinuxART2CS10.2v4.9.446/devlib/ar9287/Ar9287Temperature.c:170:25: warning: passing argument 2 of 'MyRegisterRead' from incompatible pointer type [-Wincompatible-pointer-types]\\n\",\n",
       " \"GetSet.c:464:4: warning: passing argument 4 of 'StructDifferenceAnalyze' from incompatible pointer type [-Wincompatible-pointer-types]\\n\",\n",
       " '/local/mnt/workspace/ashok/wall_Error_repo_Feb14/date_4_4/qsdk/build_dir/target-arm_cortex-a7_musl-1.1.16_eabi/linux-ipq_ipq806x/LinuxART2CS10.2v4.9.446/wlan/ah_internal.h:1491:0: warning: \"WLAN_CTRL_FRAME_SIZE\" redefined\\n',\n",
       " \"/local/mnt/workspace/ashok/wall_Error_repo_Feb14/date_4_4/qsdk/build_dir/target-arm_cortex-a7_musl-1.1.16_eabi/linux-ipq_ipq806x/LinuxART2CS10.2v4.9.446/devlib/qc98xx/Qc98xxEepromPrint.c:1259:50: warning: passing argument 2 of 'Qc9KMemoryRead' from incompatible pointer type [-Wincompatible-pointer-types]\\n\",\n",
       " \"/local/mnt/workspace/ashok/wall_Error_repo_Feb14/date_4_4/qsdk/build_dir/target-arm_cortex-a7_musl-1.1.16_eabi/linux-ipq_ipq806x/LinuxART2CS10.2v4.9.446/devlib/qc98xx/Qc98xxConfigurationCommand.c:829:42: warning: passing argument 4 of 'ParseHex' from incompatible pointer type [-Wincompatible-pointer-types]\\n\",\n",
       " \"/local/mnt/workspace/ashok/wall_Error_repo_Feb14/date_4_4/qsdk/build_dir/target-arm_cortex-a7_musl-1.1.16_eabi/linux-ipq_ipq806x/LinuxART2CS10.2v4.9.446/devlib/qc98xx/Qc98xxConfigurationCommand.c:832:45: warning: passing argument 4 of 'ParseHex' from incompatible pointer type [-Wincompatible-pointer-types]\\n\",\n",
       " \"/local/mnt/workspace/ashok/wall_Error_repo_Feb14/date_4_4/qsdk/build_dir/target-arm_cortex-a7_musl-1.1.16_eabi/linux-ipq_ipq806x/LinuxART2CS10.2v4.9.446/devlib/qc98xx/Qc98xxConfigurationCommand.c:1167:46: warning: passing argument 6 of 'ConfigSet' from incompatible pointer type [-Wincompatible-pointer-types]\\n\",\n",
       " \"/local/mnt/workspace/ashok/wall_Error_repo_Feb14/date_4_4/qsdk/build_dir/target-arm_cortex-a7_musl-1.1.16_eabi/linux-ipq_ipq806x/LinuxART2CS10.2v4.9.446/devlib/qc98xx/Qc98xxConfigurationCommand.c:1170:46: warning: passing argument 6 of 'ConfigSet' from incompatible pointer type [-Wincompatible-pointer-types]\\n\",\n",
       " '/local/mnt/workspace/ashok/wall_Error_repo_Feb14/date_4_4/qsdk/build_dir/target-arm_cortex-a7_musl-1.1.16_eabi/linux-ipq_ipq806x/LinuxART2CS10.2v4.9.446/host/include/../os/linux/include/osapi_linux.h:591:0: warning: \"A_MALLOC\" redefined\\n',\n",
       " '/local/mnt/workspace/ashok/wall_Error_repo_Feb14/date_4_4/qsdk/build_dir/target-arm_cortex-a7_musl-1.1.16_eabi/linux-ipq_ipq806x/LinuxART2CS10.2v4.9.446/host/include/../os/linux/include/osapi_linux.h:592:0: warning: \"A_FREE\" redefined\\n',\n",
       " '/local/mnt/workspace/ashok/wall_Error_repo_Feb14/date_4_4/qsdk/build_dir/target-arm_cortex-a7_musl-1.1.16_eabi/linux-ipq_ipq806x/LinuxART2CS10.2v4.9.446/devlib/qc98xx/Qc98xxDevice.c:1839:2: warning: initialization from incompatible pointer type [-Wincompatible-pointer-types]\\n',\n",
       " '/local/mnt/workspace/ashok/wall_Error_repo_Feb14/date_4_4/qsdk/build_dir/target-arm_cortex-a7_musl-1.1.16_eabi/linux-ipq_ipq806x/LinuxART2CS10.2v4.9.446/devlib/qc98xx/Qc98xxDevice.c:1921:2: warning: initialization from incompatible pointer type [-Wincompatible-pointer-types]\\n',\n",
       " \"/local/mnt/workspace/ashok/wall_Error_repo_Feb14/date_4_4/qsdk/build_dir/target-arm_cortex-a7_musl-1.1.16_eabi/linux-ipq_ipq806x/LinuxART2CS10.2v4.9.446/devlib/qc98xx/Qc98xxEepromSave.c:770:50: warning: unknown escape sequence: '\\\\/'\\n\",\n",
       " \"/local/mnt/workspace/ashok/wall_Error_repo_Feb14/date_4_4/qsdk/build_dir/target-arm_cortex-a7_musl-1.1.16_eabi/linux-ipq_ipq806x/LinuxART2CS10.2v4.9.446/devlib/qc98xx/Qc98xxEepromSave.c:770:50: warning: unknown escape sequence: '\\\\/'\\n\",\n",
       " \"/local/mnt/workspace/ashok/wall_Error_repo_Feb14/date_4_4/qsdk/build_dir/target-arm_cortex-a7_musl-1.1.16_eabi/linux-ipq_ipq806x/LinuxART2CS10.2v4.9.446/devlib/qc98xx/Qc98xxEepromSave.c:815:17: warning: unknown escape sequence: '\\\\/'\\n\",\n",
       " \"/local/mnt/workspace/ashok/wall_Error_repo_Feb14/date_4_4/qsdk/build_dir/target-arm_cortex-a7_musl-1.1.16_eabi/linux-ipq_ipq806x/LinuxART2CS10.2v4.9.446/devlib/qc98xx/Qc98xxEepromSave.c:815:17: warning: unknown escape sequence: '\\\\/'\\n\",\n",
       " \"/local/mnt/workspace/ashok/wall_Error_repo_Feb14/date_4_4/qsdk/build_dir/target-arm_cortex-a7_musl-1.1.16_eabi/linux-ipq_ipq806x/LinuxART2CS10.2v4.9.446/devlib/qc98xx/Qc98xxEepromSave.c:815:17: warning: unknown escape sequence: '\\\\/'\\n\",\n",
       " \"/local/mnt/workspace/ashok/wall_Error_repo_Feb14/date_4_4/qsdk/build_dir/target-arm_cortex-a7_musl-1.1.16_eabi/linux-ipq_ipq806x/LinuxART2CS10.2v4.9.446/devlib/qc98xx/Qc98xxEepromSave.c:815:17: warning: unknown escape sequence: '\\\\/'\\n\",\n",
       " \"/local/mnt/workspace/ashok/wall_Error_repo_Feb14/date_4_4/qsdk/build_dir/target-arm_cortex-a7_musl-1.1.16_eabi/linux-ipq_ipq806x/LinuxART2CS10.2v4.9.446/devlib/qc98xx/Qc98xxEepromSave.c:816:17: warning: unknown escape sequence: '\\\\/'\\n\",\n",
       " \"/local/mnt/workspace/ashok/wall_Error_repo_Feb14/date_4_4/qsdk/build_dir/target-arm_cortex-a7_musl-1.1.16_eabi/linux-ipq_ipq806x/LinuxART2CS10.2v4.9.446/devlib/qc98xx/Qc98xxEepromSave.c:816:17: warning: unknown escape sequence: '\\\\/'\\n\",\n",
       " \"/local/mnt/workspace/ashok/wall_Error_repo_Feb14/date_4_4/qsdk/build_dir/target-arm_cortex-a7_musl-1.1.16_eabi/linux-ipq_ipq806x/LinuxART2CS10.2v4.9.446/devlib/qc98xx/Qc98xxEepromSave.c:818:17: warning: unknown escape sequence: '\\\\/'\\n\",\n",
       " \"/local/mnt/workspace/ashok/wall_Error_repo_Feb14/date_4_4/qsdk/build_dir/target-arm_cortex-a7_musl-1.1.16_eabi/linux-ipq_ipq806x/LinuxART2CS10.2v4.9.446/devlib/qc98xx/Qc98xxEepromSave.c:818:17: warning: unknown escape sequence: '\\\\/'\\n\",\n",
       " \"/local/mnt/workspace/ashok/wall_Error_repo_Feb14/date_4_4/qsdk/build_dir/target-arm_cortex-a7_musl-1.1.16_eabi/linux-ipq_ipq806x/LinuxART2CS10.2v4.9.446/devlib/qc98xx/Qc98xxEepromSave.c:818:17: warning: unknown escape sequence: '\\\\/'\\n\",\n",
       " \"/local/mnt/workspace/ashok/wall_Error_repo_Feb14/date_4_4/qsdk/build_dir/target-arm_cortex-a7_musl-1.1.16_eabi/linux-ipq_ipq806x/LinuxART2CS10.2v4.9.446/devlib/qc98xx/Qc98xxEepromSave.c:818:17: warning: unknown escape sequence: '\\\\/'\\n\",\n",
       " \"/local/mnt/workspace/ashok/wall_Error_repo_Feb14/date_4_4/qsdk/build_dir/target-arm_cortex-a7_musl-1.1.16_eabi/linux-ipq_ipq806x/LinuxART2CS10.2v4.9.446/devlib/qc98xx/Qc98xxEepromSave.c:819:17: warning: unknown escape sequence: '\\\\/'\\n\",\n",
       " \"/local/mnt/workspace/ashok/wall_Error_repo_Feb14/date_4_4/qsdk/build_dir/target-arm_cortex-a7_musl-1.1.16_eabi/linux-ipq_ipq806x/LinuxART2CS10.2v4.9.446/devlib/qc98xx/Qc98xxEepromSave.c:819:17: warning: unknown escape sequence: '\\\\/'\\n\",\n",
       " \"/local/mnt/workspace/ashok/wall_Error_repo_Feb14/date_4_4/qsdk/build_dir/target-arm_cortex-a7_musl-1.1.16_eabi/linux-ipq_ipq806x/LinuxART2CS10.2v4.9.446/devlib/qc98xx/Qc98xxEepromSave.c:821:17: warning: unknown escape sequence: '\\\\/'\\n\",\n",
       " \"/local/mnt/workspace/ashok/wall_Error_repo_Feb14/date_4_4/qsdk/build_dir/target-arm_cortex-a7_musl-1.1.16_eabi/linux-ipq_ipq806x/LinuxART2CS10.2v4.9.446/devlib/qc98xx/Qc98xxEepromSave.c:821:17: warning: unknown escape sequence: '\\\\/'\\n\",\n",
       " \"/local/mnt/workspace/ashok/wall_Error_repo_Feb14/date_4_4/qsdk/build_dir/target-arm_cortex-a7_musl-1.1.16_eabi/linux-ipq_ipq806x/LinuxART2CS10.2v4.9.446/devlib/qc98xx/Qc98xxEepromSave.c:821:17: warning: unknown escape sequence: '\\\\/'\\n\",\n",
       " \"/local/mnt/workspace/ashok/wall_Error_repo_Feb14/date_4_4/qsdk/build_dir/target-arm_cortex-a7_musl-1.1.16_eabi/linux-ipq_ipq806x/LinuxART2CS10.2v4.9.446/devlib/qc98xx/Qc98xxEepromSave.c:821:17: warning: unknown escape sequence: '\\\\/'\\n\",\n",
       " \"/local/mnt/workspace/ashok/wall_Error_repo_Feb14/date_4_4/qsdk/build_dir/target-arm_cortex-a7_musl-1.1.16_eabi/linux-ipq_ipq806x/LinuxART2CS10.2v4.9.446/devlib/qc98xx/Qc98xxEepromSave.c:822:17: warning: unknown escape sequence: '\\\\/'\\n\",\n",
       " \"/local/mnt/workspace/ashok/wall_Error_repo_Feb14/date_4_4/qsdk/build_dir/target-arm_cortex-a7_musl-1.1.16_eabi/linux-ipq_ipq806x/LinuxART2CS10.2v4.9.446/devlib/qc98xx/Qc98xxEepromSave.c:822:17: warning: unknown escape sequence: '\\\\/'\\n\",\n",
       " \"/local/mnt/workspace/ashok/wall_Error_repo_Feb14/date_4_4/qsdk/build_dir/target-arm_cortex-a7_musl-1.1.16_eabi/linux-ipq_ipq806x/LinuxART2CS10.2v4.9.446/devlib/qc98xx/Qc98xxmEep.c:401:55: warning: passing argument 2 of 'Qc9KMemoryWrite' from incompatible pointer type [-Wincompatible-pointer-types]\\n\",\n",
       " \"/local/mnt/workspace/ashok/wall_Error_repo_Feb14/date_4_4/qsdk/build_dir/target-arm_cortex-a7_musl-1.1.16_eabi/linux-ipq_ipq806x/LinuxART2CS10.2v4.9.446/devlib/qc98xx/Qc98xxPcieConfig.c:1366:46: warning: passing argument 2 of 'Qc98xxReadPciConfigSpace' from incompatible pointer type [-Wincompatible-pointer-types]\\n\",\n",
       " '/local/mnt/workspace/ashok/wall_Error_repo_Feb14/date_4_4/qsdk/build_dir/target-arm_cortex-a7_musl-1.1.16_eabi/linux-ipq_ipq806x/LinuxART2CS10.2v4.9.446/host/include/../os/linux/include/osapi_linux.h:591:0: warning: \"A_MALLOC\" redefined\\n',\n",
       " '/local/mnt/workspace/ashok/wall_Error_repo_Feb14/date_4_4/qsdk/build_dir/target-arm_cortex-a7_musl-1.1.16_eabi/linux-ipq_ipq806x/LinuxART2CS10.2v4.9.446/host/include/../os/linux/include/osapi_linux.h:592:0: warning: \"A_FREE\" redefined\\n',\n",
       " \"/local/mnt/workspace/ashok/wall_Error_repo_Feb14/date_4_4/qsdk/build_dir/target-arm_cortex-a7_musl-1.1.16_eabi/linux-ipq_ipq806x/LinuxART2CS10.2v4.9.446/art/Card.h:36:44: warning: 'struct _ParameterList' declared inside parameter list\\n\",\n",
       " '/local/mnt/workspace/ashok/wall_Error_repo_Feb14/date_4_4/qsdk/build_dir/target-arm_cortex-a7_musl-1.1.16_eabi/linux-ipq_ipq806x/LinuxART2CS10.2v4.9.446/art/Card.h:36:44: warning: its scope is only this definition or declaration, which is probably not what you want\\n',\n",
       " \"/local/mnt/workspace/ashok/wall_Error_repo_Feb14/date_4_4/qsdk/build_dir/target-arm_cortex-a7_musl-1.1.16_eabi/linux-ipq_ipq806x/LinuxART2CS10.2v4.9.446/art/Card.h:46:45: warning: 'struct _ParameterList' declared inside parameter list\\n\",\n",
       " \"/local/mnt/workspace/ashok/wall_Error_repo_Feb14/date_4_4/qsdk/build_dir/target-arm_cortex-a7_musl-1.1.16_eabi/linux-ipq_ipq806x/LinuxART2CS10.2v4.9.446/art/Card.h:48:48: warning: 'struct _ParameterList' declared inside parameter list\\n\",\n",
       " \"/local/mnt/workspace/ashok/wall_Error_repo_Feb14/date_4_4/qsdk/build_dir/target-arm_cortex-a7_musl-1.1.16_eabi/linux-ipq_ipq806x/LinuxART2CS10.2v4.9.446/os/Linux/os_if_ap.c:179:60: warning: dereferencing 'void *' pointer\\n\",\n",
       " \"/local/mnt/workspace/ashok/wall_Error_repo_Feb14/date_4_4/qsdk/build_dir/target-arm_cortex-a7_musl-1.1.16_eabi/linux-ipq_ipq806x/LinuxART2CS10.2v4.9.446/wlan/nartlinux/ah_osdep_art.c:165:5: warning: incompatible implicit declaration of built-in function 'printf'\\n\",\n",
       " \"/local/mnt/workspace/ashok/wall_Error_repo_Feb14/date_4_4/qsdk/build_dir/target-arm_cortex-a7_musl-1.1.16_eabi/linux-ipq_ipq806x/LinuxART2CS10.2v4.9.446/wlan/nartlinux/ah_osdep_art.c:186:5: warning: incompatible implicit declaration of built-in function 'snprintf'\\n\",\n",
       " \"/local/mnt/workspace/ashok/wall_Error_repo_Feb14/date_4_4/qsdk/build_dir/target-arm_cortex-a7_musl-1.1.16_eabi/linux-ipq_ipq806x/LinuxART2CS10.2v4.9.446/wlan/nartlinux/ah_osdep_art.c:723:5: warning: incompatible implicit declaration of built-in function 'printf'\\n\",\n",
       " \"/local/mnt/workspace/ashok/wall_Error_repo_Feb14/date_4_4/qsdk/build_dir/target-arm_cortex-a7_musl-1.1.16_eabi/linux-ipq_ipq806x/LinuxART2CS10.2v4.9.446/wlan/nartlinux/ah_osdep_art.c:748:5: warning: incompatible implicit declaration of built-in function 'printf'\\n\",\n",
       " \"/local/mnt/workspace/ashok/wall_Error_repo_Feb14/date_4_4/qsdk/build_dir/target-arm_cortex-a7_musl-1.1.16_eabi/linux-ipq_ipq806x/LinuxART2CS10.2v4.9.446/wlan/ar9300/ar9300_attach.c:936:17: warning: incompatible implicit declaration of built-in function 'printf'\\n\",\n",
       " \"/local/mnt/workspace/ashok/wall_Error_repo_Feb14/date_4_4/qsdk/build_dir/target-arm_cortex-a7_musl-1.1.16_eabi/linux-ipq_ipq806x/LinuxART2CS10.2v4.9.446/wlan/ar9300/ar9300_attach.c:939:17: warning: incompatible implicit declaration of built-in function 'printf'\\n\",\n",
       " \"/local/mnt/workspace/ashok/wall_Error_repo_Feb14/date_4_4/qsdk/build_dir/target-arm_cortex-a7_musl-1.1.16_eabi/linux-ipq_ipq806x/LinuxART2CS10.2v4.9.446/wlan/ar9300/ar9300_reset.c:7329:13: warning: incompatible implicit declaration of built-in function 'printf'\\n\",\n",
       " '/local/mnt/workspace/ashok/wall_Error_repo_Feb14/date_4_4/qsdk/build_dir/target-arm_cortex-a7_musl-1.1.16_eabi/linux-ipq_ipq806x/LinuxART2CS10.2v4.9.446/wlan/ar9300/ar9300reg.h:3133:0: warning: \"AR_SREV_DRAGONFLY\" redefined\\n',\n",
       " \"/local/mnt/workspace/ashok/wall_Error_repo_Feb14/date_4_4/qsdk/build_dir/target-arm_cortex-a7_musl-1.1.16_eabi/linux-ipq_ipq806x/LinuxART2CS10.2v4.9.446/HALdll_proj/HAL_art/ar9300Eeprom_rfGainCap.c:90:9: warning: incompatible implicit declaration of built-in function 'snprintf'\\n\",\n",
       " \"/local/mnt/workspace/ashok/wall_Error_repo_Feb14/date_4_4/qsdk/build_dir/target-arm_cortex-a7_musl-1.1.16_eabi/linux-ipq_ipq806x/LinuxART2CS10.2v4.9.446/HALdll_proj/HAL_art/ar9300Eeprom_rfGainCap.c:101:9: warning: incompatible implicit declaration of built-in function 'snprintf'\\n\",\n",
       " \"/local/mnt/workspace/ashok/wall_Error_repo_Feb14/date_4_4/qsdk/build_dir/target-arm_cortex-a7_musl-1.1.16_eabi/linux-ipq_ipq806x/LinuxART2CS10.2v4.9.446/devlib/ar9300/Ar9300ConfigurationCommand.c:820:42: warning: passing argument 4 of 'ParseHex' from incompatible pointer type [-Wincompatible-pointer-types]\\n\",\n",
       " \"/local/mnt/workspace/ashok/wall_Error_repo_Feb14/date_4_4/qsdk/build_dir/target-arm_cortex-a7_musl-1.1.16_eabi/linux-ipq_ipq806x/LinuxART2CS10.2v4.9.446/devlib/ar9300/Ar9300ConfigurationCommand.c:822:45: warning: passing argument 4 of 'ParseHex' from incompatible pointer type [-Wincompatible-pointer-types]\\n\",\n",
       " \"/local/mnt/workspace/ashok/wall_Error_repo_Feb14/date_4_4/qsdk/build_dir/target-arm_cortex-a7_musl-1.1.16_eabi/linux-ipq_ipq806x/LinuxART2CS10.2v4.9.446/devlib/ar9300/Ar9300ConfigurationCommand.c:1199:59: warning: passing argument 9 of 'ConfigSets' from incompatible pointer type [-Wincompatible-pointer-types]\\n\",\n",
       " \"/local/mnt/workspace/ashok/wall_Error_repo_Feb14/date_4_4/qsdk/build_dir/target-arm_cortex-a7_musl-1.1.16_eabi/linux-ipq_ipq806x/LinuxART2CS10.2v4.9.446/devlib/ar9300/Ar9300ConfigurationCommand.c:1202:59: warning: passing argument 9 of 'ConfigSets' from incompatible pointer type [-Wincompatible-pointer-types]\\n\",\n",
       " \"/local/mnt/workspace/ashok/wall_Error_repo_Feb14/date_4_4/qsdk/build_dir/target-arm_cortex-a7_musl-1.1.16_eabi/linux-ipq_ipq806x/LinuxART2CS10.2v4.9.446/devlib/ar9300/Ar9300ConfigurationCommand.c:2299:42: warning: passing argument 4 of 'ParseHex' from incompatible pointer type [-Wincompatible-pointer-types]\\n\",\n",
       " \"/local/mnt/workspace/ashok/wall_Error_repo_Feb14/date_4_4/qsdk/build_dir/target-arm_cortex-a7_musl-1.1.16_eabi/linux-ipq_ipq806x/LinuxART2CS10.2v4.9.446/devlib/ar9300/Ar9300ConfigurationCommand.c:2301:45: warning: passing argument 4 of 'ParseHex' from incompatible pointer type [-Wincompatible-pointer-types]\\n\",\n",
       " \"/local/mnt/workspace/ashok/wall_Error_repo_Feb14/date_4_4/qsdk/build_dir/target-arm_cortex-a7_musl-1.1.16_eabi/linux-ipq_ipq806x/LinuxART2CS10.2v4.9.446/devlib/ar9300/Ar9300ConfigurationCommand.c:2678:59: warning: passing argument 9 of 'ConfigSets' from incompatible pointer type [-Wincompatible-pointer-types]\\n\",\n",
       " \"/local/mnt/workspace/ashok/wall_Error_repo_Feb14/date_4_4/qsdk/build_dir/target-arm_cortex-a7_musl-1.1.16_eabi/linux-ipq_ipq806x/LinuxART2CS10.2v4.9.446/devlib/ar9300/Ar9300ConfigurationCommand.c:2681:59: warning: passing argument 9 of 'ConfigSets' from incompatible pointer type [-Wincompatible-pointer-types]\\n\",\n",
       " '/local/mnt/workspace/ashok/wall_Error_repo_Feb14/date_4_4/qsdk/build_dir/target-arm_cortex-a7_musl-1.1.16_eabi/linux-ipq_ipq806x/LinuxART2CS10.2v4.9.446/devlib/ar9300/Ar9300Device.c:1950:55: warning: comparison between pointer and integer\\n',\n",
       " '/local/mnt/workspace/ashok/wall_Error_repo_Feb14/date_4_4/qsdk/build_dir/target-arm_cortex-a7_musl-1.1.16_eabi/linux-ipq_ipq806x/LinuxART2CS10.2v4.9.446/devlib/ar9300/Ar9300Device.c:2131:2: warning: initialization from incompatible pointer type [-Wincompatible-pointer-types]\\n',\n",
       " '/local/mnt/workspace/ashok/wall_Error_repo_Feb14/date_4_4/qsdk/build_dir/target-arm_cortex-a7_musl-1.1.16_eabi/linux-ipq_ipq806x/LinuxART2CS10.2v4.9.446/devlib/ar9300/Ar9300Device.c:2205:2: warning: initialization from incompatible pointer type [-Wincompatible-pointer-types]\\n',\n",
       " '/local/mnt/workspace/ashok/wall_Error_repo_Feb14/date_4_4/qsdk/build_dir/target-arm_cortex-a7_musl-1.1.16_eabi/linux-ipq_ipq806x/LinuxART2CS10.2v4.9.446/devlib/ar9300/Ar9300Device.c:3984:55: warning: comparison between pointer and integer\\n',\n",
       " '/local/mnt/workspace/ashok/wall_Error_repo_Feb14/date_4_4/qsdk/build_dir/target-arm_cortex-a7_musl-1.1.16_eabi/linux-ipq_ipq806x/LinuxART2CS10.2v4.9.446/devlib/ar9300/Ar9300Device.c:4165:2: warning: initialization from incompatible pointer type [-Wincompatible-pointer-types]\\n',\n",
       " '/local/mnt/workspace/ashok/wall_Error_repo_Feb14/date_4_4/qsdk/build_dir/target-arm_cortex-a7_musl-1.1.16_eabi/linux-ipq_ipq806x/LinuxART2CS10.2v4.9.446/devlib/ar9300/Ar9300Device.c:4239:2: warning: initialization from incompatible pointer type [-Wincompatible-pointer-types]\\n',\n",
       " \"/local/mnt/workspace/ashok/wall_Error_repo_Feb14/date_4_4/qsdk/build_dir/target-arm_cortex-a7_musl-1.1.16_eabi/linux-ipq_ipq806x/LinuxART2CS10.2v4.9.446/art/Card.h:36:44: warning: 'struct _ParameterList' declared inside parameter list\\n\",\n",
       " '/local/mnt/workspace/ashok/wall_Error_repo_Feb14/date_4_4/qsdk/build_dir/target-arm_cortex-a7_musl-1.1.16_eabi/linux-ipq_ipq806x/LinuxART2CS10.2v4.9.446/art/Card.h:36:44: warning: its scope is only this definition or declaration, which is probably not what you want\\n',\n",
       " \"/local/mnt/workspace/ashok/wall_Error_repo_Feb14/date_4_4/qsdk/build_dir/target-arm_cortex-a7_musl-1.1.16_eabi/linux-ipq_ipq806x/LinuxART2CS10.2v4.9.446/art/Card.h:46:45: warning: 'struct _ParameterList' declared inside parameter list\\n\",\n",
       " \"/local/mnt/workspace/ashok/wall_Error_repo_Feb14/date_4_4/qsdk/build_dir/target-arm_cortex-a7_musl-1.1.16_eabi/linux-ipq_ipq806x/LinuxART2CS10.2v4.9.446/art/Card.h:48:48: warning: 'struct _ParameterList' declared inside parameter list\\n\",\n",
       " '/local/mnt/workspace/ashok/wall_Error_repo_Feb14/date_4_4/qsdk/build_dir/target-arm_cortex-a7_musl-1.1.16_eabi/linux-ipq_ipq806x/LinuxART2CS10.2v4.9.446/wlan/ar9300/ar9300reg.h:3133:0: warning: \"AR_SREV_DRAGONFLY\" redefined\\n',\n",
       " \"/local/mnt/workspace/ashok/wall_Error_repo_Feb14/date_4_4/qsdk/build_dir/target-arm_cortex-a7_musl-1.1.16_eabi/linux-ipq_ipq806x/LinuxART2CS10.2v4.9.446/HALdll_proj/HAL_art/ar9300Eeprom_switchcomspdt.c:84:5: warning: incompatible implicit declaration of built-in function 'snprintf'\\n\",\n",
       " \"/local/mnt/workspace/ashok/wall_Error_repo_Feb14/date_4_4/qsdk/build_dir/target-arm_cortex-a7_musl-1.1.16_eabi/linux-ipq_ipq806x/LinuxART2CS10.2v4.9.446/HALdll_proj/HAL_art/ar9300Eeprom_switchcomspdt.c:93:5: warning: incompatible implicit declaration of built-in function 'snprintf'\\n\",\n",
       " \"/local/mnt/workspace/ashok/wall_Error_repo_Feb14/date_4_4/qsdk/build_dir/target-arm_cortex-a7_musl-1.1.16_eabi/linux-ipq_ipq806x/LinuxART2CS10.2v4.9.446/HALdll_proj/HAL_art/ar9300Eeprom_xLNA.c:125:9: warning: incompatible implicit declaration of built-in function 'snprintf'\\n\",\n",
       " \"/local/mnt/workspace/ashok/wall_Error_repo_Feb14/date_4_4/qsdk/build_dir/target-arm_cortex-a7_musl-1.1.16_eabi/linux-ipq_ipq806x/LinuxART2CS10.2v4.9.446/HALdll_proj/HAL_art/ar9300Eeprom_xLNA.c:138:9: warning: incompatible implicit declaration of built-in function 'snprintf'\\n\",\n",
       " '<command-line>:0:4: warning: ISO C99 requires whitespace after the macro name\\n',\n",
       " '<command-line>:0:4: warning: ISO C99 requires whitespace after the macro name\\n',\n",
       " '<command-line>:0:4: warning: ISO C99 requires whitespace after the macro name\\n',\n",
       " \"Link.c:3824:22: warning: incompatible implicit declaration of built-in function 'log10'\\n\",\n",
       " 'configure.ac:52: warning: AM_INIT_AUTOMAKE: two- and three-arguments forms are deprecated.  For more info, see:\\n',\n",
       " 'doc/Makefile.am:21: warning: wildcard tutorial/*.html: non-POSIX variable name\\n',\n",
       " 'doc/Makefile.am:21: warning: wildcard tutorial/*.c: non-POSIX variable name\\n',\n",
       " 'doc/Makefile.am:21: warning: wildcard tutorial/*.pdf: non-POSIX variable name\\n',\n",
       " 'doc/Makefile.am:21: warning: wildcard tutorial/images/*.png: non-POSIX variable name\\n',\n",
       " 'doc/Makefile.am:21: warning: wildcard tutorial/images/callouts/*.png: non-POSIX variable name\\n',\n",
       " 'doc/Makefile.am:21: warning: wildcard API*.html: non-POSIX variable name\\n',\n",
       " 'doc/Makefile.am:21: warning: wildcard *.1: non-POSIX variable name\\n',\n",
       " 'doc/Makefile.am:21: warning: wildcard *.xsl: non-POSIX variable name\\n',\n",
       " 'doc/Makefile.am:21: warning: wildcard *.html: non-POSIX variable name\\n',\n",
       " 'doc/Makefile.am:21: warning: wildcard *.gif: non-POSIX variable name\\n',\n",
       " 'doc/Makefile.am:21: warning: wildcard html/*.html: non-POSIX variable name\\n',\n",
       " 'doc/Makefile.am:21: warning: wildcard html/*.png: non-POSIX variable name\\n',\n",
       " 'doc/Makefile.am:301: warning: filter-out %/xmlversion.h, $(wildcard $(top_srcdir: non-POSIX variable name\\n',\n",
       " 'doc/Makefile.am:301: warning: wildcard $(top_srcdir: non-POSIX variable name\\n',\n",
       " 'configure.ac:52: warning: AM_INIT_AUTOMAKE: two- and three-arguments forms are deprecated.  For more info, see:\\n',\n",
       " 'doc/Makefile.am:21: warning: wildcard tutorial/*.html: non-POSIX variable name\\n',\n",
       " 'doc/Makefile.am:21: warning: wildcard tutorial/*.c: non-POSIX variable name\\n',\n",
       " 'doc/Makefile.am:21: warning: wildcard tutorial/*.pdf: non-POSIX variable name\\n',\n",
       " 'doc/Makefile.am:21: warning: wildcard tutorial/images/*.png: non-POSIX variable name\\n',\n",
       " 'doc/Makefile.am:21: warning: wildcard tutorial/images/callouts/*.png: non-POSIX variable name\\n',\n",
       " 'doc/Makefile.am:21: warning: wildcard API*.html: non-POSIX variable name\\n',\n",
       " 'doc/Makefile.am:21: warning: wildcard *.1: non-POSIX variable name\\n',\n",
       " 'doc/Makefile.am:21: warning: wildcard *.xsl: non-POSIX variable name\\n',\n",
       " 'doc/Makefile.am:21: warning: wildcard *.html: non-POSIX variable name\\n',\n",
       " 'doc/Makefile.am:21: warning: wildcard *.gif: non-POSIX variable name\\n',\n",
       " 'doc/Makefile.am:21: warning: wildcard html/*.html: non-POSIX variable name\\n',\n",
       " 'doc/Makefile.am:21: warning: wildcard html/*.png: non-POSIX variable name\\n',\n",
       " 'doc/Makefile.am:301: warning: filter-out %/xmlversion.h, $(wildcard $(top_srcdir: non-POSIX variable name\\n',\n",
       " 'doc/Makefile.am:301: warning: wildcard $(top_srcdir: non-POSIX variable name\\n',\n",
       " 'encoding.c:491:26: warning: cast increases required alignment of target type [-Wcast-align]\\n',\n",
       " 'encoding.c:573:27: warning: cast increases required alignment of target type [-Wcast-align]\\n',\n",
       " 'encoding.c:729:26: warning: cast increases required alignment of target type [-Wcast-align]\\n',\n",
       " 'encoding.c:815:27: warning: cast increases required alignment of target type [-Wcast-align]\\n',\n",
       " \"encoding.c:2856:12: warning: variable 'handler_in_list' set but not used [-Wunused-but-set-variable]\\n\",\n",
       " \"xmlIO.c:3872:36: warning: unused parameter 'ctxt' [-Wunused-parameter]\\n\",\n",
       " 'xmlmemory.c:113:26: warning: cast increases required alignment of target type [-Wcast-align]\\n',\n",
       " 'xmlmemory.c:113:26: warning: cast increases required alignment of target type [-Wcast-align]\\n',\n",
       " \"timsort.h:326:23: warning: format '%lu' expects argument of type 'long unsigned int', but argument 3 has type 'unsigned int' [-Wformat=]\\n\",\n",
       " \"xpath.c:4875:73: warning: ISO C forbids passing argument 4 of 'xmlHashAddEntry2__internal_alias' between function pointer and 'void *' [-Wpedantic]\\n\",\n",
       " \"xpath.c:4956:24: warning: ISO C forbids assignment between function pointer and 'void *' [-Wpedantic]\\n\",\n",
       " \"xpath.c:13552:41: warning: ISO C forbids assignment between function pointer and 'void *' [-Wpedantic]\\n\",\n",
       " \"xpath.c:13579:31: warning: ISO C forbids assignment between function pointer and 'void *' [-Wpedantic]\\n\",\n",
       " \"trionan.c:194:1: warning: 'trio_is_special_quantity' defined but not used [-Wunused-function]\\n\",\n",
       " \"trionan.c:218:1: warning: 'trio_is_negative' defined but not used [-Wunused-function]\\n\",\n",
       " 'xmlschemas.c:141:23: warning: cast increases required alignment of target type [-Wcast-align]\\n',\n",
       " 'dict.c:252:29: warning: comparison between signed and unsigned integer expressions [-Wsign-compare]\\n',\n",
       " 'dict.c:320:29: warning: comparison between signed and unsigned integer expressions [-Wsign-compare]\\n',\n",
       " \"testapi.c:12195:16: warning: 'gen_char_ptr_ptr' defined but not used [-Wunused-function]\\n\",\n",
       " \"testapi.c:12198:13: warning: 'des_char_ptr_ptr' defined but not used [-Wunused-function]\\n\",\n",
       " \"testapi.c:13133:16: warning: 'gen_const_char_ptr_ptr' defined but not used [-Wunused-function]\\n\",\n",
       " \"testapi.c:13136:13: warning: 'des_const_char_ptr_ptr' defined but not used [-Wunused-function]\\n\",\n",
       " \"testapi.c:18040:25: warning: 'gen_xmlSchematronPtr' defined but not used [-Wunused-function]\\n\",\n",
       " \"testapi.c:18043:13: warning: 'des_xmlSchematronPtr' defined but not used [-Wunused-function]\\n\",\n",
       " \"testapi.c:18060:35: warning: 'gen_xmlSchematronParserCtxtPtr' defined but not used [-Wunused-function]\\n\",\n",
       " \"testapi.c:18063:13: warning: 'des_xmlSchematronParserCtxtPtr' defined but not used [-Wunused-function]\\n\",\n",
       " \"testapi.c:18558:18: warning: 'gen_const_xmlBufPtr' defined but not used [-Wunused-function]\\n\",\n",
       " \"testapi.c:18561:13: warning: 'des_const_xmlBufPtr' defined but not used [-Wunused-function]\\n\",\n",
       " \"testapi.c:34503:27: warning: 'gen_xmlSAXHandlerPtr_ptr' defined but not used [-Wunused-function]\\n\",\n",
       " \"testapi.c:34506:13: warning: 'des_xmlSAXHandlerPtr_ptr' defined but not used [-Wunused-function]\\n\",\n",
       " \"runtest.c:2099:65: warning: unused parameter 'options' [-Wunused-parameter]\\n\",\n",
       " \"testdict.c:155:20: warning: variable 'tmp' set but not used [-Wunused-but-set-variable]\\n\",\n",
       " \"testdict.c:318:20: warning: variable 'tmp' set but not used [-Wunused-but-set-variable]\\n\",\n",
       " \"testlimits.c:1287:29: warning: format '%lu' expects argument of type 'long unsigned int', but argument 4 has type 'size_t {aka unsigned int}' [-Wformat=]\\n\",\n",
       " \"testlimits.c:1292:29: warning: format '%lu' expects argument of type 'long unsigned int', but argument 4 has type 'size_t {aka unsigned int}' [-Wformat=]\\n\",\n",
       " \"testlimits.c:1341:33: warning: format '%lu' expects argument of type 'long unsigned int', but argument 4 has type 'size_t {aka unsigned int}' [-Wformat=]\\n\",\n",
       " \"testlimits.c:1351:33: warning: format '%lu' expects argument of type 'long unsigned int', but argument 4 has type 'size_t {aka unsigned int}' [-Wformat=]\\n\",\n",
       " \"tree2.c:30:15: warning: variable 'dtd' set but not used [-Wunused-but-set-variable]\\n\",\n",
       " \"OpenWrt-libtool: install: warning: remember to run `libtool --finish /usr/lib'\\n\",\n",
       " \"OpenWrt-libtool: install: warning: `./libxml2.la' has not been installed in `/usr/lib'\\n\",\n",
       " \"OpenWrt-libtool: install: warning: `./libxml2.la' has not been installed in `/usr/lib'\\n\",\n",
       " \"route/qdisc/nssbf.c:51:26: warning: 'nssbf_class_policy' defined but not used [-Wunused-variable]\\n\",\n",
       " \"route/qdisc/nsshtb.c:51:26: warning: 'nsshtb_class_policy' defined but not used [-Wunused-variable]\\n\",\n",
       " \"cli/qdisc/nsspfifo.c:43:2: warning: implicit declaration of function 'rtnl_qdisc_nssfifo_set_set_default' [-Wimplicit-function-declaration]\\n\",\n",
       " \"cli/qdisc/nsspfifo.c:67:4: warning: implicit declaration of function 'rtnl_qdisc_nssfifo_set_limit' [-Wimplicit-function-declaration]\\n\",\n",
       " \"nf-log.c:55:26: warning: variable 'link_cache' set but not used [-Wunused-but-set-variable]\\n\",\n",
       " \"nf-queue.c:63:19: warning: variable 'link_cache' set but not used [-Wunused-but-set-variable]\\n\",\n",
       " \"nl-rule-list.c:37:19: warning: variable 'link_cache' set but not used [-Wunused-but-set-variable]\\n\",\n",
       " \"nl-neightbl-list.c:31:19: warning: variable 'link_cache' set but not used [-Wunused-but-set-variable]\\n\",\n",
       " \"nl-monitor.c:38:19: warning: variable 'link_cache' set but not used [-Wunused-but-set-variable]\\n\",\n",
       " \"nl-route-get.c:46:32: warning: variable 'route_cache' set but not used [-Wunused-but-set-variable]\\n\",\n",
       " \"nl-route-get.c:46:19: warning: variable 'link_cache' set but not used [-Wunused-but-set-variable]\\n\",\n",
       " \"OpenWrt-libtool: install: warning: relinking `libnl-genl-3.la'\\n\",\n",
       " \"OpenWrt-libtool: install: warning: relinking `libnl-route-3.la'\\n\",\n",
       " \"OpenWrt-libtool: install: warning: relinking `libnl-nf-3.la'\\n\",\n",
       " \"OpenWrt-libtool: install: warning: remember to run `libtool --finish /usr/lib'\\n\",\n",
       " \"OpenWrt-libtool: install: warning: remember to run `libtool --finish /usr/lib/libnl/cli/qdisc'\\n\",\n",
       " \"OpenWrt-libtool: install: warning: remember to run `libtool --finish /usr/lib/libnl/cli/cls'\\n\",\n",
       " \"OpenWrt-libtool: install: warning: relinking `libnl-cli-3.la'\\n\",\n",
       " \"OpenWrt-libtool: install: warning: remember to run `libtool --finish /usr/lib'\\n\",\n",
       " \"OpenWrt-libtool: install: warning: `../src/lib/libnl-cli-3.la' has not been installed in `/usr/lib'\\n\",\n",
       " \"OpenWrt-libtool: install: warning: `/local/mnt/workspace/ashok/wall_Error_repo_Feb14/date_4_4/qsdk/build_dir/target-arm_cortex-a7_musl-1.1.16_eabi/libnl-3.2.21/lib/libnl-nf-3.la' has not been installed in `/usr/lib'\\n\",\n",
       " \"OpenWrt-libtool: install: warning: `/local/mnt/workspace/ashok/wall_Error_repo_Feb14/date_4_4/qsdk/build_dir/target-arm_cortex-a7_musl-1.1.16_eabi/libnl-3.2.21/lib/libnl-genl-3.la' has not been installed in `/usr/lib'\\n\",\n",
       " \"OpenWrt-libtool: install: warning: `../lib/libnl-3.la' has not been installed in `/usr/lib'\\n\",\n",
       " \"OpenWrt-libtool: install: warning: `../lib/libnl-nf-3.la' has not been installed in `/usr/lib'\\n\",\n",
       " \"OpenWrt-libtool: install: warning: `/local/mnt/workspace/ashok/wall_Error_repo_Feb14/date_4_4/qsdk/build_dir/target-arm_cortex-a7_musl-1.1.16_eabi/libnl-3.2.21/lib/libnl-route-3.la' has not been installed in `/usr/lib'\\n\",\n",
       " \"OpenWrt-libtool: install: warning: `../lib/libnl-genl-3.la' has not been installed in `/usr/lib'\\n\",\n",
       " \"OpenWrt-libtool: install: warning: `../lib/libnl-route-3.la' has not been installed in `/usr/lib'\\n\",\n",
       " \"OpenWrt-libtool: install: warning: `/local/mnt/workspace/ashok/wall_Error_repo_Feb14/date_4_4/qsdk/build_dir/target-arm_cortex-a7_musl-1.1.16_eabi/libnl-3.2.21/lib/libnl-3.la' has not been installed in `/usr/lib'\\n\",\n",
       " \"OpenWrt-libtool: install: warning: `../src/lib/libnl-cli-3.la' has not been installed in `/usr/lib'\\n\",\n",
       " \"OpenWrt-libtool: install: warning: `/local/mnt/workspace/ashok/wall_Error_repo_Feb14/date_4_4/qsdk/build_dir/target-arm_cortex-a7_musl-1.1.16_eabi/libnl-3.2.21/lib/libnl-nf-3.la' has not been installed in `/usr/lib'\\n\",\n",
       " \"OpenWrt-libtool: install: warning: `/local/mnt/workspace/ashok/wall_Error_repo_Feb14/date_4_4/qsdk/build_dir/target-arm_cortex-a7_musl-1.1.16_eabi/libnl-3.2.21/lib/libnl-genl-3.la' has not been installed in `/usr/lib'\\n\",\n",
       " \"OpenWrt-libtool: install: warning: `../lib/libnl-3.la' has not been installed in `/usr/lib'\\n\",\n",
       " \"OpenWrt-libtool: install: warning: `../lib/libnl-nf-3.la' has not been installed in `/usr/lib'\\n\",\n",
       " \"OpenWrt-libtool: install: warning: `/local/mnt/workspace/ashok/wall_Error_repo_Feb14/date_4_4/qsdk/build_dir/target-arm_cortex-a7_musl-1.1.16_eabi/libnl-3.2.21/lib/libnl-route-3.la' has not been installed in `/usr/lib'\\n\",\n",
       " \"OpenWrt-libtool: install: warning: `../lib/libnl-genl-3.la' has not been installed in `/usr/lib'\\n\",\n",
       " \"OpenWrt-libtool: install: warning: `../lib/libnl-route-3.la' has not been installed in `/usr/lib'\\n\",\n",
       " \"OpenWrt-libtool: install: warning: `/local/mnt/workspace/ashok/wall_Error_repo_Feb14/date_4_4/qsdk/build_dir/target-arm_cortex-a7_musl-1.1.16_eabi/libnl-3.2.21/lib/libnl-3.la' has not been installed in `/usr/lib'\\n\",\n",
       " \"OpenWrt-libtool: install: warning: `../src/lib/libnl-cli-3.la' has not been installed in `/usr/lib'\\n\",\n",
       " \"OpenWrt-libtool: install: warning: `/local/mnt/workspace/ashok/wall_Error_repo_Feb14/date_4_4/qsdk/build_dir/target-arm_cortex-a7_musl-1.1.16_eabi/libnl-3.2.21/lib/libnl-nf-3.la' has not been installed in `/usr/lib'\\n\",\n",
       " \"OpenWrt-libtool: install: warning: `/local/mnt/workspace/ashok/wall_Error_repo_Feb14/date_4_4/qsdk/build_dir/target-arm_cortex-a7_musl-1.1.16_eabi/libnl-3.2.21/lib/libnl-genl-3.la' has not been installed in `/usr/lib'\\n\",\n",
       " \"OpenWrt-libtool: install: warning: `../lib/libnl-3.la' has not been installed in `/usr/lib'\\n\",\n",
       " \"OpenWrt-libtool: install: warning: `../lib/libnl-nf-3.la' has not been installed in `/usr/lib'\\n\",\n",
       " \"OpenWrt-libtool: install: warning: `/local/mnt/workspace/ashok/wall_Error_repo_Feb14/date_4_4/qsdk/build_dir/target-arm_cortex-a7_musl-1.1.16_eabi/libnl-3.2.21/lib/libnl-route-3.la' has not been installed in `/usr/lib'\\n\",\n",
       " \"OpenWrt-libtool: install: warning: `../lib/libnl-genl-3.la' has not been installed in `/usr/lib'\\n\",\n",
       " \"OpenWrt-libtool: install: warning: `../lib/libnl-route-3.la' has not been installed in `/usr/lib'\\n\",\n",
       " \"OpenWrt-libtool: install: warning: `/local/mnt/workspace/ashok/wall_Error_repo_Feb14/date_4_4/qsdk/build_dir/target-arm_cortex-a7_musl-1.1.16_eabi/libnl-3.2.21/lib/libnl-3.la' has not been installed in `/usr/lib'\\n\",\n",
       " \"OpenWrt-libtool: install: warning: `../src/lib/libnl-cli-3.la' has not been installed in `/usr/lib'\\n\",\n",
       " \"OpenWrt-libtool: install: warning: `/local/mnt/workspace/ashok/wall_Error_repo_Feb14/date_4_4/qsdk/build_dir/target-arm_cortex-a7_musl-1.1.16_eabi/libnl-3.2.21/lib/libnl-nf-3.la' has not been installed in `/usr/lib'\\n\",\n",
       " \"OpenWrt-libtool: install: warning: `/local/mnt/workspace/ashok/wall_Error_repo_Feb14/date_4_4/qsdk/build_dir/target-arm_cortex-a7_musl-1.1.16_eabi/libnl-3.2.21/lib/libnl-genl-3.la' has not been installed in `/usr/lib'\\n\",\n",
       " \"OpenWrt-libtool: install: warning: `../lib/libnl-3.la' has not been installed in `/usr/lib'\\n\",\n",
       " \"OpenWrt-libtool: install: warning: `../lib/libnl-nf-3.la' has not been installed in `/usr/lib'\\n\",\n",
       " \"OpenWrt-libtool: install: warning: `/local/mnt/workspace/ashok/wall_Error_repo_Feb14/date_4_4/qsdk/build_dir/target-arm_cortex-a7_musl-1.1.16_eabi/libnl-3.2.21/lib/libnl-route-3.la' has not been installed in `/usr/lib'\\n\",\n",
       " \"OpenWrt-libtool: install: warning: `../lib/libnl-genl-3.la' has not been installed in `/usr/lib'\\n\",\n",
       " \"OpenWrt-libtool: install: warning: `../lib/libnl-route-3.la' has not been installed in `/usr/lib'\\n\",\n",
       " \"OpenWrt-libtool: install: warning: `/local/mnt/workspace/ashok/wall_Error_repo_Feb14/date_4_4/qsdk/build_dir/target-arm_cortex-a7_musl-1.1.16_eabi/libnl-3.2.21/lib/libnl-3.la' has not been installed in `/usr/lib'\\n\",\n",
       " \"OpenWrt-libtool: install: warning: `../src/lib/libnl-cli-3.la' has not been installed in `/usr/lib'\\n\",\n",
       " \"OpenWrt-libtool: install: warning: `/local/mnt/workspace/ashok/wall_Error_repo_Feb14/date_4_4/qsdk/build_dir/target-arm_cortex-a7_musl-1.1.16_eabi/libnl-3.2.21/lib/libnl-nf-3.la' has not been installed in `/usr/lib'\\n\",\n",
       " \"OpenWrt-libtool: install: warning: `/local/mnt/workspace/ashok/wall_Error_repo_Feb14/date_4_4/qsdk/build_dir/target-arm_cortex-a7_musl-1.1.16_eabi/libnl-3.2.21/lib/libnl-genl-3.la' has not been installed in `/usr/lib'\\n\",\n",
       " \"OpenWrt-libtool: install: warning: `../lib/libnl-3.la' has not been installed in `/usr/lib'\\n\",\n",
       " \"OpenWrt-libtool: install: warning: `../lib/libnl-nf-3.la' has not been installed in `/usr/lib'\\n\",\n",
       " \"OpenWrt-libtool: install: warning: `/local/mnt/workspace/ashok/wall_Error_repo_Feb14/date_4_4/qsdk/build_dir/target-arm_cortex-a7_musl-1.1.16_eabi/libnl-3.2.21/lib/libnl-route-3.la' has not been installed in `/usr/lib'\\n\",\n",
       " \"OpenWrt-libtool: install: warning: `../lib/libnl-genl-3.la' has not been installed in `/usr/lib'\\n\",\n",
       " \"OpenWrt-libtool: install: warning: `../lib/libnl-route-3.la' has not been installed in `/usr/lib'\\n\",\n",
       " \"OpenWrt-libtool: install: warning: `/local/mnt/workspace/ashok/wall_Error_repo_Feb14/date_4_4/qsdk/build_dir/target-arm_cortex-a7_musl-1.1.16_eabi/libnl-3.2.21/lib/libnl-3.la' has not been installed in `/usr/lib'\\n\",\n",
       " \"OpenWrt-libtool: install: warning: `../src/lib/libnl-cli-3.la' has not been installed in `/usr/lib'\\n\",\n",
       " \"OpenWrt-libtool: install: warning: `/local/mnt/workspace/ashok/wall_Error_repo_Feb14/date_4_4/qsdk/build_dir/target-arm_cortex-a7_musl-1.1.16_eabi/libnl-3.2.21/lib/libnl-nf-3.la' has not been installed in `/usr/lib'\\n\",\n",
       " \"OpenWrt-libtool: install: warning: `/local/mnt/workspace/ashok/wall_Error_repo_Feb14/date_4_4/qsdk/build_dir/target-arm_cortex-a7_musl-1.1.16_eabi/libnl-3.2.21/lib/libnl-genl-3.la' has not been installed in `/usr/lib'\\n\",\n",
       " \"OpenWrt-libtool: install: warning: `../lib/libnl-3.la' has not been installed in `/usr/lib'\\n\",\n",
       " \"OpenWrt-libtool: install: warning: `../lib/libnl-nf-3.la' has not been installed in `/usr/lib'\\n\",\n",
       " \"OpenWrt-libtool: install: warning: `/local/mnt/workspace/ashok/wall_Error_repo_Feb14/date_4_4/qsdk/build_dir/target-arm_cortex-a7_musl-1.1.16_eabi/libnl-3.2.21/lib/libnl-route-3.la' has not been installed in `/usr/lib'\\n\",\n",
       " \"OpenWrt-libtool: install: warning: `../lib/libnl-genl-3.la' has not been installed in `/usr/lib'\\n\",\n",
       " \"OpenWrt-libtool: install: warning: `../lib/libnl-route-3.la' has not been installed in `/usr/lib'\\n\",\n",
       " \"OpenWrt-libtool: install: warning: `/local/mnt/workspace/ashok/wall_Error_repo_Feb14/date_4_4/qsdk/build_dir/target-arm_cortex-a7_musl-1.1.16_eabi/libnl-3.2.21/lib/libnl-3.la' has not been installed in `/usr/lib'\\n\",\n",
       " \"OpenWrt-libtool: install: warning: `../src/lib/libnl-cli-3.la' has not been installed in `/usr/lib'\\n\",\n",
       " \"OpenWrt-libtool: install: warning: `/local/mnt/workspace/ashok/wall_Error_repo_Feb14/date_4_4/qsdk/build_dir/target-arm_cortex-a7_musl-1.1.16_eabi/libnl-3.2.21/lib/libnl-nf-3.la' has not been installed in `/usr/lib'\\n\",\n",
       " \"OpenWrt-libtool: install: warning: `/local/mnt/workspace/ashok/wall_Error_repo_Feb14/date_4_4/qsdk/build_dir/target-arm_cortex-a7_musl-1.1.16_eabi/libnl-3.2.21/lib/libnl-genl-3.la' has not been installed in `/usr/lib'\\n\",\n",
       " \"OpenWrt-libtool: install: warning: `../lib/libnl-3.la' has not been installed in `/usr/lib'\\n\",\n",
       " \"OpenWrt-libtool: install: warning: `../lib/libnl-nf-3.la' has not been installed in `/usr/lib'\\n\",\n",
       " \"OpenWrt-libtool: install: warning: `/local/mnt/workspace/ashok/wall_Error_repo_Feb14/date_4_4/qsdk/build_dir/target-arm_cortex-a7_musl-1.1.16_eabi/libnl-3.2.21/lib/libnl-route-3.la' has not been installed in `/usr/lib'\\n\",\n",
       " \"OpenWrt-libtool: install: warning: `../lib/libnl-genl-3.la' has not been installed in `/usr/lib'\\n\",\n",
       " \"OpenWrt-libtool: install: warning: `../lib/libnl-route-3.la' has not been installed in `/usr/lib'\\n\",\n",
       " \"OpenWrt-libtool: install: warning: `/local/mnt/workspace/ashok/wall_Error_repo_Feb14/date_4_4/qsdk/build_dir/target-arm_cortex-a7_musl-1.1.16_eabi/libnl-3.2.21/lib/libnl-3.la' has not been installed in `/usr/lib'\\n\",\n",
       " \"OpenWrt-libtool: install: warning: `../src/lib/libnl-cli-3.la' has not been installed in `/usr/lib'\\n\",\n",
       " \"OpenWrt-libtool: install: warning: `/local/mnt/workspace/ashok/wall_Error_repo_Feb14/date_4_4/qsdk/build_dir/target-arm_cortex-a7_musl-1.1.16_eabi/libnl-3.2.21/lib/libnl-nf-3.la' has not been installed in `/usr/lib'\\n\",\n",
       " \"OpenWrt-libtool: install: warning: `/local/mnt/workspace/ashok/wall_Error_repo_Feb14/date_4_4/qsdk/build_dir/target-arm_cortex-a7_musl-1.1.16_eabi/libnl-3.2.21/lib/libnl-genl-3.la' has not been installed in `/usr/lib'\\n\",\n",
       " \"OpenWrt-libtool: install: warning: `../lib/libnl-3.la' has not been installed in `/usr/lib'\\n\",\n",
       " \"OpenWrt-libtool: install: warning: `../lib/libnl-nf-3.la' has not been installed in `/usr/lib'\\n\",\n",
       " \"OpenWrt-libtool: install: warning: `/local/mnt/workspace/ashok/wall_Error_repo_Feb14/date_4_4/qsdk/build_dir/target-arm_cortex-a7_musl-1.1.16_eabi/libnl-3.2.21/lib/libnl-route-3.la' has not been installed in `/usr/lib'\\n\",\n",
       " \"OpenWrt-libtool: install: warning: `../lib/libnl-genl-3.la' has not been installed in `/usr/lib'\\n\",\n",
       " \"OpenWrt-libtool: install: warning: `../lib/libnl-route-3.la' has not been installed in `/usr/lib'\\n\",\n",
       " \"OpenWrt-libtool: install: warning: `/local/mnt/workspace/ashok/wall_Error_repo_Feb14/date_4_4/qsdk/build_dir/target-arm_cortex-a7_musl-1.1.16_eabi/libnl-3.2.21/lib/libnl-3.la' has not been installed in `/usr/lib'\\n\",\n",
       " \"OpenWrt-libtool: install: warning: `../src/lib/libnl-cli-3.la' has not been installed in `/usr/lib'\\n\",\n",
       " \"OpenWrt-libtool: install: warning: `/local/mnt/workspace/ashok/wall_Error_repo_Feb14/date_4_4/qsdk/build_dir/target-arm_cortex-a7_musl-1.1.16_eabi/libnl-3.2.21/lib/libnl-nf-3.la' has not been installed in `/usr/lib'\\n\",\n",
       " \"OpenWrt-libtool: install: warning: `/local/mnt/workspace/ashok/wall_Error_repo_Feb14/date_4_4/qsdk/build_dir/target-arm_cortex-a7_musl-1.1.16_eabi/libnl-3.2.21/lib/libnl-genl-3.la' has not been installed in `/usr/lib'\\n\",\n",
       " \"OpenWrt-libtool: install: warning: `../lib/libnl-3.la' has not been installed in `/usr/lib'\\n\",\n",
       " \"OpenWrt-libtool: install: warning: `../lib/libnl-nf-3.la' has not been installed in `/usr/lib'\\n\",\n",
       " \"OpenWrt-libtool: install: warning: `/local/mnt/workspace/ashok/wall_Error_repo_Feb14/date_4_4/qsdk/build_dir/target-arm_cortex-a7_musl-1.1.16_eabi/libnl-3.2.21/lib/libnl-route-3.la' has not been installed in `/usr/lib'\\n\",\n",
       " \"OpenWrt-libtool: install: warning: `../lib/libnl-genl-3.la' has not been installed in `/usr/lib'\\n\",\n",
       " \"OpenWrt-libtool: install: warning: `../lib/libnl-route-3.la' has not been installed in `/usr/lib'\\n\",\n",
       " \"OpenWrt-libtool: install: warning: `/local/mnt/workspace/ashok/wall_Error_repo_Feb14/date_4_4/qsdk/build_dir/target-arm_cortex-a7_musl-1.1.16_eabi/libnl-3.2.21/lib/libnl-3.la' has not been installed in `/usr/lib'\\n\",\n",
       " \"OpenWrt-libtool: install: warning: `../src/lib/libnl-cli-3.la' has not been installed in `/usr/lib'\\n\",\n",
       " \"OpenWrt-libtool: install: warning: `/local/mnt/workspace/ashok/wall_Error_repo_Feb14/date_4_4/qsdk/build_dir/target-arm_cortex-a7_musl-1.1.16_eabi/libnl-3.2.21/lib/libnl-nf-3.la' has not been installed in `/usr/lib'\\n\",\n",
       " \"OpenWrt-libtool: install: warning: `/local/mnt/workspace/ashok/wall_Error_repo_Feb14/date_4_4/qsdk/build_dir/target-arm_cortex-a7_musl-1.1.16_eabi/libnl-3.2.21/lib/libnl-genl-3.la' has not been installed in `/usr/lib'\\n\",\n",
       " \"OpenWrt-libtool: install: warning: `../lib/libnl-3.la' has not been installed in `/usr/lib'\\n\",\n",
       " \"OpenWrt-libtool: install: warning: `../lib/libnl-nf-3.la' has not been installed in `/usr/lib'\\n\",\n",
       " \"OpenWrt-libtool: install: warning: `/local/mnt/workspace/ashok/wall_Error_repo_Feb14/date_4_4/qsdk/build_dir/target-arm_cortex-a7_musl-1.1.16_eabi/libnl-3.2.21/lib/libnl-route-3.la' has not been installed in `/usr/lib'\\n\",\n",
       " \"OpenWrt-libtool: install: warning: `../lib/libnl-genl-3.la' has not been installed in `/usr/lib'\\n\",\n",
       " \"OpenWrt-libtool: install: warning: `../lib/libnl-route-3.la' has not been installed in `/usr/lib'\\n\",\n",
       " \"OpenWrt-libtool: install: warning: `/local/mnt/workspace/ashok/wall_Error_repo_Feb14/date_4_4/qsdk/build_dir/target-arm_cortex-a7_musl-1.1.16_eabi/libnl-3.2.21/lib/libnl-3.la' has not been installed in `/usr/lib'\\n\",\n",
       " \"OpenWrt-libtool: install: warning: `../src/lib/libnl-cli-3.la' has not been installed in `/usr/lib'\\n\",\n",
       " \"OpenWrt-libtool: install: warning: `/local/mnt/workspace/ashok/wall_Error_repo_Feb14/date_4_4/qsdk/build_dir/target-arm_cortex-a7_musl-1.1.16_eabi/libnl-3.2.21/lib/libnl-nf-3.la' has not been installed in `/usr/lib'\\n\",\n",
       " \"OpenWrt-libtool: install: warning: `/local/mnt/workspace/ashok/wall_Error_repo_Feb14/date_4_4/qsdk/build_dir/target-arm_cortex-a7_musl-1.1.16_eabi/libnl-3.2.21/lib/libnl-genl-3.la' has not been installed in `/usr/lib'\\n\",\n",
       " \"OpenWrt-libtool: install: warning: `../lib/libnl-3.la' has not been installed in `/usr/lib'\\n\",\n",
       " \"OpenWrt-libtool: install: warning: `../lib/libnl-nf-3.la' has not been installed in `/usr/lib'\\n\",\n",
       " \"OpenWrt-libtool: install: warning: `/local/mnt/workspace/ashok/wall_Error_repo_Feb14/date_4_4/qsdk/build_dir/target-arm_cortex-a7_musl-1.1.16_eabi/libnl-3.2.21/lib/libnl-route-3.la' has not been installed in `/usr/lib'\\n\",\n",
       " \"OpenWrt-libtool: install: warning: `../lib/libnl-genl-3.la' has not been installed in `/usr/lib'\\n\",\n",
       " \"OpenWrt-libtool: install: warning: `../lib/libnl-route-3.la' has not been installed in `/usr/lib'\\n\",\n",
       " ...]"
      ]
     },
     "execution_count": 122,
     "metadata": {},
     "output_type": "execute_result"
    }
   ],
   "source": [
    "rowss[3:]"
   ]
  },
  {
   "cell_type": "code",
   "execution_count": 123,
   "metadata": {},
   "outputs": [],
   "source": [
    "compiler = tfidf.fit_transform(rowss[3:])"
   ]
  },
  {
   "cell_type": "code",
   "execution_count": 124,
   "metadata": {},
   "outputs": [],
   "source": [
    "compiler_model = NMF(n_components=20)"
   ]
  },
  {
   "cell_type": "code",
   "execution_count": 125,
   "metadata": {},
   "outputs": [
    {
     "data": {
      "text/plain": [
       "NMF(alpha=0.0, beta_loss='frobenius', init=None, l1_ratio=0.0, max_iter=200,\n",
       "  n_components=20, random_state=None, shuffle=False, solver='cd',\n",
       "  tol=0.0001, verbose=0)"
      ]
     },
     "execution_count": 125,
     "metadata": {},
     "output_type": "execute_result"
    }
   ],
   "source": [
    "compiler_model.fit(compiler)"
   ]
  },
  {
   "cell_type": "code",
   "execution_count": 127,
   "metadata": {},
   "outputs": [
    {
     "name": "stdout",
     "output_type": "stream",
     "text": [
      "THE TOP 15 WORDS FOR TOPIC #0\n",
      "['date_4_4', 'wall_error_repo_feb14', 'ashok', 'arm_cortex', '16_eabi', '0_musl', 'a7_gcc', 'toolchain', 'staging_dir', 'wcpp', 'redirecting', 'incorrect', 'include', 'sys', 'fcntl']\n",
      "\n",
      "\n",
      "THE TOP 15 WORDS FOR TOPIC #1\n",
      "['33', '77', '80211stats', 'u_int64_t', 'src', 'sstrip', 'aka', 'format', 'wformat', 'unsigned', 'expects', 'type', 'argument', 'long', 'int']\n",
      "\n",
      "\n",
      "THE TOP 15 WORDS FOR TOPIC #2\n",
      "['get80211param', '178', 'vorbis_ftoi', 'used', '13', 'wunused', '12', 'linux', 'function', 'declared', 'tools', 'wlanconfig', 'static', 'os', 'defined']\n",
      "\n",
      "\n",
      "THE TOP 15 WORDS FOR TOPIC #3\n",
      "['nat46', 'iso', 'macro', 'whitespace', 'c99', 'requires', 'redefined', 'iface_mgr_cfg_support', 'cc1', 'option', 'objc', 'nostdinc', 'valid', 'line', 'command']\n",
      "\n",
      "\n",
      "THE TOP 15 WORDS FOR TOPIC #4\n",
      "['2017', '09', 'utils', 'ltp', 'func_tests', 'sctp', 'testlib', 'sctputil', 'unsigned', 'integer', 'comparison', 'compare', 'signed', 'expressions', 'wsign']\n",
      "\n",
      "\n",
      "THE TOP 15 WORDS FOR TOPIC #5\n",
      "['wireless', 'drivers', 'rfc1157_snmp', '12', 'net', '14', 'shell_io', '16', 'tmp', 'used', 'wifitool', 'set', 'wunused', 'unused', 'variable']\n",
      "\n",
      "\n",
      "THE TOP 15 WORDS FOR TOPIC #6\n",
      "['drivers', 'initialization', 'cmd_data_check_uint32', '44', '45', 'cmd_data_check_uint16', 'cmd_data_check_uint8', 'argument', 'shell_io', 'type', 'passing', 'incompatible', 'wincompatible', 'types', 'pointer']\n",
      "\n",
      "\n",
      "THE TOP 15 WORDS FOR TOPIC #7\n",
      "['libbfd', 'bfd', 'libatm', 'src', 'finish', 'run', 'remember', 'libnl', 'openwrt', 'installed', 'la', 'install', 'usr', 'libtool', 'lib']\n",
      "\n",
      "\n",
      "THE TOP 15 WORDS FOR TOPIC #8\n",
      "['tests', '41', '58', 'amrwb', '54', 'common_src_dir', '100', 'enc_src_dir', 'dec_src_dir', 'amrnb', 'makefile', 'cpp', 'file', 'subdirectory', 'source']\n",
      "\n",
      "\n",
      "THE TOP 15 WORDS FOR TOPIC #9\n",
      "['programs', 'pluto', '35', '22', 'wapitalk', 'ftwp', 'stat_pointer', 'test_func', 'test_func64', 'argv', 'argc', 'sig', 'wunused', 'unused', 'parameter']\n",
      "\n",
      "\n",
      "THE TOP 15 WORDS FOR TOPIC #10\n",
      "['effect', '41', '43', 'wlanconfig_nawds', '76', '160', 'wlanconfig_vendorie', '105', 'wlanconfig_misc', 'wlanconfig_hmwds', 'value', 'wswitch', 'handled', 'switch', 'enumeration']\n",
      "\n",
      "\n",
      "THE TOP 15 WORDS FOR TOPIC #11\n",
      "['iomap', 'asm', 'dev', 'signal', 'iface_mgr_cfg_support', 'array', 'cmd_data_check_uint32', '153', 'arch', 'include', 'old', '36', 'redefined', 'test', '_gnu_source']\n",
      "\n",
      "\n",
      "THE TOP 15 WORDS FOR TOPIC #12\n",
      "['mk', 'ipq_ipq806x', 'build_dir', '16_eabi', 'arm_cortex', 'linux', 'a7_musl', 'local', 'workspace', 'ashok', 'mnt', 'wall_error_repo_feb14', 'date_4_4', 'qsdk', 'target']\n",
      "\n",
      "\n",
      "THE TOP 15 WORDS FOR TOPIC #13\n",
      "['mnt', 'local', 'wall_error_repo_feb14', '16_eabi', 'arm_cortex', '0_musl', 'toolchain', 'a7_gcc', 'staging_dir', 'wcpp', 'redirecting', 'incorrect', 'include', 'sys', 'poll']\n",
      "\n",
      "\n",
      "THE TOP 15 WORDS FOR TOPIC #14\n",
      "['cfg', 'ipq806x', 'atmf_uni', 'assignment', '13', 'type', 'hediag', 'pointer', 'target', 'initialization', 'const', 'wdiscarded', 'qualifiers', 'discards', 'qualifier']\n",
      "\n",
      "\n",
      "THE TOP 15 WORDS FOR TOPIC #15\n",
      "['btdiag', 'uninitialized', 'strcmp', 'array', 'strcpy', 'used', 'built', 'arm', 'qca', 'board', 'ipq806x', 'wimplicit', 'implicit', 'function', 'declaration']\n",
      "\n",
      "\n",
      "THE TOP 15 WORDS FOR TOPIC #16\n",
      "['cmd_data_print_uint32', 'snprintf', 'cmd_data_check_uint32', 'names', 'cmd_data_print_enable', '27', 'shell_io', 'pointer', 'argument', 'passing', 'wpointer', 'differ', 'signedness', 'sign', 'targets']\n",
      "\n",
      "\n",
      "THE TOP 15 WORDS FOR TOPIC #17\n",
      "['04', '2015', 'pptpctrl', 'type', 'pointer', '21', '187', 'procps', 'rules', 'wstrict', 'dereferencing', 'break', 'punned', 'strict', 'aliasing']\n",
      "\n",
      "\n",
      "THE TOP 15 WORDS FOR TOPIC #18\n",
      "['cxx', 'mpz', 'mpf', 'mpn', 'mpq', 'rand', 'demos', '21', '32', 'tests', 'makefile', 'old', 'includes', 'am_cppflags', '_cppflags']\n",
      "\n",
      "\n",
      "THE TOP 15 WORDS FOR TOPIC #19\n",
      "['wall_error_repo_feb14', 'ashok', 'date_4_4', 'workspace', 'mnt', 'local', 'arm_cortex', '16_eabi', 'wformat', 'a7_gcc', '0_musl', 'toolchain', 'build_dir', 'format', 'gcc']\n",
      "\n",
      "\n"
     ]
    }
   ],
   "source": [
    "for index,topic in enumerate(compiler_model.components_):\n",
    "    print(f'THE TOP 15 WORDS FOR TOPIC #{index}')\n",
    "    print([tfidf.get_feature_names()[i] for i in topic.argsort()[-15:]])\n",
    "    print('\\n')"
   ]
  },
  {
   "cell_type": "code",
   "execution_count": 128,
   "metadata": {},
   "outputs": [],
   "source": [
    "compiler_model_results = compiler_model.transform(compiler)"
   ]
  },
  {
   "cell_type": "code",
   "execution_count": 133,
   "metadata": {},
   "outputs": [
    {
     "data": {
      "text/plain": [
       "{0, 1, 2, 3, 4, 5, 6, 7, 8, 9, 10, 11, 12, 13, 14, 15, 16, 17, 18, 19}"
      ]
     },
     "execution_count": 133,
     "metadata": {},
     "output_type": "execute_result"
    }
   ],
   "source": [
    "set(compiler_model_results.argmax(axis=1))"
   ]
  },
  {
   "cell_type": "code",
   "execution_count": null,
   "metadata": {},
   "outputs": [],
   "source": []
  }
 ],
 "metadata": {
  "kernelspec": {
   "display_name": "Python 3",
   "language": "python",
   "name": "python3"
  },
  "language_info": {
   "codemirror_mode": {
    "name": "ipython",
    "version": 3
   },
   "file_extension": ".py",
   "mimetype": "text/x-python",
   "name": "python",
   "nbconvert_exporter": "python",
   "pygments_lexer": "ipython3",
   "version": "3.7.6"
  }
 },
 "nbformat": 4,
 "nbformat_minor": 4
}
